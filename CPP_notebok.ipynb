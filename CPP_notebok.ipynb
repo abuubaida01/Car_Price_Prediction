{
 "cells": [
  {
   "cell_type": "code",
   "execution_count": 1,
   "metadata": {},
   "outputs": [],
   "source": [
    "import pandas as pd \n",
    "import numpy as np\n",
    "import matplotlib.pyplot as plt \n",
    "import seaborn as sns"
   ]
  },
  {
   "cell_type": "code",
   "execution_count": 2,
   "metadata": {},
   "outputs": [],
   "source": [
    "df = pd.read_csv(r\"C:\\Users\\Abu Ubaida\\Desktop\\Projects\\Data\\updated_pakwheels.csv\")"
   ]
  },
  {
   "cell_type": "code",
   "execution_count": 3,
   "metadata": {},
   "outputs": [
    {
     "data": {
      "text/html": [
       "<div>\n",
       "<style scoped>\n",
       "    .dataframe tbody tr th:only-of-type {\n",
       "        vertical-align: middle;\n",
       "    }\n",
       "\n",
       "    .dataframe tbody tr th {\n",
       "        vertical-align: top;\n",
       "    }\n",
       "\n",
       "    .dataframe thead th {\n",
       "        text-align: right;\n",
       "    }\n",
       "</style>\n",
       "<table border=\"1\" class=\"dataframe\">\n",
       "  <thead>\n",
       "    <tr style=\"text-align: right;\">\n",
       "      <th></th>\n",
       "      <th>Ad No</th>\n",
       "      <th>Name</th>\n",
       "      <th>Price</th>\n",
       "      <th>Model Year</th>\n",
       "      <th>Location</th>\n",
       "      <th>Mileage</th>\n",
       "      <th>Registered City</th>\n",
       "      <th>Engine Type</th>\n",
       "      <th>Engine Capacity</th>\n",
       "      <th>Transmission</th>\n",
       "      <th>Color</th>\n",
       "      <th>Assembly</th>\n",
       "      <th>Body Type</th>\n",
       "      <th>Features</th>\n",
       "      <th>Last Updated</th>\n",
       "      <th>URL</th>\n",
       "    </tr>\n",
       "  </thead>\n",
       "  <tbody>\n",
       "    <tr>\n",
       "      <th>0</th>\n",
       "      <td>4096758</td>\n",
       "      <td>Toyota Vitz F 1.0 2017</td>\n",
       "      <td>2385000</td>\n",
       "      <td>2017</td>\n",
       "      <td>G- 8, Islamabad Islamabad</td>\n",
       "      <td>9869</td>\n",
       "      <td>Un-Registered</td>\n",
       "      <td>1</td>\n",
       "      <td>1000</td>\n",
       "      <td>1</td>\n",
       "      <td>Silver</td>\n",
       "      <td>Imported</td>\n",
       "      <td>1</td>\n",
       "      <td>ABS, AM/FM Radio, Air Bags, Air Conditioning,...</td>\n",
       "      <td>11-Jul-20</td>\n",
       "      <td>https://www.pakwheels.com/used-cars/toyota-vit...</td>\n",
       "    </tr>\n",
       "    <tr>\n",
       "      <th>1</th>\n",
       "      <td>4168305</td>\n",
       "      <td>Toyota Corolla GLi Automatic 1.3 VVTi 2019</td>\n",
       "      <td>111000</td>\n",
       "      <td>2019</td>\n",
       "      <td>Peshawar KPK</td>\n",
       "      <td>11111</td>\n",
       "      <td>Islamabad</td>\n",
       "      <td>1</td>\n",
       "      <td>1300</td>\n",
       "      <td>1</td>\n",
       "      <td>White</td>\n",
       "      <td>Local</td>\n",
       "      <td>2</td>\n",
       "      <td>ABS, AM/FM Radio, Air Bags, Air Conditioning,...</td>\n",
       "      <td>12-Jul-20</td>\n",
       "      <td>https://www.pakwheels.com/used-cars/toyota-cor...</td>\n",
       "    </tr>\n",
       "    <tr>\n",
       "      <th>2</th>\n",
       "      <td>4168298</td>\n",
       "      <td>Suzuki Alto VXL 2019</td>\n",
       "      <td>1530000</td>\n",
       "      <td>2019</td>\n",
       "      <td>Akora Khattak, Nowshera KPK</td>\n",
       "      <td>17500</td>\n",
       "      <td>Un-Registered</td>\n",
       "      <td>1</td>\n",
       "      <td>660</td>\n",
       "      <td>1</td>\n",
       "      <td>White</td>\n",
       "      <td>Local</td>\n",
       "      <td>1</td>\n",
       "      <td>ABS, AM/FM Radio, Air Bags, Air Conditioning,...</td>\n",
       "      <td>12-Jul-20</td>\n",
       "      <td>https://www.pakwheels.com/used-cars/suzuki-alt...</td>\n",
       "    </tr>\n",
       "    <tr>\n",
       "      <th>3</th>\n",
       "      <td>4168307</td>\n",
       "      <td>Suzuki Alto VXR 2019</td>\n",
       "      <td>1650000</td>\n",
       "      <td>2019</td>\n",
       "      <td>Abdullahpur, Faisalabad Punjab</td>\n",
       "      <td>9600</td>\n",
       "      <td>Lahore</td>\n",
       "      <td>1</td>\n",
       "      <td>660</td>\n",
       "      <td>2</td>\n",
       "      <td>White</td>\n",
       "      <td>Local</td>\n",
       "      <td>1</td>\n",
       "      <td>AM/FM Radio, Air Bags, Air Conditioning, DVD ...</td>\n",
       "      <td>12-Jul-20</td>\n",
       "      <td>https://www.pakwheels.com/used-cars/suzuki-alt...</td>\n",
       "    </tr>\n",
       "    <tr>\n",
       "      <th>4</th>\n",
       "      <td>4168306</td>\n",
       "      <td>Toyota Corolla XLi VVTi 2010</td>\n",
       "      <td>1435000</td>\n",
       "      <td>2010</td>\n",
       "      <td>9th Avenue, Islamabad Islamabad</td>\n",
       "      <td>120000</td>\n",
       "      <td>Islamabad</td>\n",
       "      <td>1</td>\n",
       "      <td>1300</td>\n",
       "      <td>2</td>\n",
       "      <td>Black</td>\n",
       "      <td>Local</td>\n",
       "      <td>2</td>\n",
       "      <td>AM/FM Radio, Air Conditioning, CD Player, Key...</td>\n",
       "      <td>12-Jul-20</td>\n",
       "      <td>https://www.pakwheels.com/used-cars/toyota-cor...</td>\n",
       "    </tr>\n",
       "  </tbody>\n",
       "</table>\n",
       "</div>"
      ],
      "text/plain": [
       "     Ad No                                        Name    Price  Model Year  \\\n",
       "0  4096758                      Toyota Vitz F 1.0 2017  2385000        2017   \n",
       "1  4168305  Toyota Corolla GLi Automatic 1.3 VVTi 2019   111000        2019   \n",
       "2  4168298                        Suzuki Alto VXL 2019  1530000        2019   \n",
       "3  4168307                        Suzuki Alto VXR 2019  1650000        2019   \n",
       "4  4168306                Toyota Corolla XLi VVTi 2010  1435000        2010   \n",
       "\n",
       "                           Location  Mileage Registered City  Engine Type  \\\n",
       "0         G- 8, Islamabad Islamabad     9869   Un-Registered            1   \n",
       "1                      Peshawar KPK    11111       Islamabad            1   \n",
       "2       Akora Khattak, Nowshera KPK    17500   Un-Registered            1   \n",
       "3    Abdullahpur, Faisalabad Punjab     9600          Lahore            1   \n",
       "4   9th Avenue, Islamabad Islamabad   120000       Islamabad            1   \n",
       "\n",
       "   Engine Capacity  Transmission   Color  Assembly  Body Type  \\\n",
       "0             1000             1  Silver  Imported          1   \n",
       "1             1300             1   White     Local          2   \n",
       "2              660             1   White     Local          1   \n",
       "3              660             2   White     Local          1   \n",
       "4             1300             2   Black     Local          2   \n",
       "\n",
       "                                            Features Last Updated  \\\n",
       "0   ABS, AM/FM Radio, Air Bags, Air Conditioning,...    11-Jul-20   \n",
       "1   ABS, AM/FM Radio, Air Bags, Air Conditioning,...    12-Jul-20   \n",
       "2   ABS, AM/FM Radio, Air Bags, Air Conditioning,...    12-Jul-20   \n",
       "3   AM/FM Radio, Air Bags, Air Conditioning, DVD ...    12-Jul-20   \n",
       "4   AM/FM Radio, Air Conditioning, CD Player, Key...    12-Jul-20   \n",
       "\n",
       "                                                 URL  \n",
       "0  https://www.pakwheels.com/used-cars/toyota-vit...  \n",
       "1  https://www.pakwheels.com/used-cars/toyota-cor...  \n",
       "2  https://www.pakwheels.com/used-cars/suzuki-alt...  \n",
       "3  https://www.pakwheels.com/used-cars/suzuki-alt...  \n",
       "4  https://www.pakwheels.com/used-cars/toyota-cor...  "
      ]
     },
     "execution_count": 3,
     "metadata": {},
     "output_type": "execute_result"
    }
   ],
   "source": [
    "df.head()"
   ]
  },
  {
   "cell_type": "markdown",
   "metadata": {},
   "source": [
    "# **EDA**"
   ]
  },
  {
   "cell_type": "code",
   "execution_count": 4,
   "metadata": {},
   "outputs": [
    {
     "name": "stdout",
     "output_type": "stream",
     "text": [
      "<class 'pandas.core.frame.DataFrame'>\n",
      "RangeIndex: 46023 entries, 0 to 46022\n",
      "Data columns (total 16 columns):\n",
      " #   Column           Non-Null Count  Dtype \n",
      "---  ------           --------------  ----- \n",
      " 0   Ad No            46023 non-null  int64 \n",
      " 1   Name             46023 non-null  object\n",
      " 2   Price            46023 non-null  int64 \n",
      " 3   Model Year       46023 non-null  int64 \n",
      " 4   Location         46023 non-null  object\n",
      " 5   Mileage          46023 non-null  int64 \n",
      " 6   Registered City  46023 non-null  object\n",
      " 7   Engine Type      46023 non-null  int64 \n",
      " 8   Engine Capacity  46023 non-null  int64 \n",
      " 9   Transmission     46023 non-null  int64 \n",
      " 10  Color            46023 non-null  object\n",
      " 11  Assembly         46023 non-null  object\n",
      " 12  Body Type        46023 non-null  int64 \n",
      " 13  Features         43502 non-null  object\n",
      " 14  Last Updated     46023 non-null  object\n",
      " 15  URL              46023 non-null  object\n",
      "dtypes: int64(8), object(8)\n",
      "memory usage: 5.6+ MB\n"
     ]
    },
    {
     "data": {
      "text/plain": [
       "(46023, 16)"
      ]
     },
     "execution_count": 4,
     "metadata": {},
     "output_type": "execute_result"
    }
   ],
   "source": [
    "df.info()\n",
    "df.shape"
   ]
  },
  {
   "cell_type": "code",
   "execution_count": 5,
   "metadata": {},
   "outputs": [
    {
     "name": "stdout",
     "output_type": "stream",
     "text": [
      "<class 'pandas.core.series.Series'>\n",
      "RangeIndex: 46023 entries, 0 to 46022\n",
      "Series name: Ad No\n",
      "Non-Null Count  Dtype\n",
      "--------------  -----\n",
      "46023 non-null  int64\n",
      "dtypes: int64(1)\n",
      "memory usage: 359.7 KB\n"
     ]
    }
   ],
   "source": [
    "#let's start, column wise...\n",
    "df['Ad No'].info() #let's remove this, I don't need "
   ]
  },
  {
   "cell_type": "markdown",
   "metadata": {},
   "source": [
    "- let's explore Name column"
   ]
  },
  {
   "cell_type": "code",
   "execution_count": 6,
   "metadata": {},
   "outputs": [
    {
     "data": {
      "text/plain": [
       "Honda Civic Oriel 1.8 i-VTEC CVT 2017    381\n",
       "Suzuki Wagon R VXL 2018                  362\n",
       "Suzuki Mehran VXR Euro II 2018           355\n",
       "Honda Civic Oriel 1.8 i-VTEC CVT 2018    332\n",
       "Suzuki Wagon R VXL 2019                  300\n",
       "                                        ... \n",
       "Honda Freed G 2013                         1\n",
       "Mitsubishi Pajero Mini VR 2008             1\n",
       "Toyota Corolla Altis Manual 1.6 2015       1\n",
       "Toyota Vitz B S Edition 1.0 2010           1\n",
       "Toyota Prado TX Limited 3.4 2006           1\n",
       "Name: Name, Length: 4826, dtype: int64"
      ]
     },
     "execution_count": 6,
     "metadata": {},
     "output_type": "execute_result"
    }
   ],
   "source": [
    "df.Name.value_counts()"
   ]
  },
  {
   "cell_type": "code",
   "execution_count": 7,
   "metadata": {},
   "outputs": [
    {
     "data": {
      "text/plain": [
       "array(['Toyota Vitz F 1.0 2017',\n",
       "       'Toyota Corolla GLi Automatic 1.3 VVTi 2019',\n",
       "       'Suzuki Alto VXL 2019', ..., 'Range Rover Vogue 5.0 V8 2009',\n",
       "       'Honda Vamos Hobio G 2011', 'Toyota Prado TX Limited 3.4 2006'],\n",
       "      dtype=object)"
      ]
     },
     "execution_count": 7,
     "metadata": {},
     "output_type": "execute_result"
    }
   ],
   "source": [
    "df.Name.unique()"
   ]
  },
  {
   "cell_type": "markdown",
   "metadata": {},
   "source": [
    "- Model Year"
   ]
  },
  {
   "cell_type": "code",
   "execution_count": 8,
   "metadata": {},
   "outputs": [
    {
     "name": "stderr",
     "output_type": "stream",
     "text": [
      "c:\\Users\\Abu Ubaida\\anaconda3\\lib\\site-packages\\seaborn\\_decorators.py:36: FutureWarning: Pass the following variable as a keyword arg: x. From version 0.12, the only valid positional argument will be `data`, and passing other arguments without an explicit keyword will result in an error or misinterpretation.\n",
      "  warnings.warn(\n"
     ]
    },
    {
     "data": {
      "image/png": "[encoded data removed]",
      "text/plain": [
       "<Figure size 1080x576 with 1 Axes>"
      ]
     },
     "metadata": {
      "needs_background": "light"
     },
     "output_type": "display_data"
    }
   ],
   "source": [
    "plt.figure(figsize=(15,8))\n",
    "sns.countplot(df['Model Year'])\n",
    "plt.xticks(color='r', weight='bold')\n",
    "plt.show()\n",
    "# df['Model Year'].value_counts() #Same by this\n"
   ]
  },
  {
   "cell_type": "markdown",
   "metadata": {},
   "source": [
    "- Location "
   ]
  },
  {
   "cell_type": "code",
   "execution_count": 9,
   "metadata": {},
   "outputs": [
    {
     "data": {
      "text/plain": [
       " Lahore Punjab                        2101\n",
       " Islamabad Islamabad                  1753\n",
       " Karachi Sindh                        1534\n",
       " Rawalpindi Punjab                     995\n",
       " DHA Defence, Lahore Punjab            825\n",
       "                                      ... \n",
       " Chunian Main Road, Chunian Punjab       1\n",
       " Aziz Avenue , Lahore Punjab             1\n",
       " Saeedabad, Peshawar KPK                 1\n",
       " Janjua Town, Rawalpindi Punjab          1\n",
       " Shahpur Kanjra, Lahore Punjab           1\n",
       "Name: Location, Length: 2068, dtype: int64"
      ]
     },
     "execution_count": 9,
     "metadata": {},
     "output_type": "execute_result"
    }
   ],
   "source": [
    "# this is the location of car owner\n",
    "df.Location.value_counts()"
   ]
  },
  {
   "cell_type": "code",
   "execution_count": 10,
   "metadata": {},
   "outputs": [
    {
     "name": "stdout",
     "output_type": "stream",
     "text": [
      "[' G- 8, Islamabad Islamabad' ' Peshawar KPK'\n",
      " ' Akora Khattak, Nowshera KPK' ... ' Al Hamra Town, Lahore Punjab'\n",
      " ' PAF Housing Scheme, Karachi Sindh' ' Shahpur Kanjra, Lahore Punjab']\n"
     ]
    },
    {
     "data": {
      "text/plain": [
       "2068"
      ]
     },
     "execution_count": 10,
     "metadata": {},
     "output_type": "execute_result"
    }
   ],
   "source": [
    "print(df.Location.unique())\n",
    "df.Location.nunique()\n"
   ]
  },
  {
   "cell_type": "markdown",
   "metadata": {},
   "source": [
    "- Mileage"
   ]
  },
  {
   "cell_type": "code",
   "execution_count": 11,
   "metadata": {},
   "outputs": [
    {
     "name": "stdout",
     "output_type": "stream",
     "text": [
      "100000    2230\n",
      "150000    1266\n",
      "80000     1030\n",
      "120000     885\n",
      "200000     880\n",
      "          ... \n",
      "103287       1\n",
      "165223       1\n",
      "20750        1\n",
      "135820       1\n",
      "103269       1\n",
      "Name: Mileage, Length: 5573, dtype: int64\n",
      "5573\n"
     ]
    }
   ],
   "source": [
    "print(df.Mileage.value_counts())\n",
    "print(df.Mileage.nunique())"
   ]
  },
  {
   "cell_type": "markdown",
   "metadata": {},
   "source": [
    "- Registered City"
   ]
  },
  {
   "cell_type": "code",
   "execution_count": 12,
   "metadata": {},
   "outputs": [
    {
     "data": {
      "text/plain": [
       "Islamabad         10690\n",
       "Karachi           10113\n",
       "Un-Registered      3329\n",
       "Rawalpindi         1077\n",
       "Multan             1002\n",
       "Faisalabad          608\n",
       "Peshawar            501\n",
       "Sialkot             210\n",
       "Bahawalpur          178\n",
       "Gujranwala          150\n",
       "Hyderabad           102\n",
       "Rahim Yar Khan       95\n",
       "Sargodha             65\n",
       "Abottabad            63\n",
       "Name: Registered City, dtype: int64"
      ]
     },
     "execution_count": 12,
     "metadata": {},
     "output_type": "execute_result"
    }
   ],
   "source": [
    "df['Registered City'].value_counts()[1:15]\n"
   ]
  },
  {
   "cell_type": "markdown",
   "metadata": {},
   "source": [
    "- Engine Type"
   ]
  },
  {
   "cell_type": "code",
   "execution_count": 13,
   "metadata": {},
   "outputs": [],
   "source": [
    "df[\"Engine Type\"] = df['Engine Type'].replace({1:\"Petrol\", 2:'Diesel',3:\"Hybrid\"})"
   ]
  },
  {
   "cell_type": "code",
   "execution_count": 14,
   "metadata": {},
   "outputs": [
    {
     "name": "stderr",
     "output_type": "stream",
     "text": [
      "c:\\Users\\Abu Ubaida\\anaconda3\\lib\\site-packages\\seaborn\\_decorators.py:36: FutureWarning: Pass the following variable as a keyword arg: x. From version 0.12, the only valid positional argument will be `data`, and passing other arguments without an explicit keyword will result in an error or misinterpretation.\n",
      "  warnings.warn(\n"
     ]
    },
    {
     "data": {
      "image/png": "[encoded data removed]",
      "text/plain": [
       "<Figure size 1080x576 with 1 Axes>"
      ]
     },
     "metadata": {
      "needs_background": "light"
     },
     "output_type": "display_data"
    }
   ],
   "source": [
    "plt.figure(figsize=(15,8))\n",
    "sns.countplot(df['Engine Type'])\n",
    "plt.xticks(color='r', weight='bold')\n",
    "plt.show()"
   ]
  },
  {
   "cell_type": "markdown",
   "metadata": {},
   "source": [
    "- Color "
   ]
  },
  {
   "cell_type": "code",
   "execution_count": 15,
   "metadata": {},
   "outputs": [
    {
     "data": {
      "text/plain": [
       "White        17588\n",
       "Silver        8007\n",
       "Black         6026\n",
       "Grey          5038\n",
       "Blue          2127\n",
       "Assembly      1382\n",
       "Gold          1003\n",
       "Maroon         924\n",
       "Red            822\n",
       "Green          770\n",
       "Beige          580\n",
       "Burgundy       307\n",
       "Brown          269\n",
       "Turquoise      230\n",
       "Bronze         211\n",
       "Pink           194\n",
       "Navy           120\n",
       "Unlisted       109\n",
       "Yellow          98\n",
       "Purple          90\n",
       "Indigo          85\n",
       "Orange          40\n",
       "Magenta          2\n",
       "Wine             1\n",
       "Name: Color, dtype: int64"
      ]
     },
     "execution_count": 15,
     "metadata": {},
     "output_type": "execute_result"
    }
   ],
   "source": [
    "df.Color.value_counts()"
   ]
  },
  {
   "cell_type": "markdown",
   "metadata": {},
   "source": [
    "- Engine Capacity"
   ]
  },
  {
   "cell_type": "code",
   "execution_count": 16,
   "metadata": {},
   "outputs": [
    {
     "name": "stdout",
     "output_type": "stream",
     "text": [
      "1000    10033\n",
      "1300     9600\n",
      "800      6471\n",
      "1500     5001\n",
      "1800     4894\n",
      "        ...  \n",
      "3199        1\n",
      "6600        1\n",
      "4800        1\n",
      "16          1\n",
      "950         1\n",
      "Name: Engine Capacity, Length: 75, dtype: int64\n",
      "75 unique values\n"
     ]
    }
   ],
   "source": [
    "print(df['Engine Capacity'].value_counts())\n",
    "print((df['Engine Capacity'].nunique()), 'unique values')"
   ]
  },
  {
   "cell_type": "markdown",
   "metadata": {},
   "source": [
    "- Transmission"
   ]
  },
  {
   "cell_type": "code",
   "execution_count": 17,
   "metadata": {},
   "outputs": [
    {
     "data": {
      "text/plain": [
       "2    24612\n",
       "1    21411\n",
       "Name: Transmission, dtype: int64"
      ]
     },
     "execution_count": 17,
     "metadata": {},
     "output_type": "execute_result"
    }
   ],
   "source": [
    "df.Transmission.value_counts()"
   ]
  },
  {
   "cell_type": "code",
   "execution_count": 18,
   "metadata": {},
   "outputs": [
    {
     "data": {
      "text/plain": [
       "Manual       24612\n",
       "Automatic    21411\n",
       "Name: Transmission, dtype: int64"
      ]
     },
     "execution_count": 18,
     "metadata": {},
     "output_type": "execute_result"
    }
   ],
   "source": [
    "df.Transmission = df.Transmission.replace({1:'Automatic', 2:'Manual'})\n",
    "df.Transmission.value_counts()\n"
   ]
  },
  {
   "cell_type": "markdown",
   "metadata": {},
   "source": [
    "- Assembly"
   ]
  },
  {
   "cell_type": "code",
   "execution_count": 19,
   "metadata": {},
   "outputs": [
    {
     "name": "stderr",
     "output_type": "stream",
     "text": [
      "c:\\Users\\Abu Ubaida\\anaconda3\\lib\\site-packages\\seaborn\\_decorators.py:36: FutureWarning: Pass the following variable as a keyword arg: x. From version 0.12, the only valid positional argument will be `data`, and passing other arguments without an explicit keyword will result in an error or misinterpretation.\n",
      "  warnings.warn(\n"
     ]
    },
    {
     "data": {
      "image/png": "[encoded data removed]",
      "text/plain": [
       "<Figure size 1080x576 with 1 Axes>"
      ]
     },
     "metadata": {
      "needs_background": "light"
     },
     "output_type": "display_data"
    }
   ],
   "source": [
    "plt.figure(figsize=(15,8))\n",
    "sns.countplot(df.Assembly)\n",
    "plt.xticks(color='r', weight='bold')\n",
    "plt.show()"
   ]
  },
  {
   "cell_type": "markdown",
   "metadata": {},
   "source": [
    "- Body Type "
   ]
  },
  {
   "cell_type": "markdown",
   "metadata": {},
   "source": [
    "- Body type is broken down in 1 to 6 where: 1 for Hatchback 2 for Sedan 3 for Suv 4 for mini van 5 for Crossover 6 for Van\n",
    "\n"
   ]
  },
  {
   "cell_type": "code",
   "execution_count": 20,
   "metadata": {},
   "outputs": [
    {
     "data": {
      "text/plain": [
       "Hatchback    21576\n",
       "Sedan        18985\n",
       "Suv           2390\n",
       "Mini Van      1199\n",
       "Crossover     1182\n",
       "Van            691\n",
       "Name: Body Type, dtype: int64"
      ]
     },
     "execution_count": 20,
     "metadata": {},
     "output_type": "execute_result"
    }
   ],
   "source": [
    "# df['Body Type'].value_counts()\n",
    "df['Body Type'] = df['Body Type'].replace({1:'Hatchback', 2:\"Sedan\", 3:'Suv', 4:'Mini Van', 5:'Crossover', 6:'Van' })\n",
    "df['Body Type'].value_counts()"
   ]
  },
  {
   "cell_type": "code",
   "execution_count": 21,
   "metadata": {},
   "outputs": [
    {
     "name": "stderr",
     "output_type": "stream",
     "text": [
      "c:\\Users\\Abu Ubaida\\anaconda3\\lib\\site-packages\\seaborn\\_decorators.py:36: FutureWarning: Pass the following variable as a keyword arg: x. From version 0.12, the only valid positional argument will be `data`, and passing other arguments without an explicit keyword will result in an error or misinterpretation.\n",
      "  warnings.warn(\n"
     ]
    },
    {
     "data": {
      "image/png": "[encoded data removed]",
      "text/plain": [
       "<Figure size 1080x576 with 1 Axes>"
      ]
     },
     "metadata": {
      "needs_background": "light"
     },
     "output_type": "display_data"
    }
   ],
   "source": [
    "plt.figure(figsize=(15,8))\n",
    "sns.countplot(df['Body Type'])\n",
    "plt.xticks(color='r', weight='bold')\n",
    "plt.show()"
   ]
  },
  {
   "cell_type": "markdown",
   "metadata": {},
   "source": [
    "# let's see features of car\n"
   ]
  },
  {
   "cell_type": "code",
   "execution_count": 22,
   "metadata": {},
   "outputs": [
    {
     "data": {
      "text/plain": [
       "2666      ABS, AM/FM Radio, Air Conditioning, Alloy Rim...\n",
       "7061      AM/FM Radio, Air Conditioning, Alloy Rims, Ca...\n",
       "26143     AM/FM Radio, Air Conditioning, Cassette Playe...\n",
       "21670     ABS, AM/FM Radio, Air Bags, Air Conditioning,...\n",
       "31738     ABS, AM/FM Radio, Air Conditioning, Alloy Rim...\n",
       "21437     ABS, AM/FM Radio, Air Bags, Air Conditioning,...\n",
       "26473                         AM/FM Radio, Immobilizer Key\n",
       "17765     ABS, AM/FM Radio, Air Bags, Air Conditioning,...\n",
       "5042      ABS, AM/FM Radio, Air Bags, Air Conditioning,...\n",
       "44238                                                  NaN\n",
       "Name: Features, dtype: object"
      ]
     },
     "execution_count": 22,
     "metadata": {},
     "output_type": "execute_result"
    }
   ],
   "source": [
    "df.Features.sample(10)"
   ]
  },
  {
   "cell_type": "code",
   "execution_count": 23,
   "metadata": {},
   "outputs": [
    {
     "name": "stdout",
     "output_type": "stream",
     "text": [
      "5.8 %\n"
     ]
    }
   ],
   "source": [
    "print(np.round(df.Features.isnull().sum()/df.Features.count()*100,2), \"%\")\n",
    "\n",
    "## will see it during feature Engineering."
   ]
  },
  {
   "cell_type": "markdown",
   "metadata": {},
   "source": [
    "##### After Skimming, I will remove some feature, as they are not suitable for my model"
   ]
  },
  {
   "cell_type": "markdown",
   "metadata": {},
   "source": [
    "- Let's see Correlation with respect to price"
   ]
  },
  {
   "cell_type": "code",
   "execution_count": 24,
   "metadata": {},
   "outputs": [
    {
     "data": {
      "text/html": [
       "<div>\n",
       "<style scoped>\n",
       "    .dataframe tbody tr th:only-of-type {\n",
       "        vertical-align: middle;\n",
       "    }\n",
       "\n",
       "    .dataframe tbody tr th {\n",
       "        vertical-align: top;\n",
       "    }\n",
       "\n",
       "    .dataframe thead th {\n",
       "        text-align: right;\n",
       "    }\n",
       "</style>\n",
       "<table border=\"1\" class=\"dataframe\">\n",
       "  <thead>\n",
       "    <tr style=\"text-align: right;\">\n",
       "      <th></th>\n",
       "      <th>Ad No</th>\n",
       "      <th>Price</th>\n",
       "      <th>Model Year</th>\n",
       "      <th>Mileage</th>\n",
       "      <th>Engine Capacity</th>\n",
       "    </tr>\n",
       "  </thead>\n",
       "  <tbody>\n",
       "    <tr>\n",
       "      <th>Ad No</th>\n",
       "      <td>1.000000</td>\n",
       "      <td>-0.078896</td>\n",
       "      <td>0.004357</td>\n",
       "      <td>0.030116</td>\n",
       "      <td>-0.069788</td>\n",
       "    </tr>\n",
       "    <tr>\n",
       "      <th>Price</th>\n",
       "      <td>-0.078896</td>\n",
       "      <td>1.000000</td>\n",
       "      <td>0.217495</td>\n",
       "      <td>-0.188655</td>\n",
       "      <td>0.645924</td>\n",
       "    </tr>\n",
       "    <tr>\n",
       "      <th>Model Year</th>\n",
       "      <td>0.004357</td>\n",
       "      <td>0.217495</td>\n",
       "      <td>1.000000</td>\n",
       "      <td>-0.604301</td>\n",
       "      <td>-0.151290</td>\n",
       "    </tr>\n",
       "    <tr>\n",
       "      <th>Mileage</th>\n",
       "      <td>0.030116</td>\n",
       "      <td>-0.188655</td>\n",
       "      <td>-0.604301</td>\n",
       "      <td>1.000000</td>\n",
       "      <td>0.098138</td>\n",
       "    </tr>\n",
       "    <tr>\n",
       "      <th>Engine Capacity</th>\n",
       "      <td>-0.069788</td>\n",
       "      <td>0.645924</td>\n",
       "      <td>-0.151290</td>\n",
       "      <td>0.098138</td>\n",
       "      <td>1.000000</td>\n",
       "    </tr>\n",
       "  </tbody>\n",
       "</table>\n",
       "</div>"
      ],
      "text/plain": [
       "                    Ad No     Price  Model Year   Mileage  Engine Capacity\n",
       "Ad No            1.000000 -0.078896    0.004357  0.030116        -0.069788\n",
       "Price           -0.078896  1.000000    0.217495 -0.188655         0.645924\n",
       "Model Year       0.004357  0.217495    1.000000 -0.604301        -0.151290\n",
       "Mileage          0.030116 -0.188655   -0.604301  1.000000         0.098138\n",
       "Engine Capacity -0.069788  0.645924   -0.151290  0.098138         1.000000"
      ]
     },
     "execution_count": 24,
     "metadata": {},
     "output_type": "execute_result"
    }
   ],
   "source": [
    "df.corr()"
   ]
  },
  {
   "cell_type": "code",
   "execution_count": 25,
   "metadata": {},
   "outputs": [
    {
     "name": "stdout",
     "output_type": "stream",
     "text": [
      "<class 'pandas.core.frame.DataFrame'>\n",
      "RangeIndex: 46023 entries, 0 to 46022\n",
      "Data columns (total 16 columns):\n",
      " #   Column           Non-Null Count  Dtype \n",
      "---  ------           --------------  ----- \n",
      " 0   Ad No            46023 non-null  int64 \n",
      " 1   Name             46023 non-null  object\n",
      " 2   Price            46023 non-null  int64 \n",
      " 3   Model Year       46023 non-null  int64 \n",
      " 4   Location         46023 non-null  object\n",
      " 5   Mileage          46023 non-null  int64 \n",
      " 6   Registered City  46023 non-null  object\n",
      " 7   Engine Type      46023 non-null  object\n",
      " 8   Engine Capacity  46023 non-null  int64 \n",
      " 9   Transmission     46023 non-null  object\n",
      " 10  Color            46023 non-null  object\n",
      " 11  Assembly         46023 non-null  object\n",
      " 12  Body Type        46023 non-null  object\n",
      " 13  Features         43502 non-null  object\n",
      " 14  Last Updated     46023 non-null  object\n",
      " 15  URL              46023 non-null  object\n",
      "dtypes: int64(5), object(11)\n",
      "memory usage: 5.6+ MB\n"
     ]
    }
   ],
   "source": [
    "df.info()"
   ]
  },
  {
   "cell_type": "markdown",
   "metadata": {},
   "source": [
    "- Location, I think this will not be useful for price prediction \n",
    "- I just need to predict the price of car, no need of URL\n",
    "- Registered City is again, useless feature for our model\n",
    "- No need of Ad-no "
   ]
  },
  {
   "cell_type": "code",
   "execution_count": 26,
   "metadata": {},
   "outputs": [],
   "source": [
    "## dropping some features \n",
    "df.drop(columns={'Location', \"Last Updated\", \"URL\", 'Registered City','Ad No'}, inplace=True)"
   ]
  },
  {
   "cell_type": "markdown",
   "metadata": {},
   "source": [
    "# **Feature Engineering**"
   ]
  },
  {
   "cell_type": "code",
   "execution_count": 27,
   "metadata": {},
   "outputs": [
    {
     "data": {
      "text/html": [
       "<div>\n",
       "<style scoped>\n",
       "    .dataframe tbody tr th:only-of-type {\n",
       "        vertical-align: middle;\n",
       "    }\n",
       "\n",
       "    .dataframe tbody tr th {\n",
       "        vertical-align: top;\n",
       "    }\n",
       "\n",
       "    .dataframe thead th {\n",
       "        text-align: right;\n",
       "    }\n",
       "</style>\n",
       "<table border=\"1\" class=\"dataframe\">\n",
       "  <thead>\n",
       "    <tr style=\"text-align: right;\">\n",
       "      <th></th>\n",
       "      <th>Name</th>\n",
       "      <th>Price</th>\n",
       "      <th>Model Year</th>\n",
       "      <th>Mileage</th>\n",
       "      <th>Engine Type</th>\n",
       "      <th>Engine Capacity</th>\n",
       "      <th>Transmission</th>\n",
       "      <th>Color</th>\n",
       "      <th>Assembly</th>\n",
       "      <th>Body Type</th>\n",
       "      <th>Features</th>\n",
       "    </tr>\n",
       "  </thead>\n",
       "  <tbody>\n",
       "    <tr>\n",
       "      <th>0</th>\n",
       "      <td>Toyota Vitz F 1.0 2017</td>\n",
       "      <td>2385000</td>\n",
       "      <td>2017</td>\n",
       "      <td>9869</td>\n",
       "      <td>Petrol</td>\n",
       "      <td>1000</td>\n",
       "      <td>Automatic</td>\n",
       "      <td>Silver</td>\n",
       "      <td>Imported</td>\n",
       "      <td>Hatchback</td>\n",
       "      <td>ABS, AM/FM Radio, Air Bags, Air Conditioning,...</td>\n",
       "    </tr>\n",
       "  </tbody>\n",
       "</table>\n",
       "</div>"
      ],
      "text/plain": [
       "                     Name    Price  Model Year  Mileage Engine Type  \\\n",
       "0  Toyota Vitz F 1.0 2017  2385000        2017     9869      Petrol   \n",
       "\n",
       "   Engine Capacity Transmission   Color  Assembly  Body Type  \\\n",
       "0             1000    Automatic  Silver  Imported  Hatchback   \n",
       "\n",
       "                                            Features  \n",
       "0   ABS, AM/FM Radio, Air Bags, Air Conditioning,...  "
      ]
     },
     "execution_count": 27,
     "metadata": {},
     "output_type": "execute_result"
    }
   ],
   "source": [
    "df.head(1)"
   ]
  },
  {
   "cell_type": "markdown",
   "metadata": {},
   "source": [
    "- Name column"
   ]
  },
  {
   "cell_type": "code",
   "execution_count": 28,
   "metadata": {},
   "outputs": [
    {
     "data": {
      "text/plain": [
       "31231                    Suzuki Mehran VX 2006\n",
       "20790         Toyota Corolla GLi 1.3 VVTi 2012\n",
       "14646             Suzuki Mehran VXR (CNG) 2007\n",
       "5657                   Toyota Corolla XLi 2005\n",
       "41869            Suzuki Mehran VX Euro II 2017\n",
       "33573             Suzuki Cultus VXR (CNG) 2004\n",
       "45113         Toyota Corolla GLi 1.3 VVTi 2012\n",
       "14043       Suzuki Cultus Limited Edition 2017\n",
       "29244      Honda Civic Turbo 1.5 VTEC CVT 2017\n",
       "20163    Daihatsu Mira X Memorial Edition 2012\n",
       "Name: Name, dtype: object"
      ]
     },
     "execution_count": 28,
     "metadata": {},
     "output_type": "execute_result"
    }
   ],
   "source": [
    "df.Name.sample(10)"
   ]
  },
  {
   "cell_type": "code",
   "execution_count": 29,
   "metadata": {},
   "outputs": [],
   "source": [
    "#let's extract some feature from Name column\n",
    "X = df.Name.str.split()"
   ]
  },
  {
   "cell_type": "code",
   "execution_count": 30,
   "metadata": {},
   "outputs": [
    {
     "data": {
      "text/plain": [
       "['Toyota', 'Corolla', 'GLi']"
      ]
     },
     "execution_count": 30,
     "metadata": {},
     "output_type": "execute_result"
    }
   ],
   "source": [
    "X[1][0:3]"
   ]
  },
  {
   "cell_type": "code",
   "execution_count": 31,
   "metadata": {},
   "outputs": [],
   "source": [
    "#making manufacturer feature\n",
    "df['Manufacturer'] = X.apply(lambda x: x[0])"
   ]
  },
  {
   "cell_type": "code",
   "execution_count": 32,
   "metadata": {},
   "outputs": [],
   "source": [
    "#making model feature\n",
    "df['Model'] =  X.apply(lambda x: x[1])"
   ]
  },
  {
   "cell_type": "code",
   "execution_count": 33,
   "metadata": {},
   "outputs": [],
   "source": [
    "#making variant feature\n",
    "df['variant'] =  X.apply(lambda x: x[2])\n"
   ]
  },
  {
   "cell_type": "code",
   "execution_count": 34,
   "metadata": {},
   "outputs": [
    {
     "data": {
      "text/html": [
       "<div>\n",
       "<style scoped>\n",
       "    .dataframe tbody tr th:only-of-type {\n",
       "        vertical-align: middle;\n",
       "    }\n",
       "\n",
       "    .dataframe tbody tr th {\n",
       "        vertical-align: top;\n",
       "    }\n",
       "\n",
       "    .dataframe thead th {\n",
       "        text-align: right;\n",
       "    }\n",
       "</style>\n",
       "<table border=\"1\" class=\"dataframe\">\n",
       "  <thead>\n",
       "    <tr style=\"text-align: right;\">\n",
       "      <th></th>\n",
       "      <th>Name</th>\n",
       "      <th>Price</th>\n",
       "      <th>Model Year</th>\n",
       "      <th>Mileage</th>\n",
       "      <th>Engine Type</th>\n",
       "      <th>Engine Capacity</th>\n",
       "      <th>Transmission</th>\n",
       "      <th>Color</th>\n",
       "      <th>Assembly</th>\n",
       "      <th>Body Type</th>\n",
       "      <th>Features</th>\n",
       "      <th>Manufacturer</th>\n",
       "      <th>Model</th>\n",
       "      <th>variant</th>\n",
       "    </tr>\n",
       "  </thead>\n",
       "  <tbody>\n",
       "    <tr>\n",
       "      <th>0</th>\n",
       "      <td>Toyota Vitz F 1.0 2017</td>\n",
       "      <td>2385000</td>\n",
       "      <td>2017</td>\n",
       "      <td>9869</td>\n",
       "      <td>Petrol</td>\n",
       "      <td>1000</td>\n",
       "      <td>Automatic</td>\n",
       "      <td>Silver</td>\n",
       "      <td>Imported</td>\n",
       "      <td>Hatchback</td>\n",
       "      <td>ABS, AM/FM Radio, Air Bags, Air Conditioning,...</td>\n",
       "      <td>Toyota</td>\n",
       "      <td>Vitz</td>\n",
       "      <td>F</td>\n",
       "    </tr>\n",
       "  </tbody>\n",
       "</table>\n",
       "</div>"
      ],
      "text/plain": [
       "                     Name    Price  Model Year  Mileage Engine Type  \\\n",
       "0  Toyota Vitz F 1.0 2017  2385000        2017     9869      Petrol   \n",
       "\n",
       "   Engine Capacity Transmission   Color  Assembly  Body Type  \\\n",
       "0             1000    Automatic  Silver  Imported  Hatchback   \n",
       "\n",
       "                                            Features Manufacturer Model  \\\n",
       "0   ABS, AM/FM Radio, Air Bags, Air Conditioning,...       Toyota  Vitz   \n",
       "\n",
       "  variant  \n",
       "0       F  "
      ]
     },
     "execution_count": 34,
     "metadata": {},
     "output_type": "execute_result"
    }
   ],
   "source": [
    "df.head(1)"
   ]
  },
  {
   "cell_type": "markdown",
   "metadata": {},
   "source": [
    "- Feature Column"
   ]
  },
  {
   "cell_type": "code",
   "execution_count": 35,
   "metadata": {},
   "outputs": [
    {
     "data": {
      "text/html": [
       "<div>\n",
       "<style scoped>\n",
       "    .dataframe tbody tr th:only-of-type {\n",
       "        vertical-align: middle;\n",
       "    }\n",
       "\n",
       "    .dataframe tbody tr th {\n",
       "        vertical-align: top;\n",
       "    }\n",
       "\n",
       "    .dataframe thead th {\n",
       "        text-align: right;\n",
       "    }\n",
       "</style>\n",
       "<table border=\"1\" class=\"dataframe\">\n",
       "  <thead>\n",
       "    <tr style=\"text-align: right;\">\n",
       "      <th></th>\n",
       "      <th>0</th>\n",
       "      <th>1</th>\n",
       "      <th>2</th>\n",
       "      <th>3</th>\n",
       "      <th>4</th>\n",
       "      <th>5</th>\n",
       "      <th>6</th>\n",
       "      <th>7</th>\n",
       "      <th>8</th>\n",
       "      <th>9</th>\n",
       "      <th>...</th>\n",
       "      <th>18</th>\n",
       "      <th>19</th>\n",
       "      <th>20</th>\n",
       "      <th>21</th>\n",
       "      <th>22</th>\n",
       "      <th>23</th>\n",
       "      <th>24</th>\n",
       "      <th>25</th>\n",
       "      <th>26</th>\n",
       "      <th>27</th>\n",
       "    </tr>\n",
       "  </thead>\n",
       "  <tbody>\n",
       "    <tr>\n",
       "      <th>32583</th>\n",
       "      <td>AM/FM Radio</td>\n",
       "      <td>Immobilizer Key</td>\n",
       "      <td>None</td>\n",
       "      <td>None</td>\n",
       "      <td>None</td>\n",
       "      <td>None</td>\n",
       "      <td>None</td>\n",
       "      <td>None</td>\n",
       "      <td>None</td>\n",
       "      <td>None</td>\n",
       "      <td>...</td>\n",
       "      <td>None</td>\n",
       "      <td>None</td>\n",
       "      <td>None</td>\n",
       "      <td>None</td>\n",
       "      <td>None</td>\n",
       "      <td>None</td>\n",
       "      <td>None</td>\n",
       "      <td>None</td>\n",
       "      <td>None</td>\n",
       "      <td>None</td>\n",
       "    </tr>\n",
       "    <tr>\n",
       "      <th>71</th>\n",
       "      <td>AM/FM Radio</td>\n",
       "      <td>Air Conditioning</td>\n",
       "      <td>CD Player</td>\n",
       "      <td>Cassette Player</td>\n",
       "      <td>DVD Player</td>\n",
       "      <td>Keyless Entry</td>\n",
       "      <td>Power Locks</td>\n",
       "      <td>None</td>\n",
       "      <td>None</td>\n",
       "      <td>None</td>\n",
       "      <td>...</td>\n",
       "      <td>None</td>\n",
       "      <td>None</td>\n",
       "      <td>None</td>\n",
       "      <td>None</td>\n",
       "      <td>None</td>\n",
       "      <td>None</td>\n",
       "      <td>None</td>\n",
       "      <td>None</td>\n",
       "      <td>None</td>\n",
       "      <td>None</td>\n",
       "    </tr>\n",
       "    <tr>\n",
       "      <th>7413</th>\n",
       "      <td>ABS</td>\n",
       "      <td>AM/FM Radio</td>\n",
       "      <td>Air Bags</td>\n",
       "      <td>Air Conditioning</td>\n",
       "      <td>Alloy Rims</td>\n",
       "      <td>CD Player</td>\n",
       "      <td>Cruise Control</td>\n",
       "      <td>Immobilizer Key</td>\n",
       "      <td>Keyless Entry</td>\n",
       "      <td>Power Locks</td>\n",
       "      <td>...</td>\n",
       "      <td>None</td>\n",
       "      <td>None</td>\n",
       "      <td>None</td>\n",
       "      <td>None</td>\n",
       "      <td>None</td>\n",
       "      <td>None</td>\n",
       "      <td>None</td>\n",
       "      <td>None</td>\n",
       "      <td>None</td>\n",
       "      <td>None</td>\n",
       "    </tr>\n",
       "    <tr>\n",
       "      <th>11629</th>\n",
       "      <td>AM/FM Radio</td>\n",
       "      <td>Air Conditioning</td>\n",
       "      <td>Cassette Player</td>\n",
       "      <td>None</td>\n",
       "      <td>None</td>\n",
       "      <td>None</td>\n",
       "      <td>None</td>\n",
       "      <td>None</td>\n",
       "      <td>None</td>\n",
       "      <td>None</td>\n",
       "      <td>...</td>\n",
       "      <td>None</td>\n",
       "      <td>None</td>\n",
       "      <td>None</td>\n",
       "      <td>None</td>\n",
       "      <td>None</td>\n",
       "      <td>None</td>\n",
       "      <td>None</td>\n",
       "      <td>None</td>\n",
       "      <td>None</td>\n",
       "      <td>None</td>\n",
       "    </tr>\n",
       "  </tbody>\n",
       "</table>\n",
       "<p>4 rows × 28 columns</p>\n",
       "</div>"
      ],
      "text/plain": [
       "                 0                  1                 2                  3   \\\n",
       "32583   AM/FM Radio    Immobilizer Key              None               None   \n",
       "71      AM/FM Radio   Air Conditioning         CD Player    Cassette Player   \n",
       "7413            ABS        AM/FM Radio          Air Bags   Air Conditioning   \n",
       "11629   AM/FM Radio   Air Conditioning   Cassette Player               None   \n",
       "\n",
       "                4               5                6                 7   \\\n",
       "32583         None            None             None              None   \n",
       "71      DVD Player   Keyless Entry      Power Locks              None   \n",
       "7413    Alloy Rims       CD Player   Cruise Control   Immobilizer Key   \n",
       "11629         None            None             None              None   \n",
       "\n",
       "                   8             9   ...    18    19    20    21    22    23  \\\n",
       "32583            None          None  ...  None  None  None  None  None  None   \n",
       "71               None          None  ...  None  None  None  None  None  None   \n",
       "7413    Keyless Entry   Power Locks  ...  None  None  None  None  None  None   \n",
       "11629            None          None  ...  None  None  None  None  None  None   \n",
       "\n",
       "         24    25    26    27  \n",
       "32583  None  None  None  None  \n",
       "71     None  None  None  None  \n",
       "7413   None  None  None  None  \n",
       "11629  None  None  None  None  \n",
       "\n",
       "[4 rows x 28 columns]"
      ]
     },
     "execution_count": 35,
     "metadata": {},
     "output_type": "execute_result"
    }
   ],
   "source": [
    "## Let's focus on Features\n",
    "feat = df.Features.str.split(',',expand=True)  # saw in Data Viewer\n",
    "feat.sample(4)"
   ]
  },
  {
   "cell_type": "code",
   "execution_count": 36,
   "metadata": {},
   "outputs": [],
   "source": [
    "X = df.Features.str.split(',')"
   ]
  },
  {
   "cell_type": "markdown",
   "metadata": {},
   "source": [
    "- **let's remove null values form DataFrame df**"
   ]
  },
  {
   "cell_type": "code",
   "execution_count": 37,
   "metadata": {},
   "outputs": [
    {
     "data": {
      "text/plain": [
       "(46023, 14)"
      ]
     },
     "execution_count": 37,
     "metadata": {},
     "output_type": "execute_result"
    }
   ],
   "source": [
    "df.shape"
   ]
  },
  {
   "cell_type": "code",
   "execution_count": 38,
   "metadata": {},
   "outputs": [
    {
     "data": {
      "text/plain": [
       "(43502, 14)"
      ]
     },
     "execution_count": 38,
     "metadata": {},
     "output_type": "execute_result"
    }
   ],
   "source": [
    "df = df.dropna()\n",
    "df.shape"
   ]
  },
  {
   "cell_type": "code",
   "execution_count": 39,
   "metadata": {},
   "outputs": [
    {
     "data": {
      "text/plain": [
       "0     1             2          3                  4            5           6                 7                 8         9                10           11             12               13             14                15              16                  17            18              19               20              21              22            23                        24              25                  26         27                      \n",
       " ABS   AM/FM Radio   Air Bags   Air Conditioning   Alloy Rims   CD Player   Cassette Player   Climate Control   CoolBox   Cruise Control   DVD Player   Front Camera   Front Speakers   Heated Seats   Immobilizer Key   Keyless Entry   Navigation System   Power Locks   Power Mirrors   Power Steering   Power Windows   Rear AC Vents   Rear Camera   Rear Seat Entertainment   Rear speakers   Steering Switches   Sun Roof   USB and Auxillary Cable    7\n",
       "dtype: int64"
      ]
     },
     "execution_count": 39,
     "metadata": {},
     "output_type": "execute_result"
    }
   ],
   "source": [
    "feat.value_counts() # let's make and list of these variables"
   ]
  },
  {
   "cell_type": "code",
   "execution_count": 40,
   "metadata": {},
   "outputs": [
    {
     "data": {
      "text/plain": [
       "['ABS',\n",
       " 'AM/FM Radio',\n",
       " 'Air Bags',\n",
       " 'Air Conditioning',\n",
       " 'Alloy Rims',\n",
       " 'CD Player',\n",
       " 'Cassette Player',\n",
       " 'Climate Control',\n",
       " 'CoolBox',\n",
       " 'Cruise Control',\n",
       " 'DVD Player',\n",
       " 'Front Camera',\n",
       " 'Front Speakers',\n",
       " 'Heated Seats',\n",
       " 'Immobilizer Key',\n",
       " 'Keyless Entry',\n",
       " 'Navigation System',\n",
       " 'Power Locks',\n",
       " 'Power Mirrors',\n",
       " 'Power Steering',\n",
       " 'Power Windows',\n",
       " 'Rear AC Vents',\n",
       " 'Rear Camera',\n",
       " 'Rear Seat Entertainment',\n",
       " 'Rear speakers',\n",
       " 'Steering Switches',\n",
       " 'Sun Roof',\n",
       " 'USB and Auxillary Cable']"
      ]
     },
     "execution_count": 40,
     "metadata": {},
     "output_type": "execute_result"
    }
   ],
   "source": [
    "feat_var =\"ABS  AM/FM Radio  Air Bags  Air Conditioning  Alloy Rims  CD Player  Cassette Player  Climate Control  CoolBox  Cruise Control  DVD Player  Front Camera  Front Speakers  Heated Seats  Immobilizer Key  Keyless Entry  Navigation System  Power Locks  Power Mirrors  Power Steering  Power Windows  Rear AC Vents  Rear Camera  Rear Seat Entertainment  Rear speakers  Steering Switches  Sun Roof  USB and Auxillary Cable\"\n",
    "\n",
    "new_feat = list(feat_var.split('  '))\n",
    "new_feat"
   ]
  },
  {
   "cell_type": "markdown",
   "metadata": {},
   "source": [
    "- let's make these all as a new feature"
   ]
  },
  {
   "cell_type": "code",
   "execution_count": 41,
   "metadata": {},
   "outputs": [
    {
     "name": "stdout",
     "output_type": "stream",
     "text": [
      "0     ABS, AM/FM Radio, Air Bags, Air Conditioning,...\n",
      "Name: Features, dtype: object\n"
     ]
    }
   ],
   "source": [
    "print(df.head(1)['Features'])"
   ]
  },
  {
   "cell_type": "code",
   "execution_count": 42,
   "metadata": {},
   "outputs": [],
   "source": [
    "# def new_features(text):\n",
    "#         if i in text:\n",
    "#             return '1'\n",
    "#         else:\n",
    "#             return '0'\n",
    "\n",
    "for i in new_feat:\n",
    "    df[i] = df.Features.apply(lambda x: 1 if i in x else 0 ).astype(int)\n",
    "    # .value_counts()"
   ]
  },
  {
   "cell_type": "code",
   "execution_count": 43,
   "metadata": {},
   "outputs": [
    {
     "name": "stdout",
     "output_type": "stream",
     "text": [
      "<class 'pandas.core.frame.DataFrame'>\n",
      "Int64Index: 43502 entries, 0 to 43501\n",
      "Data columns (total 42 columns):\n",
      " #   Column                   Non-Null Count  Dtype \n",
      "---  ------                   --------------  ----- \n",
      " 0   Name                     43502 non-null  object\n",
      " 1   Price                    43502 non-null  int64 \n",
      " 2   Model Year               43502 non-null  int64 \n",
      " 3   Mileage                  43502 non-null  int64 \n",
      " 4   Engine Type              43502 non-null  object\n",
      " 5   Engine Capacity          43502 non-null  int64 \n",
      " 6   Transmission             43502 non-null  object\n",
      " 7   Color                    43502 non-null  object\n",
      " 8   Assembly                 43502 non-null  object\n",
      " 9   Body Type                43502 non-null  object\n",
      " 10  Features                 43502 non-null  object\n",
      " 11  Manufacturer             43502 non-null  object\n",
      " 12  Model                    43502 non-null  object\n",
      " 13  variant                  43502 non-null  object\n",
      " 14  ABS                      43502 non-null  int32 \n",
      " 15  AM/FM Radio              43502 non-null  int32 \n",
      " 16  Air Bags                 43502 non-null  int32 \n",
      " 17  Air Conditioning         43502 non-null  int32 \n",
      " 18  Alloy Rims               43502 non-null  int32 \n",
      " 19  CD Player                43502 non-null  int32 \n",
      " 20  Cassette Player          43502 non-null  int32 \n",
      " 21  Climate Control          43502 non-null  int32 \n",
      " 22  CoolBox                  43502 non-null  int32 \n",
      " 23  Cruise Control           43502 non-null  int32 \n",
      " 24  DVD Player               43502 non-null  int32 \n",
      " 25  Front Camera             43502 non-null  int32 \n",
      " 26  Front Speakers           43502 non-null  int32 \n",
      " 27  Heated Seats             43502 non-null  int32 \n",
      " 28  Immobilizer Key          43502 non-null  int32 \n",
      " 29  Keyless Entry            43502 non-null  int32 \n",
      " 30  Navigation System        43502 non-null  int32 \n",
      " 31  Power Locks              43502 non-null  int32 \n",
      " 32  Power Mirrors            43502 non-null  int32 \n",
      " 33  Power Steering           43502 non-null  int32 \n",
      " 34  Power Windows            43502 non-null  int32 \n",
      " 35  Rear AC Vents            43502 non-null  int32 \n",
      " 36  Rear Camera              43502 non-null  int32 \n",
      " 37  Rear Seat Entertainment  43502 non-null  int32 \n",
      " 38  Rear speakers            43502 non-null  int32 \n",
      " 39  Steering Switches        43502 non-null  int32 \n",
      " 40  Sun Roof                 43502 non-null  int32 \n",
      " 41  USB and Auxillary Cable  43502 non-null  int32 \n",
      "dtypes: int32(28), int64(4), object(10)\n",
      "memory usage: 9.6+ MB\n"
     ]
    }
   ],
   "source": [
    "df.info()"
   ]
  },
  {
   "cell_type": "code",
   "execution_count": 44,
   "metadata": {},
   "outputs": [
    {
     "data": {
      "text/html": [
       "<div>\n",
       "<style scoped>\n",
       "    .dataframe tbody tr th:only-of-type {\n",
       "        vertical-align: middle;\n",
       "    }\n",
       "\n",
       "    .dataframe tbody tr th {\n",
       "        vertical-align: top;\n",
       "    }\n",
       "\n",
       "    .dataframe thead th {\n",
       "        text-align: right;\n",
       "    }\n",
       "</style>\n",
       "<table border=\"1\" class=\"dataframe\">\n",
       "  <thead>\n",
       "    <tr style=\"text-align: right;\">\n",
       "      <th></th>\n",
       "      <th>Name</th>\n",
       "      <th>Price</th>\n",
       "      <th>Model Year</th>\n",
       "      <th>Mileage</th>\n",
       "      <th>Engine Type</th>\n",
       "      <th>Engine Capacity</th>\n",
       "      <th>Transmission</th>\n",
       "      <th>Color</th>\n",
       "      <th>Assembly</th>\n",
       "      <th>Body Type</th>\n",
       "      <th>...</th>\n",
       "      <th>Power Mirrors</th>\n",
       "      <th>Power Steering</th>\n",
       "      <th>Power Windows</th>\n",
       "      <th>Rear AC Vents</th>\n",
       "      <th>Rear Camera</th>\n",
       "      <th>Rear Seat Entertainment</th>\n",
       "      <th>Rear speakers</th>\n",
       "      <th>Steering Switches</th>\n",
       "      <th>Sun Roof</th>\n",
       "      <th>USB and Auxillary Cable</th>\n",
       "    </tr>\n",
       "  </thead>\n",
       "  <tbody>\n",
       "    <tr>\n",
       "      <th>13281</th>\n",
       "      <td>Toyota Corolla Axio Hybrid 1.5 2014</td>\n",
       "      <td>2825000</td>\n",
       "      <td>2014</td>\n",
       "      <td>75000</td>\n",
       "      <td>Petrol</td>\n",
       "      <td>1500</td>\n",
       "      <td>Automatic</td>\n",
       "      <td>Maroon</td>\n",
       "      <td>Imported</td>\n",
       "      <td>Sedan</td>\n",
       "      <td>...</td>\n",
       "      <td>0</td>\n",
       "      <td>1</td>\n",
       "      <td>0</td>\n",
       "      <td>0</td>\n",
       "      <td>0</td>\n",
       "      <td>0</td>\n",
       "      <td>0</td>\n",
       "      <td>0</td>\n",
       "      <td>0</td>\n",
       "      <td>0</td>\n",
       "    </tr>\n",
       "    <tr>\n",
       "      <th>24977</th>\n",
       "      <td>Suzuki Wagon R VXL 2018</td>\n",
       "      <td>1440000</td>\n",
       "      <td>2018</td>\n",
       "      <td>64000</td>\n",
       "      <td>Petrol</td>\n",
       "      <td>1000</td>\n",
       "      <td>Manual</td>\n",
       "      <td>Maroon</td>\n",
       "      <td>Local</td>\n",
       "      <td>Hatchback</td>\n",
       "      <td>...</td>\n",
       "      <td>1</td>\n",
       "      <td>1</td>\n",
       "      <td>1</td>\n",
       "      <td>0</td>\n",
       "      <td>0</td>\n",
       "      <td>0</td>\n",
       "      <td>0</td>\n",
       "      <td>0</td>\n",
       "      <td>0</td>\n",
       "      <td>0</td>\n",
       "    </tr>\n",
       "    <tr>\n",
       "      <th>8416</th>\n",
       "      <td>Suzuki Cultus VXR 2007</td>\n",
       "      <td>670000</td>\n",
       "      <td>2007</td>\n",
       "      <td>100000</td>\n",
       "      <td>Petrol</td>\n",
       "      <td>1000</td>\n",
       "      <td>Manual</td>\n",
       "      <td>Silver</td>\n",
       "      <td>Local</td>\n",
       "      <td>Hatchback</td>\n",
       "      <td>...</td>\n",
       "      <td>1</td>\n",
       "      <td>1</td>\n",
       "      <td>1</td>\n",
       "      <td>0</td>\n",
       "      <td>0</td>\n",
       "      <td>0</td>\n",
       "      <td>0</td>\n",
       "      <td>0</td>\n",
       "      <td>0</td>\n",
       "      <td>0</td>\n",
       "    </tr>\n",
       "    <tr>\n",
       "      <th>31823</th>\n",
       "      <td>Suzuki Cultus VXR (CNG) 2005</td>\n",
       "      <td>570000</td>\n",
       "      <td>2005</td>\n",
       "      <td>100608</td>\n",
       "      <td>Petrol</td>\n",
       "      <td>1000</td>\n",
       "      <td>Manual</td>\n",
       "      <td>White</td>\n",
       "      <td>Local</td>\n",
       "      <td>Hatchback</td>\n",
       "      <td>...</td>\n",
       "      <td>1</td>\n",
       "      <td>1</td>\n",
       "      <td>1</td>\n",
       "      <td>0</td>\n",
       "      <td>0</td>\n",
       "      <td>0</td>\n",
       "      <td>0</td>\n",
       "      <td>0</td>\n",
       "      <td>0</td>\n",
       "      <td>0</td>\n",
       "    </tr>\n",
       "    <tr>\n",
       "      <th>19453</th>\n",
       "      <td>Suzuki Mehran VX Euro II 2014</td>\n",
       "      <td>680000</td>\n",
       "      <td>2014</td>\n",
       "      <td>15142</td>\n",
       "      <td>Petrol</td>\n",
       "      <td>800</td>\n",
       "      <td>Manual</td>\n",
       "      <td>White</td>\n",
       "      <td>Local</td>\n",
       "      <td>Hatchback</td>\n",
       "      <td>...</td>\n",
       "      <td>0</td>\n",
       "      <td>0</td>\n",
       "      <td>0</td>\n",
       "      <td>0</td>\n",
       "      <td>0</td>\n",
       "      <td>0</td>\n",
       "      <td>0</td>\n",
       "      <td>0</td>\n",
       "      <td>0</td>\n",
       "      <td>0</td>\n",
       "    </tr>\n",
       "    <tr>\n",
       "      <th>9402</th>\n",
       "      <td>Toyota Prado TX 2.7 2013</td>\n",
       "      <td>11000000</td>\n",
       "      <td>2013</td>\n",
       "      <td>38000</td>\n",
       "      <td>Petrol</td>\n",
       "      <td>2700</td>\n",
       "      <td>Automatic</td>\n",
       "      <td>Black</td>\n",
       "      <td>Imported</td>\n",
       "      <td>Suv</td>\n",
       "      <td>...</td>\n",
       "      <td>1</td>\n",
       "      <td>1</td>\n",
       "      <td>1</td>\n",
       "      <td>0</td>\n",
       "      <td>0</td>\n",
       "      <td>0</td>\n",
       "      <td>0</td>\n",
       "      <td>0</td>\n",
       "      <td>0</td>\n",
       "      <td>0</td>\n",
       "    </tr>\n",
       "    <tr>\n",
       "      <th>16471</th>\n",
       "      <td>Suzuki Mehran VXR Euro II 2017</td>\n",
       "      <td>925000</td>\n",
       "      <td>2017</td>\n",
       "      <td>12000</td>\n",
       "      <td>Petrol</td>\n",
       "      <td>800</td>\n",
       "      <td>Manual</td>\n",
       "      <td>Grey</td>\n",
       "      <td>Local</td>\n",
       "      <td>Hatchback</td>\n",
       "      <td>...</td>\n",
       "      <td>1</td>\n",
       "      <td>1</td>\n",
       "      <td>1</td>\n",
       "      <td>0</td>\n",
       "      <td>0</td>\n",
       "      <td>0</td>\n",
       "      <td>0</td>\n",
       "      <td>0</td>\n",
       "      <td>0</td>\n",
       "      <td>0</td>\n",
       "    </tr>\n",
       "    <tr>\n",
       "      <th>20780</th>\n",
       "      <td>Honda Civic VTi Oriel Prosmatec 1.8 i-VTEC 2010</td>\n",
       "      <td>1550000</td>\n",
       "      <td>2010</td>\n",
       "      <td>123156</td>\n",
       "      <td>Petrol</td>\n",
       "      <td>1800</td>\n",
       "      <td>Automatic</td>\n",
       "      <td>Maroon</td>\n",
       "      <td>Local</td>\n",
       "      <td>Sedan</td>\n",
       "      <td>...</td>\n",
       "      <td>0</td>\n",
       "      <td>1</td>\n",
       "      <td>1</td>\n",
       "      <td>0</td>\n",
       "      <td>0</td>\n",
       "      <td>0</td>\n",
       "      <td>0</td>\n",
       "      <td>0</td>\n",
       "      <td>0</td>\n",
       "      <td>0</td>\n",
       "    </tr>\n",
       "    <tr>\n",
       "      <th>20335</th>\n",
       "      <td>Toyota Surf SSR-X 2.7 2000</td>\n",
       "      <td>2255000</td>\n",
       "      <td>2000</td>\n",
       "      <td>82000</td>\n",
       "      <td>Petrol</td>\n",
       "      <td>2700</td>\n",
       "      <td>Automatic</td>\n",
       "      <td>Silver</td>\n",
       "      <td>Imported</td>\n",
       "      <td>Suv</td>\n",
       "      <td>...</td>\n",
       "      <td>1</td>\n",
       "      <td>1</td>\n",
       "      <td>1</td>\n",
       "      <td>0</td>\n",
       "      <td>0</td>\n",
       "      <td>0</td>\n",
       "      <td>0</td>\n",
       "      <td>0</td>\n",
       "      <td>0</td>\n",
       "      <td>0</td>\n",
       "    </tr>\n",
       "    <tr>\n",
       "      <th>27745</th>\n",
       "      <td>Suzuki Wagon R VXL 2019</td>\n",
       "      <td>1550000</td>\n",
       "      <td>2019</td>\n",
       "      <td>28000</td>\n",
       "      <td>Petrol</td>\n",
       "      <td>1000</td>\n",
       "      <td>Manual</td>\n",
       "      <td>Silver</td>\n",
       "      <td>Local</td>\n",
       "      <td>Hatchback</td>\n",
       "      <td>...</td>\n",
       "      <td>1</td>\n",
       "      <td>1</td>\n",
       "      <td>1</td>\n",
       "      <td>0</td>\n",
       "      <td>0</td>\n",
       "      <td>0</td>\n",
       "      <td>0</td>\n",
       "      <td>0</td>\n",
       "      <td>0</td>\n",
       "      <td>0</td>\n",
       "    </tr>\n",
       "    <tr>\n",
       "      <th>1053</th>\n",
       "      <td>Toyota Prius L 1.8 2012</td>\n",
       "      <td>2550000</td>\n",
       "      <td>2012</td>\n",
       "      <td>115000</td>\n",
       "      <td>Petrol</td>\n",
       "      <td>1800</td>\n",
       "      <td>Automatic</td>\n",
       "      <td>White</td>\n",
       "      <td>Imported</td>\n",
       "      <td>Sedan</td>\n",
       "      <td>...</td>\n",
       "      <td>1</td>\n",
       "      <td>1</td>\n",
       "      <td>1</td>\n",
       "      <td>0</td>\n",
       "      <td>0</td>\n",
       "      <td>0</td>\n",
       "      <td>0</td>\n",
       "      <td>1</td>\n",
       "      <td>0</td>\n",
       "      <td>1</td>\n",
       "    </tr>\n",
       "    <tr>\n",
       "      <th>27467</th>\n",
       "      <td>Suzuki Alto VXR (CNG) 2006</td>\n",
       "      <td>440000</td>\n",
       "      <td>2006</td>\n",
       "      <td>116000</td>\n",
       "      <td>Petrol</td>\n",
       "      <td>1000</td>\n",
       "      <td>Manual</td>\n",
       "      <td>Silver</td>\n",
       "      <td>Local</td>\n",
       "      <td>Hatchback</td>\n",
       "      <td>...</td>\n",
       "      <td>1</td>\n",
       "      <td>1</td>\n",
       "      <td>1</td>\n",
       "      <td>0</td>\n",
       "      <td>0</td>\n",
       "      <td>0</td>\n",
       "      <td>0</td>\n",
       "      <td>0</td>\n",
       "      <td>0</td>\n",
       "      <td>0</td>\n",
       "    </tr>\n",
       "    <tr>\n",
       "      <th>27569</th>\n",
       "      <td>Toyota Corolla 2.0D 1998</td>\n",
       "      <td>950000</td>\n",
       "      <td>1998</td>\n",
       "      <td>140000</td>\n",
       "      <td>Diesel</td>\n",
       "      <td>2000</td>\n",
       "      <td>Manual</td>\n",
       "      <td>Black</td>\n",
       "      <td>Local</td>\n",
       "      <td>Sedan</td>\n",
       "      <td>...</td>\n",
       "      <td>1</td>\n",
       "      <td>1</td>\n",
       "      <td>1</td>\n",
       "      <td>0</td>\n",
       "      <td>0</td>\n",
       "      <td>0</td>\n",
       "      <td>0</td>\n",
       "      <td>0</td>\n",
       "      <td>0</td>\n",
       "      <td>0</td>\n",
       "    </tr>\n",
       "    <tr>\n",
       "      <th>19645</th>\n",
       "      <td>Hyundai Santro Club 2003</td>\n",
       "      <td>650000</td>\n",
       "      <td>2003</td>\n",
       "      <td>150000</td>\n",
       "      <td>Petrol</td>\n",
       "      <td>1000</td>\n",
       "      <td>Manual</td>\n",
       "      <td>White</td>\n",
       "      <td>Local</td>\n",
       "      <td>Hatchback</td>\n",
       "      <td>...</td>\n",
       "      <td>1</td>\n",
       "      <td>1</td>\n",
       "      <td>1</td>\n",
       "      <td>0</td>\n",
       "      <td>0</td>\n",
       "      <td>0</td>\n",
       "      <td>0</td>\n",
       "      <td>0</td>\n",
       "      <td>0</td>\n",
       "      <td>0</td>\n",
       "    </tr>\n",
       "    <tr>\n",
       "      <th>27502</th>\n",
       "      <td>Honda City Aspire Prosmatec 1.5 i-VTEC 2019</td>\n",
       "      <td>2775000</td>\n",
       "      <td>2019</td>\n",
       "      <td>16000</td>\n",
       "      <td>Petrol</td>\n",
       "      <td>1500</td>\n",
       "      <td>Automatic</td>\n",
       "      <td>White</td>\n",
       "      <td>Local</td>\n",
       "      <td>Sedan</td>\n",
       "      <td>...</td>\n",
       "      <td>0</td>\n",
       "      <td>0</td>\n",
       "      <td>0</td>\n",
       "      <td>0</td>\n",
       "      <td>0</td>\n",
       "      <td>0</td>\n",
       "      <td>0</td>\n",
       "      <td>0</td>\n",
       "      <td>0</td>\n",
       "      <td>0</td>\n",
       "    </tr>\n",
       "  </tbody>\n",
       "</table>\n",
       "<p>15 rows × 42 columns</p>\n",
       "</div>"
      ],
      "text/plain": [
       "                                                  Name     Price  Model Year  \\\n",
       "13281              Toyota Corolla Axio Hybrid 1.5 2014   2825000        2014   \n",
       "24977                          Suzuki Wagon R VXL 2018   1440000        2018   \n",
       "8416                            Suzuki Cultus VXR 2007    670000        2007   \n",
       "31823                     Suzuki Cultus VXR (CNG) 2005    570000        2005   \n",
       "19453                    Suzuki Mehran VX Euro II 2014    680000        2014   \n",
       "9402                          Toyota Prado TX 2.7 2013  11000000        2013   \n",
       "16471                   Suzuki Mehran VXR Euro II 2017    925000        2017   \n",
       "20780  Honda Civic VTi Oriel Prosmatec 1.8 i-VTEC 2010   1550000        2010   \n",
       "20335                       Toyota Surf SSR-X 2.7 2000   2255000        2000   \n",
       "27745                          Suzuki Wagon R VXL 2019   1550000        2019   \n",
       "1053                           Toyota Prius L 1.8 2012   2550000        2012   \n",
       "27467                       Suzuki Alto VXR (CNG) 2006    440000        2006   \n",
       "27569                         Toyota Corolla 2.0D 1998    950000        1998   \n",
       "19645                         Hyundai Santro Club 2003    650000        2003   \n",
       "27502      Honda City Aspire Prosmatec 1.5 i-VTEC 2019   2775000        2019   \n",
       "\n",
       "       Mileage Engine Type  Engine Capacity Transmission   Color  Assembly  \\\n",
       "13281    75000      Petrol             1500    Automatic  Maroon  Imported   \n",
       "24977    64000      Petrol             1000       Manual  Maroon     Local   \n",
       "8416    100000      Petrol             1000       Manual  Silver     Local   \n",
       "31823   100608      Petrol             1000       Manual   White     Local   \n",
       "19453    15142      Petrol              800       Manual   White     Local   \n",
       "9402     38000      Petrol             2700    Automatic   Black  Imported   \n",
       "16471    12000      Petrol              800       Manual    Grey     Local   \n",
       "20780   123156      Petrol             1800    Automatic  Maroon     Local   \n",
       "20335    82000      Petrol             2700    Automatic  Silver  Imported   \n",
       "27745    28000      Petrol             1000       Manual  Silver     Local   \n",
       "1053    115000      Petrol             1800    Automatic   White  Imported   \n",
       "27467   116000      Petrol             1000       Manual  Silver     Local   \n",
       "27569   140000      Diesel             2000       Manual   Black     Local   \n",
       "19645   150000      Petrol             1000       Manual   White     Local   \n",
       "27502    16000      Petrol             1500    Automatic   White     Local   \n",
       "\n",
       "       Body Type  ... Power Mirrors Power Steering Power Windows  \\\n",
       "13281      Sedan  ...             0              1             0   \n",
       "24977  Hatchback  ...             1              1             1   \n",
       "8416   Hatchback  ...             1              1             1   \n",
       "31823  Hatchback  ...             1              1             1   \n",
       "19453  Hatchback  ...             0              0             0   \n",
       "9402         Suv  ...             1              1             1   \n",
       "16471  Hatchback  ...             1              1             1   \n",
       "20780      Sedan  ...             0              1             1   \n",
       "20335        Suv  ...             1              1             1   \n",
       "27745  Hatchback  ...             1              1             1   \n",
       "1053       Sedan  ...             1              1             1   \n",
       "27467  Hatchback  ...             1              1             1   \n",
       "27569      Sedan  ...             1              1             1   \n",
       "19645  Hatchback  ...             1              1             1   \n",
       "27502      Sedan  ...             0              0             0   \n",
       "\n",
       "      Rear AC Vents  Rear Camera  Rear Seat Entertainment  Rear speakers  \\\n",
       "13281             0            0                        0              0   \n",
       "24977             0            0                        0              0   \n",
       "8416              0            0                        0              0   \n",
       "31823             0            0                        0              0   \n",
       "19453             0            0                        0              0   \n",
       "9402              0            0                        0              0   \n",
       "16471             0            0                        0              0   \n",
       "20780             0            0                        0              0   \n",
       "20335             0            0                        0              0   \n",
       "27745             0            0                        0              0   \n",
       "1053              0            0                        0              0   \n",
       "27467             0            0                        0              0   \n",
       "27569             0            0                        0              0   \n",
       "19645             0            0                        0              0   \n",
       "27502             0            0                        0              0   \n",
       "\n",
       "       Steering Switches  Sun Roof  USB and Auxillary Cable  \n",
       "13281                  0         0                        0  \n",
       "24977                  0         0                        0  \n",
       "8416                   0         0                        0  \n",
       "31823                  0         0                        0  \n",
       "19453                  0         0                        0  \n",
       "9402                   0         0                        0  \n",
       "16471                  0         0                        0  \n",
       "20780                  0         0                        0  \n",
       "20335                  0         0                        0  \n",
       "27745                  0         0                        0  \n",
       "1053                   1         0                        1  \n",
       "27467                  0         0                        0  \n",
       "27569                  0         0                        0  \n",
       "19645                  0         0                        0  \n",
       "27502                  0         0                        0  \n",
       "\n",
       "[15 rows x 42 columns]"
      ]
     },
     "execution_count": 44,
     "metadata": {},
     "output_type": "execute_result"
    }
   ],
   "source": [
    "df.sample(15)"
   ]
  },
  {
   "cell_type": "code",
   "execution_count": 45,
   "metadata": {},
   "outputs": [
    {
     "data": {
      "text/html": [
       "<div>\n",
       "<style scoped>\n",
       "    .dataframe tbody tr th:only-of-type {\n",
       "        vertical-align: middle;\n",
       "    }\n",
       "\n",
       "    .dataframe tbody tr th {\n",
       "        vertical-align: top;\n",
       "    }\n",
       "\n",
       "    .dataframe thead th {\n",
       "        text-align: right;\n",
       "    }\n",
       "</style>\n",
       "<table border=\"1\" class=\"dataframe\">\n",
       "  <thead>\n",
       "    <tr style=\"text-align: right;\">\n",
       "      <th></th>\n",
       "      <th>Price</th>\n",
       "      <th>Model Year</th>\n",
       "      <th>Mileage</th>\n",
       "      <th>Engine Type</th>\n",
       "      <th>Engine Capacity</th>\n",
       "      <th>Transmission</th>\n",
       "      <th>Color</th>\n",
       "      <th>Assembly</th>\n",
       "      <th>Body Type</th>\n",
       "      <th>Manufacturer</th>\n",
       "      <th>...</th>\n",
       "      <th>Power Mirrors</th>\n",
       "      <th>Power Steering</th>\n",
       "      <th>Power Windows</th>\n",
       "      <th>Rear AC Vents</th>\n",
       "      <th>Rear Camera</th>\n",
       "      <th>Rear Seat Entertainment</th>\n",
       "      <th>Rear speakers</th>\n",
       "      <th>Steering Switches</th>\n",
       "      <th>Sun Roof</th>\n",
       "      <th>USB and Auxillary Cable</th>\n",
       "    </tr>\n",
       "  </thead>\n",
       "  <tbody>\n",
       "    <tr>\n",
       "      <th>42499</th>\n",
       "      <td>1600000</td>\n",
       "      <td>2008</td>\n",
       "      <td>106000</td>\n",
       "      <td>Petrol</td>\n",
       "      <td>1800</td>\n",
       "      <td>Automatic</td>\n",
       "      <td>Black</td>\n",
       "      <td>Local</td>\n",
       "      <td>Sedan</td>\n",
       "      <td>Honda</td>\n",
       "      <td>...</td>\n",
       "      <td>1</td>\n",
       "      <td>1</td>\n",
       "      <td>1</td>\n",
       "      <td>0</td>\n",
       "      <td>0</td>\n",
       "      <td>0</td>\n",
       "      <td>0</td>\n",
       "      <td>0</td>\n",
       "      <td>0</td>\n",
       "      <td>0</td>\n",
       "    </tr>\n",
       "    <tr>\n",
       "      <th>31743</th>\n",
       "      <td>1050000</td>\n",
       "      <td>2005</td>\n",
       "      <td>120000</td>\n",
       "      <td>Petrol</td>\n",
       "      <td>1300</td>\n",
       "      <td>Manual</td>\n",
       "      <td>Blue</td>\n",
       "      <td>Local</td>\n",
       "      <td>Sedan</td>\n",
       "      <td>Honda</td>\n",
       "      <td>...</td>\n",
       "      <td>0</td>\n",
       "      <td>0</td>\n",
       "      <td>0</td>\n",
       "      <td>0</td>\n",
       "      <td>0</td>\n",
       "      <td>0</td>\n",
       "      <td>0</td>\n",
       "      <td>0</td>\n",
       "      <td>0</td>\n",
       "      <td>0</td>\n",
       "    </tr>\n",
       "    <tr>\n",
       "      <th>6268</th>\n",
       "      <td>2250000</td>\n",
       "      <td>2015</td>\n",
       "      <td>30000</td>\n",
       "      <td>Petrol</td>\n",
       "      <td>1000</td>\n",
       "      <td>Automatic</td>\n",
       "      <td>Black</td>\n",
       "      <td>Imported</td>\n",
       "      <td>Hatchback</td>\n",
       "      <td>Toyota</td>\n",
       "      <td>...</td>\n",
       "      <td>0</td>\n",
       "      <td>1</td>\n",
       "      <td>1</td>\n",
       "      <td>0</td>\n",
       "      <td>0</td>\n",
       "      <td>0</td>\n",
       "      <td>0</td>\n",
       "      <td>0</td>\n",
       "      <td>0</td>\n",
       "      <td>0</td>\n",
       "    </tr>\n",
       "    <tr>\n",
       "      <th>23022</th>\n",
       "      <td>685000</td>\n",
       "      <td>2014</td>\n",
       "      <td>79000</td>\n",
       "      <td>Petrol</td>\n",
       "      <td>800</td>\n",
       "      <td>Manual</td>\n",
       "      <td>Grey</td>\n",
       "      <td>Local</td>\n",
       "      <td>Hatchback</td>\n",
       "      <td>Suzuki</td>\n",
       "      <td>...</td>\n",
       "      <td>1</td>\n",
       "      <td>1</td>\n",
       "      <td>1</td>\n",
       "      <td>0</td>\n",
       "      <td>0</td>\n",
       "      <td>0</td>\n",
       "      <td>0</td>\n",
       "      <td>0</td>\n",
       "      <td>0</td>\n",
       "      <td>0</td>\n",
       "    </tr>\n",
       "    <tr>\n",
       "      <th>5</th>\n",
       "      <td>3850000</td>\n",
       "      <td>2017</td>\n",
       "      <td>22000</td>\n",
       "      <td>Petrol</td>\n",
       "      <td>1500</td>\n",
       "      <td>Automatic</td>\n",
       "      <td>Black</td>\n",
       "      <td>Local</td>\n",
       "      <td>Sedan</td>\n",
       "      <td>Honda</td>\n",
       "      <td>...</td>\n",
       "      <td>1</td>\n",
       "      <td>1</td>\n",
       "      <td>1</td>\n",
       "      <td>0</td>\n",
       "      <td>0</td>\n",
       "      <td>0</td>\n",
       "      <td>0</td>\n",
       "      <td>0</td>\n",
       "      <td>1</td>\n",
       "      <td>0</td>\n",
       "    </tr>\n",
       "  </tbody>\n",
       "</table>\n",
       "<p>5 rows × 40 columns</p>\n",
       "</div>"
      ],
      "text/plain": [
       "         Price  Model Year  Mileage Engine Type  Engine Capacity Transmission  \\\n",
       "42499  1600000        2008   106000      Petrol             1800    Automatic   \n",
       "31743  1050000        2005   120000      Petrol             1300       Manual   \n",
       "6268   2250000        2015    30000      Petrol             1000    Automatic   \n",
       "23022   685000        2014    79000      Petrol              800       Manual   \n",
       "5      3850000        2017    22000      Petrol             1500    Automatic   \n",
       "\n",
       "       Color  Assembly  Body Type Manufacturer  ... Power Mirrors  \\\n",
       "42499  Black     Local      Sedan        Honda  ...             1   \n",
       "31743   Blue     Local      Sedan        Honda  ...             0   \n",
       "6268   Black  Imported  Hatchback       Toyota  ...             0   \n",
       "23022   Grey     Local  Hatchback       Suzuki  ...             1   \n",
       "5      Black     Local      Sedan        Honda  ...             1   \n",
       "\n",
       "      Power Steering  Power Windows  Rear AC Vents  Rear Camera  \\\n",
       "42499              1              1              0            0   \n",
       "31743              0              0              0            0   \n",
       "6268               1              1              0            0   \n",
       "23022              1              1              0            0   \n",
       "5                  1              1              0            0   \n",
       "\n",
       "       Rear Seat Entertainment  Rear speakers  Steering Switches  Sun Roof  \\\n",
       "42499                        0              0                  0         0   \n",
       "31743                        0              0                  0         0   \n",
       "6268                         0              0                  0         0   \n",
       "23022                        0              0                  0         0   \n",
       "5                            0              0                  0         1   \n",
       "\n",
       "       USB and Auxillary Cable  \n",
       "42499                        0  \n",
       "31743                        0  \n",
       "6268                         0  \n",
       "23022                        0  \n",
       "5                            0  \n",
       "\n",
       "[5 rows x 40 columns]"
      ]
     },
     "execution_count": 45,
     "metadata": {},
     "output_type": "execute_result"
    }
   ],
   "source": [
    "## let's remove Name and Feature \n",
    "df.drop(columns={'Name', 'Features'}, inplace=True)\n",
    "df.sample(5)"
   ]
  },
  {
   "cell_type": "markdown",
   "metadata": {},
   "source": [
    "# **Modeling**"
   ]
  },
  {
   "cell_type": "markdown",
   "metadata": {},
   "source": [
    "----"
   ]
  },
  {
   "cell_type": "markdown",
   "metadata": {},
   "source": [
    "## **Encoding**"
   ]
  },
  {
   "cell_type": "code",
   "execution_count": 46,
   "metadata": {},
   "outputs": [
    {
     "data": {
      "text/plain": [
       "Petrol    41280\n",
       "Hybrid     1314\n",
       "Diesel      908\n",
       "Name: Engine Type, dtype: int64"
      ]
     },
     "execution_count": 46,
     "metadata": {},
     "output_type": "execute_result"
    }
   ],
   "source": [
    "# let's see our categorical columns\n",
    "df['Engine Type'].value_counts()"
   ]
  },
  {
   "cell_type": "code",
   "execution_count": 47,
   "metadata": {},
   "outputs": [
    {
     "data": {
      "text/plain": [
       "Manual       23471\n",
       "Automatic    20031\n",
       "Name: Transmission, dtype: int64"
      ]
     },
     "execution_count": 47,
     "metadata": {},
     "output_type": "execute_result"
    }
   ],
   "source": [
    "df['Transmission'].value_counts()  "
   ]
  },
  {
   "cell_type": "code",
   "execution_count": 48,
   "metadata": {},
   "outputs": [
    {
     "data": {
      "text/plain": [
       "Hatchback    20461\n",
       "Sedan        17994\n",
       "Suv           2173\n",
       "Mini Van      1117\n",
       "Crossover     1107\n",
       "Van            650\n",
       "Name: Body Type, dtype: int64"
      ]
     },
     "execution_count": 48,
     "metadata": {},
     "output_type": "execute_result"
    }
   ],
   "source": [
    "df['Body Type'].value_counts()  \n"
   ]
  },
  {
   "cell_type": "code",
   "execution_count": 49,
   "metadata": {},
   "outputs": [
    {
     "data": {
      "text/plain": [
       "Local       29741\n",
       "Imported    13761\n",
       "Name: Assembly, dtype: int64"
      ]
     },
     "execution_count": 49,
     "metadata": {},
     "output_type": "execute_result"
    }
   ],
   "source": [
    "df['Assembly'].value_counts()  "
   ]
  },
  {
   "cell_type": "code",
   "execution_count": 50,
   "metadata": {},
   "outputs": [
    {
     "data": {
      "text/plain": [
       "White        16663\n",
       "Silver        7564\n",
       "Black         5680\n",
       "Grey          4803\n",
       "Blue          1999\n",
       "Assembly      1287\n",
       "Gold           947\n",
       "Maroon         871\n",
       "Red            762\n",
       "Green          720\n",
       "Beige          555\n",
       "Burgundy       289\n",
       "Brown          252\n",
       "Turquoise      215\n",
       "Bronze         208\n",
       "Pink           181\n",
       "Navy           111\n",
       "Unlisted       103\n",
       "Yellow          87\n",
       "Purple          85\n",
       "Indigo          81\n",
       "Orange          37\n",
       "Magenta          1\n",
       "Wine             1\n",
       "Name: Color, dtype: int64"
      ]
     },
     "execution_count": 50,
     "metadata": {},
     "output_type": "execute_result"
    }
   ],
   "source": [
    "df.Color.value_counts()"
   ]
  },
  {
   "cell_type": "code",
   "execution_count": 51,
   "metadata": {},
   "outputs": [
    {
     "name": "stdout",
     "output_type": "stream",
     "text": [
      "30\n",
      "192\n",
      "280\n",
      "24\n"
     ]
    }
   ],
   "source": [
    "print(df['Manufacturer'].value_counts().count())\n",
    "print(df['Model'].value_counts().count())\n",
    "print(df['variant'].value_counts().count())\n",
    "print(df['Color'].value_counts().count())"
   ]
  },
  {
   "cell_type": "markdown",
   "metadata": {},
   "source": [
    "### One Hot Encoding \n",
    "- Color\n",
    "- Manufecturar total 30\n",
    "- MOdel \n",
    "- variant especial case see it \n",
    "- Assembly\n",
    "\n",
    "\n",
    "\n",
    "\n",
    "### Label encoding\n",
    "- Body Type\n",
    "- Engine type \n",
    "- Transmission \n",
    "\n",
    "\n",
    "\n"
   ]
  },
  {
   "cell_type": "markdown",
   "metadata": {},
   "source": [
    "## let's apply One hot encoding to these columns\n",
    "- Color\n",
    "- Manufecturar total 30\n",
    "- MOdel \n",
    "- variant especial case see it \n",
    "- Assembly"
   ]
  },
  {
   "cell_type": "markdown",
   "metadata": {},
   "source": [
    "### this is for OneHotEncoder\n"
   ]
  },
  {
   "cell_type": "code",
   "execution_count": 52,
   "metadata": {},
   "outputs": [],
   "source": [
    "from sklearn.compose import  ColumnTransformer\n",
    "from sklearn.preprocessing import OneHotEncoder, LabelEncoder, OrdinalEncoder\n",
    "# ohe = OneHotEncoder(drop='first', sparse=False)\n",
    "# ohe.fit_transform(X_train[['Color']]).shape  # there wer 24 catogaries, got 23 dimensions\n"
   ]
  },
  {
   "cell_type": "markdown",
   "metadata": {},
   "source": [
    "- I will apply OHE on Color, Assembly and Manufacturer columns as they are not to much"
   ]
  },
  {
   "cell_type": "code",
   "execution_count": 53,
   "metadata": {},
   "outputs": [],
   "source": [
    "not_valid = df.Manufacturer.value_counts()[15:].index\n",
    "df.Manufacturer = df.Manufacturer.replace(not_valid, 'Uncommon')"
   ]
  },
  {
   "cell_type": "code",
   "execution_count": 54,
   "metadata": {},
   "outputs": [],
   "source": [
    "transformer_OHE = ColumnTransformer(transformers=[\n",
    "    ('ohe1', (OneHotEncoder(drop='first', sparse=False)),['Color','Manufacturer', 'Assembly'])\n",
    "], remainder='passthrough')"
   ]
  },
  {
   "cell_type": "code",
   "execution_count": 55,
   "metadata": {},
   "outputs": [],
   "source": [
    "J = transformer_OHE.fit_transform(df)\n",
    "#just to look at changes, I made J"
   ]
  },
  {
   "cell_type": "markdown",
   "metadata": {},
   "source": [
    "- I will apply OHE on top Model and variant values not on all."
   ]
  },
  {
   "cell_type": "code",
   "execution_count": 56,
   "metadata": {},
   "outputs": [],
   "source": [
    "# here I will take just top 15 models, and rest will be replace by uncommon\n",
    "not_valid = df.Model.value_counts()[15:].index\n",
    "df.Model = df.Model.replace(not_valid, 'Uncommon')\n",
    "# df.sample(10)['Model']"
   ]
  },
  {
   "cell_type": "code",
   "execution_count": 57,
   "metadata": {},
   "outputs": [],
   "source": [
    "# same logic, I will take just top 15 value, for escaping from too many features\n",
    "not_valid = df.variant.value_counts()[15:].index \n",
    "df.variant = df.variant.replace(not_valid, 'Uncommon')"
   ]
  },
  {
   "cell_type": "code",
   "execution_count": 58,
   "metadata": {},
   "outputs": [],
   "source": [
    "transformer_OHE = ColumnTransformer(transformers=[\n",
    "    ('ohe1', (OneHotEncoder(drop='first', sparse=False)),['Model','variant'])\n",
    "], remainder='passthrough')"
   ]
  },
  {
   "cell_type": "code",
   "execution_count": 59,
   "metadata": {},
   "outputs": [],
   "source": [
    "jj = transformer_OHE.fit_transform(df)"
   ]
  },
  {
   "cell_type": "markdown",
   "metadata": {},
   "source": [
    "#### this is for ordinal Data "
   ]
  },
  {
   "cell_type": "markdown",
   "metadata": {},
   "source": [
    "- body TypeBody type is broken down in 1 to 6 where: 1 for Hatchback 2 for Sedan 3 for Suv 4 for mini van 5 for Crossover 6 for Van\n",
    "- Engine type is broken down in 1 to 3 where: 1 -> Petrol 2 -> Diesel 3 -> Hybrid\n",
    "- Transmission is broken down in 1 to 2 where: 1 -> Automatic 2 -> Manual\n"
   ]
  },
  {
   "cell_type": "code",
   "execution_count": 60,
   "metadata": {},
   "outputs": [],
   "source": [
    "## lets Encode our categorical Data\n",
    "transformer_OE = ColumnTransformer(transformers=[\n",
    "    ('Ordinal1', OrdinalEncoder(categories=[['Hatchback','Sedan','Suv','Mini Van','Crossover','Van']]),['Body Type']),\n",
    "    ('Ordinal2', OrdinalEncoder(categories=[['Petrol','Diesel','Hybrid']]), ['Engine Type']),\n",
    "    ('Ordinal3', OrdinalEncoder(categories=[['Automatic', 'Manual']]), ['Transmission'])\n",
    "], remainder='passthrough' )"
   ]
  },
  {
   "cell_type": "code",
   "execution_count": 61,
   "metadata": {},
   "outputs": [],
   "source": [
    "JJ = transformer_OE.fit_transform(df)\n"
   ]
  },
  {
   "cell_type": "markdown",
   "metadata": {},
   "source": [
    "## **Scaling Some Features**"
   ]
  },
  {
   "cell_type": "code",
   "execution_count": 62,
   "metadata": {},
   "outputs": [
    {
     "name": "stdout",
     "output_type": "stream",
     "text": [
      "<class 'pandas.core.frame.DataFrame'>\n",
      "Int64Index: 43502 entries, 0 to 43501\n",
      "Data columns (total 40 columns):\n",
      " #   Column                   Non-Null Count  Dtype \n",
      "---  ------                   --------------  ----- \n",
      " 0   Price                    43502 non-null  int64 \n",
      " 1   Model Year               43502 non-null  int64 \n",
      " 2   Mileage                  43502 non-null  int64 \n",
      " 3   Engine Type              43502 non-null  object\n",
      " 4   Engine Capacity          43502 non-null  int64 \n",
      " 5   Transmission             43502 non-null  object\n",
      " 6   Color                    43502 non-null  object\n",
      " 7   Assembly                 43502 non-null  object\n",
      " 8   Body Type                43502 non-null  object\n",
      " 9   Manufacturer             43502 non-null  object\n",
      " 10  Model                    43502 non-null  object\n",
      " 11  variant                  43502 non-null  object\n",
      " 12  ABS                      43502 non-null  int32 \n",
      " 13  AM/FM Radio              43502 non-null  int32 \n",
      " 14  Air Bags                 43502 non-null  int32 \n",
      " 15  Air Conditioning         43502 non-null  int32 \n",
      " 16  Alloy Rims               43502 non-null  int32 \n",
      " 17  CD Player                43502 non-null  int32 \n",
      " 18  Cassette Player          43502 non-null  int32 \n",
      " 19  Climate Control          43502 non-null  int32 \n",
      " 20  CoolBox                  43502 non-null  int32 \n",
      " 21  Cruise Control           43502 non-null  int32 \n",
      " 22  DVD Player               43502 non-null  int32 \n",
      " 23  Front Camera             43502 non-null  int32 \n",
      " 24  Front Speakers           43502 non-null  int32 \n",
      " 25  Heated Seats             43502 non-null  int32 \n",
      " 26  Immobilizer Key          43502 non-null  int32 \n",
      " 27  Keyless Entry            43502 non-null  int32 \n",
      " 28  Navigation System        43502 non-null  int32 \n",
      " 29  Power Locks              43502 non-null  int32 \n",
      " 30  Power Mirrors            43502 non-null  int32 \n",
      " 31  Power Steering           43502 non-null  int32 \n",
      " 32  Power Windows            43502 non-null  int32 \n",
      " 33  Rear AC Vents            43502 non-null  int32 \n",
      " 34  Rear Camera              43502 non-null  int32 \n",
      " 35  Rear Seat Entertainment  43502 non-null  int32 \n",
      " 36  Rear speakers            43502 non-null  int32 \n",
      " 37  Steering Switches        43502 non-null  int32 \n",
      " 38  Sun Roof                 43502 non-null  int32 \n",
      " 39  USB and Auxillary Cable  43502 non-null  int32 \n",
      "dtypes: int32(28), int64(4), object(8)\n",
      "memory usage: 9.0+ MB\n"
     ]
    }
   ],
   "source": [
    "df.info()\n",
    "## let see these columns\n",
    "# Model year\n",
    "# Mileage\n",
    "# Engine Capacity \n",
    "# price "
   ]
  },
  {
   "cell_type": "code",
   "execution_count": 63,
   "metadata": {},
   "outputs": [
    {
     "data": {
      "text/plain": [
       "count    4.350200e+04\n",
       "mean     1.990125e+06\n",
       "std      2.860048e+06\n",
       "min      1.110000e+05\n",
       "25%      8.350000e+05\n",
       "50%      1.450000e+06\n",
       "75%      2.285000e+06\n",
       "max      7.750000e+07\n",
       "Name: Price, dtype: float64"
      ]
     },
     "execution_count": 63,
     "metadata": {},
     "output_type": "execute_result"
    }
   ],
   "source": [
    "df['Model Year'].describe()  # I will scale this \n",
    "df['Mileage'].describe()    # I will scale this, but there are some sort of outlier, so will apply RobustScaling which Scales the data by the InterQuartile Range(IQR) \n",
    "df['Engine Capacity'].describe() # I will scale this as well\n",
    "df['Price'].describe()  # I will normalize this"
   ]
  },
  {
   "cell_type": "markdown",
   "metadata": {},
   "source": [
    "- Price Normality "
   ]
  },
  {
   "cell_type": "code",
   "execution_count": 64,
   "metadata": {},
   "outputs": [
    {
     "name": "stdout",
     "output_type": "stream",
     "text": [
      "qq-Plot \n",
      "stat=0.392, p=0.000\n",
      "Probably not Gaussian nor normal distribution\n"
     ]
    },
    {
     "name": "stderr",
     "output_type": "stream",
     "text": [
      "c:\\Users\\Abu Ubaida\\anaconda3\\lib\\site-packages\\scipy\\stats\\morestats.py:1760: UserWarning: p-value may not be accurate for N > 5000.\n",
      "  warnings.warn(\"p-value may not be accurate for N > 5000.\")\n"
     ]
    },
    {
     "data": {
      "image/png": "[encoded data removed]",
      "text/plain": [
       "<Figure size 1080x576 with 1 Axes>"
      ]
     },
     "metadata": {
      "needs_background": "light"
     },
     "output_type": "display_data"
    },
    {
     "data": {
      "image/png": "[encoded data removed]",
      "text/plain": [
       "<Figure size 432x288 with 1 Axes>"
      ]
     },
     "metadata": {
      "needs_background": "light"
     },
     "output_type": "display_data"
    }
   ],
   "source": [
    "\n",
    "## let's check the normality of These features.\n",
    "## ----------------------------------------------------- ## Histplot\n",
    "\n",
    "plt.figure(figsize=(15,8))\n",
    "sns.histplot(df['Price'], color=\"green\", bins=50)  \n",
    "\n",
    "## ----------------------------------------------------- ## qqplot\n",
    "\n",
    "print(\"qq-Plot \")\n",
    "from statsmodels.graphics.gofplots import qqplot\n",
    "qqplot(df['Price'])\n",
    "\n",
    "## ----------------------------------------------------- ## Shapiro\n",
    "from scipy.stats import shapiro\n",
    "stat, p = shapiro(df['Price'])\n",
    "print('stat=%.3f, p=%.3f' % (stat, p))\n",
    "\n",
    "# making a conditional argument for further use\n",
    "if p > 0.05:\n",
    "    print('Probably Gaussian or Normal Distribution')\n",
    "else:\n",
    "    print('Probably not Gaussian nor normal distribution')"
   ]
  },
  {
   "cell_type": "markdown",
   "metadata": {},
   "source": [
    "- Model Year normality"
   ]
  },
  {
   "cell_type": "code",
   "execution_count": 65,
   "metadata": {},
   "outputs": [
    {
     "name": "stdout",
     "output_type": "stream",
     "text": [
      "qq-Plot \n",
      "stat=0.908, p=0.000\n",
      "Probably not Gaussian nor normal distribution\n"
     ]
    },
    {
     "name": "stderr",
     "output_type": "stream",
     "text": [
      "c:\\Users\\Abu Ubaida\\anaconda3\\lib\\site-packages\\scipy\\stats\\morestats.py:1760: UserWarning: p-value may not be accurate for N > 5000.\n",
      "  warnings.warn(\"p-value may not be accurate for N > 5000.\")\n"
     ]
    },
    {
     "data": {
      "image/png": "[encoded data removed]",
      "text/plain": [
       "<Figure size 720x576 with 1 Axes>"
      ]
     },
     "metadata": {
      "needs_background": "light"
     },
     "output_type": "display_data"
    },
    {
     "data": {
      "image/png": "[encoded data removed]",
      "text/plain": [
       "<Figure size 432x288 with 1 Axes>"
      ]
     },
     "metadata": {
      "needs_background": "light"
     },
     "output_type": "display_data"
    }
   ],
   "source": [
    "\n",
    "## let's check the normality of These features.\n",
    "## ----------------------------------------------------- ## Histplot\n",
    "\n",
    "plt.figure(figsize=(10, 8))\n",
    "sns.histplot(df['Model Year'], color=\"green\", bins=50)  \n",
    "\n",
    "## ----------------------------------------------------- ## qqplot\n",
    "\n",
    "print(\"qq-Plot \")\n",
    "from statsmodels.graphics.gofplots import qqplot\n",
    "qqplot(df['Model Year'])\n",
    "\n",
    "## ----------------------------------------------------- ## Shapiro\n",
    "from scipy.stats import shapiro\n",
    "stat, p = shapiro(df['Model Year'])\n",
    "print('stat=%.3f, p=%.3f' % (stat, p))\n",
    "\n",
    "# make a coditional argument for further use\n",
    "if p > 0.05:\n",
    "    print('Probably Gaussian or Normal Distribution')\n",
    "else:\n",
    "    print('Probably not Gaussian nor normal distribution')"
   ]
  },
  {
   "cell_type": "markdown",
   "metadata": {},
   "source": [
    "- Mileage Normality "
   ]
  },
  {
   "cell_type": "code",
   "execution_count": 66,
   "metadata": {},
   "outputs": [
    {
     "name": "stdout",
     "output_type": "stream",
     "text": [
      "qq-Plot \n",
      "stat=0.859, p=0.000\n",
      "Probably not Gaussian nor normal distribution\n"
     ]
    },
    {
     "name": "stderr",
     "output_type": "stream",
     "text": [
      "c:\\Users\\Abu Ubaida\\anaconda3\\lib\\site-packages\\scipy\\stats\\morestats.py:1760: UserWarning: p-value may not be accurate for N > 5000.\n",
      "  warnings.warn(\"p-value may not be accurate for N > 5000.\")\n"
     ]
    },
    {
     "data": {
      "image/png": "[encoded data removed]",
      "text/plain": [
       "<Figure size 720x576 with 1 Axes>"
      ]
     },
     "metadata": {
      "needs_background": "light"
     },
     "output_type": "display_data"
    },
    {
     "data": {
      "image/png": "[encoded data removed]",
      "text/plain": [
       "<Figure size 432x288 with 1 Axes>"
      ]
     },
     "metadata": {
      "needs_background": "light"
     },
     "output_type": "display_data"
    }
   ],
   "source": [
    "\n",
    "## let's check the normality of These features.\n",
    "## ----------------------------------------------------- ## Histplot\n",
    "\n",
    "plt.figure(figsize=(10,8))\n",
    "sns.histplot(df['Mileage'], color=\"green\", bins=50)  \n",
    "\n",
    "## ----------------------------------------------------- ## qqplot\n",
    "\n",
    "print(\"qq-Plot \")\n",
    "from statsmodels.graphics.gofplots import qqplot\n",
    "qqplot(df['Mileage'])\n",
    "\n",
    "## ----------------------------------------------------- ## Shapiro\n",
    "from scipy.stats import shapiro\n",
    "stat, p = shapiro(df['Mileage'])\n",
    "print('stat=%.3f, p=%.3f' % (stat, p))\n",
    "\n",
    "# make a coditional argument for further use\n",
    "if p > 0.05:\n",
    "    print('Probably Gaussian or Normal Distribution')\n",
    "else:\n",
    "    print('Probably not Gaussian nor normal distribution')"
   ]
  },
  {
   "cell_type": "markdown",
   "metadata": {},
   "source": [
    "- Engine Capacity"
   ]
  },
  {
   "cell_type": "code",
   "execution_count": 67,
   "metadata": {},
   "outputs": [
    {
     "name": "stdout",
     "output_type": "stream",
     "text": [
      "qq-Plot \n",
      "stat=0.772, p=0.000\n",
      "Probably not Gaussian nor normal distribution\n"
     ]
    },
    {
     "name": "stderr",
     "output_type": "stream",
     "text": [
      "c:\\Users\\Abu Ubaida\\anaconda3\\lib\\site-packages\\scipy\\stats\\morestats.py:1760: UserWarning: p-value may not be accurate for N > 5000.\n",
      "  warnings.warn(\"p-value may not be accurate for N > 5000.\")\n"
     ]
    },
    {
     "data": {
      "image/png": "[encoded data removed]",
      "text/plain": [
       "<Figure size 1080x576 with 1 Axes>"
      ]
     },
     "metadata": {
      "needs_background": "light"
     },
     "output_type": "display_data"
    },
    {
     "data": {
      "image/png": "[encoded data removed]",
      "text/plain": [
       "<Figure size 432x288 with 1 Axes>"
      ]
     },
     "metadata": {
      "needs_background": "light"
     },
     "output_type": "display_data"
    }
   ],
   "source": [
    "\n",
    "## let's check the normality of These features.\n",
    "## ----------------------------------------------------- ## Histplot\n",
    "\n",
    "plt.figure(figsize=(15,8))\n",
    "sns.histplot(df['Engine Capacity'], color=\"green\", bins=50)  \n",
    "\n",
    "## ----------------------------------------------------- ## qqplot\n",
    "\n",
    "print(\"qq-Plot \")\n",
    "from statsmodels.graphics.gofplots import qqplot\n",
    "qqplot(df['Engine Capacity'])\n",
    "\n",
    "## ----------------------------------------------------- ## Shapiro\n",
    "from scipy.stats import shapiro\n",
    "stat, p = shapiro(df['Engine Capacity'])\n",
    "print('stat=%.3f, p=%.3f' % (stat, p))\n",
    "\n",
    "# make a coditional argument for further use\n",
    "if p > 0.05:\n",
    "    print('Probably Gaussian or Normal Distribution')\n",
    "else:\n",
    "    print('Probably not Gaussian nor normal distribution')"
   ]
  },
  {
   "cell_type": "markdown",
   "metadata": {},
   "source": [
    "- As we can see that, each feature needs to be Scaled and normalized, so here is the best scaler technique for both of them that is \n",
    "#### Quantile Transformer Scaler\n",
    "the Quantile Transformer Scaler converts the variable distribution to a normal distribution. and scales it accordingly. Since it makes the variable normally distributed, it also deals with the outliers"
   ]
  },
  {
   "cell_type": "code",
   "execution_count": 68,
   "metadata": {},
   "outputs": [],
   "source": [
    "## let's apply on mileage column \n",
    "from sklearn.preprocessing import QuantileTransformer, RobustScaler\n",
    "qt = QuantileTransformer()\n",
    "rs = RobustScaler()\n",
    "mileage_rs = rs.fit_transform(df[['Mileage']])\n",
    "mileage_qt = qt.fit_transform(df[['Mileage']])\n"
   ]
  },
  {
   "cell_type": "code",
   "execution_count": 69,
   "metadata": {},
   "outputs": [
    {
     "data": {
      "text/plain": [
       "<AxesSubplot:xlabel='Mileage', ylabel='Count'>"
      ]
     },
     "execution_count": 69,
     "metadata": {},
     "output_type": "execute_result"
    },
    {
     "data": {
      "image/png": "[encoded data removed]",
      "text/plain": [
       "<Figure size 432x288 with 1 Axes>"
      ]
     },
     "metadata": {
      "needs_background": "light"
     },
     "output_type": "display_data"
    }
   ],
   "source": [
    "#before scaling \n",
    "sns.histplot(df.Mileage)"
   ]
  },
  {
   "cell_type": "code",
   "execution_count": 70,
   "metadata": {},
   "outputs": [
    {
     "data": {
      "text/plain": [
       "<AxesSubplot:ylabel='Count'>"
      ]
     },
     "execution_count": 70,
     "metadata": {},
     "output_type": "execute_result"
    },
    {
     "data": {
      "image/png": "[encoded data removed]",
      "text/plain": [
       "<Figure size 432x288 with 1 Axes>"
      ]
     },
     "metadata": {
      "needs_background": "light"
     },
     "output_type": "display_data"
    }
   ],
   "source": [
    "#after QuantileTransformer \n",
    "sns.histplot(mileage_qt)   # as it tackled some outliers as well so will apply this to rest "
   ]
  },
  {
   "cell_type": "code",
   "execution_count": 71,
   "metadata": {},
   "outputs": [
    {
     "data": {
      "text/plain": [
       "<AxesSubplot:ylabel='Count'>"
      ]
     },
     "execution_count": 71,
     "metadata": {},
     "output_type": "execute_result"
    },
    {
     "data": {
      "image/png": "[encoded data removed]",
      "text/plain": [
       "<Figure size 432x288 with 1 Axes>"
      ]
     },
     "metadata": {
      "needs_background": "light"
     },
     "output_type": "display_data"
    }
   ],
   "source": [
    "## let's see RobustScaler\n",
    "sns.histplot(mileage_rs)"
   ]
  },
  {
   "cell_type": "code",
   "execution_count": 72,
   "metadata": {},
   "outputs": [
    {
     "data": {
      "text/plain": [
       "<AxesSubplot:xlabel='Mileage', ylabel='Count'>"
      ]
     },
     "execution_count": 72,
     "metadata": {},
     "output_type": "execute_result"
    },
    {
     "data": {
      "image/png": "[encoded data removed]",
      "text/plain": [
       "<Figure size 432x288 with 1 Axes>"
      ]
     },
     "metadata": {
      "needs_background": "light"
     },
     "output_type": "display_data"
    }
   ],
   "source": [
    "# let's first normalize it\n",
    "mileage_log = np.log(df['Mileage'])\n",
    "sns.histplot(mileage_log)"
   ]
  },
  {
   "cell_type": "markdown",
   "metadata": {},
   "source": [
    "- So Now I will apply log transformation on price column, later I will have to show user about price by exponential\n",
    "- and QuantileTransformer on rest, because it is handling outlier and normalizing as well. \n",
    "- it will be applied on below column-Transformer "
   ]
  },
  {
   "cell_type": "markdown",
   "metadata": {},
   "source": [
    "## **All in just one Column Transformer**"
   ]
  },
  {
   "cell_type": "code",
   "execution_count": 73,
   "metadata": {},
   "outputs": [
    {
     "data": {
      "text/html": [
       "<div>\n",
       "<style scoped>\n",
       "    .dataframe tbody tr th:only-of-type {\n",
       "        vertical-align: middle;\n",
       "    }\n",
       "\n",
       "    .dataframe tbody tr th {\n",
       "        vertical-align: top;\n",
       "    }\n",
       "\n",
       "    .dataframe thead th {\n",
       "        text-align: right;\n",
       "    }\n",
       "</style>\n",
       "<table border=\"1\" class=\"dataframe\">\n",
       "  <thead>\n",
       "    <tr style=\"text-align: right;\">\n",
       "      <th></th>\n",
       "      <th>Price</th>\n",
       "      <th>Model Year</th>\n",
       "      <th>Mileage</th>\n",
       "      <th>Engine Type</th>\n",
       "      <th>Engine Capacity</th>\n",
       "      <th>Transmission</th>\n",
       "      <th>Color</th>\n",
       "      <th>Assembly</th>\n",
       "      <th>Body Type</th>\n",
       "      <th>Manufacturer</th>\n",
       "      <th>...</th>\n",
       "      <th>Power Mirrors</th>\n",
       "      <th>Power Steering</th>\n",
       "      <th>Power Windows</th>\n",
       "      <th>Rear AC Vents</th>\n",
       "      <th>Rear Camera</th>\n",
       "      <th>Rear Seat Entertainment</th>\n",
       "      <th>Rear speakers</th>\n",
       "      <th>Steering Switches</th>\n",
       "      <th>Sun Roof</th>\n",
       "      <th>USB and Auxillary Cable</th>\n",
       "    </tr>\n",
       "  </thead>\n",
       "  <tbody>\n",
       "    <tr>\n",
       "      <th>14787</th>\n",
       "      <td>1180000</td>\n",
       "      <td>2012</td>\n",
       "      <td>100000</td>\n",
       "      <td>Petrol</td>\n",
       "      <td>1300</td>\n",
       "      <td>Manual</td>\n",
       "      <td>White</td>\n",
       "      <td>Local</td>\n",
       "      <td>Hatchback</td>\n",
       "      <td>Suzuki</td>\n",
       "      <td>...</td>\n",
       "      <td>1</td>\n",
       "      <td>1</td>\n",
       "      <td>1</td>\n",
       "      <td>0</td>\n",
       "      <td>0</td>\n",
       "      <td>0</td>\n",
       "      <td>0</td>\n",
       "      <td>0</td>\n",
       "      <td>0</td>\n",
       "      <td>0</td>\n",
       "    </tr>\n",
       "    <tr>\n",
       "      <th>27666</th>\n",
       "      <td>4500000</td>\n",
       "      <td>2000</td>\n",
       "      <td>150000</td>\n",
       "      <td>Diesel</td>\n",
       "      <td>4200</td>\n",
       "      <td>Automatic</td>\n",
       "      <td>Assembly</td>\n",
       "      <td>Imported</td>\n",
       "      <td>Suv</td>\n",
       "      <td>Toyota</td>\n",
       "      <td>...</td>\n",
       "      <td>1</td>\n",
       "      <td>1</td>\n",
       "      <td>1</td>\n",
       "      <td>0</td>\n",
       "      <td>0</td>\n",
       "      <td>0</td>\n",
       "      <td>0</td>\n",
       "      <td>0</td>\n",
       "      <td>0</td>\n",
       "      <td>0</td>\n",
       "    </tr>\n",
       "    <tr>\n",
       "      <th>21466</th>\n",
       "      <td>780000</td>\n",
       "      <td>2017</td>\n",
       "      <td>70852</td>\n",
       "      <td>Petrol</td>\n",
       "      <td>800</td>\n",
       "      <td>Manual</td>\n",
       "      <td>White</td>\n",
       "      <td>Local</td>\n",
       "      <td>Hatchback</td>\n",
       "      <td>Suzuki</td>\n",
       "      <td>...</td>\n",
       "      <td>1</td>\n",
       "      <td>1</td>\n",
       "      <td>1</td>\n",
       "      <td>0</td>\n",
       "      <td>0</td>\n",
       "      <td>0</td>\n",
       "      <td>0</td>\n",
       "      <td>0</td>\n",
       "      <td>0</td>\n",
       "      <td>0</td>\n",
       "    </tr>\n",
       "    <tr>\n",
       "      <th>21719</th>\n",
       "      <td>530000</td>\n",
       "      <td>2005</td>\n",
       "      <td>180000</td>\n",
       "      <td>Petrol</td>\n",
       "      <td>1300</td>\n",
       "      <td>Manual</td>\n",
       "      <td>Silver</td>\n",
       "      <td>Local</td>\n",
       "      <td>Sedan</td>\n",
       "      <td>Suzuki</td>\n",
       "      <td>...</td>\n",
       "      <td>0</td>\n",
       "      <td>1</td>\n",
       "      <td>1</td>\n",
       "      <td>0</td>\n",
       "      <td>0</td>\n",
       "      <td>0</td>\n",
       "      <td>0</td>\n",
       "      <td>0</td>\n",
       "      <td>0</td>\n",
       "      <td>0</td>\n",
       "    </tr>\n",
       "    <tr>\n",
       "      <th>1885</th>\n",
       "      <td>1475000</td>\n",
       "      <td>2009</td>\n",
       "      <td>91000</td>\n",
       "      <td>Petrol</td>\n",
       "      <td>1000</td>\n",
       "      <td>Automatic</td>\n",
       "      <td>Black</td>\n",
       "      <td>Imported</td>\n",
       "      <td>Hatchback</td>\n",
       "      <td>Toyota</td>\n",
       "      <td>...</td>\n",
       "      <td>0</td>\n",
       "      <td>0</td>\n",
       "      <td>0</td>\n",
       "      <td>0</td>\n",
       "      <td>0</td>\n",
       "      <td>0</td>\n",
       "      <td>0</td>\n",
       "      <td>0</td>\n",
       "      <td>0</td>\n",
       "      <td>0</td>\n",
       "    </tr>\n",
       "  </tbody>\n",
       "</table>\n",
       "<p>5 rows × 40 columns</p>\n",
       "</div>"
      ],
      "text/plain": [
       "         Price  Model Year  Mileage Engine Type  Engine Capacity Transmission  \\\n",
       "14787  1180000        2012   100000      Petrol             1300       Manual   \n",
       "27666  4500000        2000   150000      Diesel             4200    Automatic   \n",
       "21466   780000        2017    70852      Petrol              800       Manual   \n",
       "21719   530000        2005   180000      Petrol             1300       Manual   \n",
       "1885   1475000        2009    91000      Petrol             1000    Automatic   \n",
       "\n",
       "          Color  Assembly  Body Type Manufacturer  ... Power Mirrors  \\\n",
       "14787     White     Local  Hatchback       Suzuki  ...             1   \n",
       "27666  Assembly  Imported        Suv       Toyota  ...             1   \n",
       "21466     White     Local  Hatchback       Suzuki  ...             1   \n",
       "21719    Silver     Local      Sedan       Suzuki  ...             0   \n",
       "1885      Black  Imported  Hatchback       Toyota  ...             0   \n",
       "\n",
       "      Power Steering  Power Windows  Rear AC Vents  Rear Camera  \\\n",
       "14787              1              1              0            0   \n",
       "27666              1              1              0            0   \n",
       "21466              1              1              0            0   \n",
       "21719              1              1              0            0   \n",
       "1885               0              0              0            0   \n",
       "\n",
       "       Rear Seat Entertainment  Rear speakers  Steering Switches  Sun Roof  \\\n",
       "14787                        0              0                  0         0   \n",
       "27666                        0              0                  0         0   \n",
       "21466                        0              0                  0         0   \n",
       "21719                        0              0                  0         0   \n",
       "1885                         0              0                  0         0   \n",
       "\n",
       "       USB and Auxillary Cable  \n",
       "14787                        0  \n",
       "27666                        0  \n",
       "21466                        0  \n",
       "21719                        0  \n",
       "1885                         0  \n",
       "\n",
       "[5 rows x 40 columns]"
      ]
     },
     "execution_count": 73,
     "metadata": {},
     "output_type": "execute_result"
    }
   ],
   "source": [
    "df.sample(5)"
   ]
  },
  {
   "cell_type": "code",
   "execution_count": 74,
   "metadata": {},
   "outputs": [
    {
     "name": "stdout",
     "output_type": "stream",
     "text": [
      "<class 'pandas.core.frame.DataFrame'>\n",
      "Int64Index: 43502 entries, 0 to 43501\n",
      "Data columns (total 40 columns):\n",
      " #   Column                   Non-Null Count  Dtype \n",
      "---  ------                   --------------  ----- \n",
      " 0   Price                    43502 non-null  int64 \n",
      " 1   Model Year               43502 non-null  int64 \n",
      " 2   Mileage                  43502 non-null  int64 \n",
      " 3   Engine Type              43502 non-null  object\n",
      " 4   Engine Capacity          43502 non-null  int64 \n",
      " 5   Transmission             43502 non-null  object\n",
      " 6   Color                    43502 non-null  object\n",
      " 7   Assembly                 43502 non-null  object\n",
      " 8   Body Type                43502 non-null  object\n",
      " 9   Manufacturer             43502 non-null  object\n",
      " 10  Model                    43502 non-null  object\n",
      " 11  variant                  43502 non-null  object\n",
      " 12  ABS                      43502 non-null  int32 \n",
      " 13  AM/FM Radio              43502 non-null  int32 \n",
      " 14  Air Bags                 43502 non-null  int32 \n",
      " 15  Air Conditioning         43502 non-null  int32 \n",
      " 16  Alloy Rims               43502 non-null  int32 \n",
      " 17  CD Player                43502 non-null  int32 \n",
      " 18  Cassette Player          43502 non-null  int32 \n",
      " 19  Climate Control          43502 non-null  int32 \n",
      " 20  CoolBox                  43502 non-null  int32 \n",
      " 21  Cruise Control           43502 non-null  int32 \n",
      " 22  DVD Player               43502 non-null  int32 \n",
      " 23  Front Camera             43502 non-null  int32 \n",
      " 24  Front Speakers           43502 non-null  int32 \n",
      " 25  Heated Seats             43502 non-null  int32 \n",
      " 26  Immobilizer Key          43502 non-null  int32 \n",
      " 27  Keyless Entry            43502 non-null  int32 \n",
      " 28  Navigation System        43502 non-null  int32 \n",
      " 29  Power Locks              43502 non-null  int32 \n",
      " 30  Power Mirrors            43502 non-null  int32 \n",
      " 31  Power Steering           43502 non-null  int32 \n",
      " 32  Power Windows            43502 non-null  int32 \n",
      " 33  Rear AC Vents            43502 non-null  int32 \n",
      " 34  Rear Camera              43502 non-null  int32 \n",
      " 35  Rear Seat Entertainment  43502 non-null  int32 \n",
      " 36  Rear speakers            43502 non-null  int32 \n",
      " 37  Steering Switches        43502 non-null  int32 \n",
      " 38  Sun Roof                 43502 non-null  int32 \n",
      " 39  USB and Auxillary Cable  43502 non-null  int32 \n",
      "dtypes: int32(28), int64(4), object(8)\n",
      "memory usage: 9.0+ MB\n"
     ]
    }
   ],
   "source": [
    "df.info()"
   ]
  },
  {
   "cell_type": "code",
   "execution_count": 75,
   "metadata": {},
   "outputs": [],
   "source": [
    "X = df.drop(columns=['Price'])\n",
    "y = np.log(df.Price)"
   ]
  },
  {
   "cell_type": "code",
   "execution_count": 76,
   "metadata": {},
   "outputs": [
    {
     "data": {
      "text/html": [
       "<div>\n",
       "<style scoped>\n",
       "    .dataframe tbody tr th:only-of-type {\n",
       "        vertical-align: middle;\n",
       "    }\n",
       "\n",
       "    .dataframe tbody tr th {\n",
       "        vertical-align: top;\n",
       "    }\n",
       "\n",
       "    .dataframe thead th {\n",
       "        text-align: right;\n",
       "    }\n",
       "</style>\n",
       "<table border=\"1\" class=\"dataframe\">\n",
       "  <thead>\n",
       "    <tr style=\"text-align: right;\">\n",
       "      <th></th>\n",
       "      <th>Model Year</th>\n",
       "      <th>Mileage</th>\n",
       "      <th>Engine Type</th>\n",
       "      <th>Engine Capacity</th>\n",
       "      <th>Transmission</th>\n",
       "      <th>Color</th>\n",
       "      <th>Assembly</th>\n",
       "      <th>Body Type</th>\n",
       "      <th>Manufacturer</th>\n",
       "      <th>Model</th>\n",
       "      <th>...</th>\n",
       "      <th>Power Mirrors</th>\n",
       "      <th>Power Steering</th>\n",
       "      <th>Power Windows</th>\n",
       "      <th>Rear AC Vents</th>\n",
       "      <th>Rear Camera</th>\n",
       "      <th>Rear Seat Entertainment</th>\n",
       "      <th>Rear speakers</th>\n",
       "      <th>Steering Switches</th>\n",
       "      <th>Sun Roof</th>\n",
       "      <th>USB and Auxillary Cable</th>\n",
       "    </tr>\n",
       "  </thead>\n",
       "  <tbody>\n",
       "    <tr>\n",
       "      <th>0</th>\n",
       "      <td>2017</td>\n",
       "      <td>9869</td>\n",
       "      <td>Petrol</td>\n",
       "      <td>1000</td>\n",
       "      <td>Automatic</td>\n",
       "      <td>Silver</td>\n",
       "      <td>Imported</td>\n",
       "      <td>Hatchback</td>\n",
       "      <td>Toyota</td>\n",
       "      <td>Vitz</td>\n",
       "      <td>...</td>\n",
       "      <td>1</td>\n",
       "      <td>1</td>\n",
       "      <td>1</td>\n",
       "      <td>0</td>\n",
       "      <td>0</td>\n",
       "      <td>0</td>\n",
       "      <td>0</td>\n",
       "      <td>0</td>\n",
       "      <td>0</td>\n",
       "      <td>0</td>\n",
       "    </tr>\n",
       "    <tr>\n",
       "      <th>1</th>\n",
       "      <td>2019</td>\n",
       "      <td>11111</td>\n",
       "      <td>Petrol</td>\n",
       "      <td>1300</td>\n",
       "      <td>Automatic</td>\n",
       "      <td>White</td>\n",
       "      <td>Local</td>\n",
       "      <td>Sedan</td>\n",
       "      <td>Toyota</td>\n",
       "      <td>Corolla</td>\n",
       "      <td>...</td>\n",
       "      <td>1</td>\n",
       "      <td>1</td>\n",
       "      <td>1</td>\n",
       "      <td>0</td>\n",
       "      <td>0</td>\n",
       "      <td>0</td>\n",
       "      <td>0</td>\n",
       "      <td>0</td>\n",
       "      <td>0</td>\n",
       "      <td>0</td>\n",
       "    </tr>\n",
       "    <tr>\n",
       "      <th>2</th>\n",
       "      <td>2019</td>\n",
       "      <td>17500</td>\n",
       "      <td>Petrol</td>\n",
       "      <td>660</td>\n",
       "      <td>Automatic</td>\n",
       "      <td>White</td>\n",
       "      <td>Local</td>\n",
       "      <td>Hatchback</td>\n",
       "      <td>Suzuki</td>\n",
       "      <td>Alto</td>\n",
       "      <td>...</td>\n",
       "      <td>1</td>\n",
       "      <td>1</td>\n",
       "      <td>1</td>\n",
       "      <td>0</td>\n",
       "      <td>0</td>\n",
       "      <td>0</td>\n",
       "      <td>0</td>\n",
       "      <td>0</td>\n",
       "      <td>0</td>\n",
       "      <td>0</td>\n",
       "    </tr>\n",
       "    <tr>\n",
       "      <th>3</th>\n",
       "      <td>2019</td>\n",
       "      <td>9600</td>\n",
       "      <td>Petrol</td>\n",
       "      <td>660</td>\n",
       "      <td>Manual</td>\n",
       "      <td>White</td>\n",
       "      <td>Local</td>\n",
       "      <td>Hatchback</td>\n",
       "      <td>Suzuki</td>\n",
       "      <td>Alto</td>\n",
       "      <td>...</td>\n",
       "      <td>0</td>\n",
       "      <td>1</td>\n",
       "      <td>0</td>\n",
       "      <td>0</td>\n",
       "      <td>0</td>\n",
       "      <td>0</td>\n",
       "      <td>0</td>\n",
       "      <td>0</td>\n",
       "      <td>0</td>\n",
       "      <td>0</td>\n",
       "    </tr>\n",
       "    <tr>\n",
       "      <th>4</th>\n",
       "      <td>2010</td>\n",
       "      <td>120000</td>\n",
       "      <td>Petrol</td>\n",
       "      <td>1300</td>\n",
       "      <td>Manual</td>\n",
       "      <td>Black</td>\n",
       "      <td>Local</td>\n",
       "      <td>Sedan</td>\n",
       "      <td>Toyota</td>\n",
       "      <td>Corolla</td>\n",
       "      <td>...</td>\n",
       "      <td>0</td>\n",
       "      <td>1</td>\n",
       "      <td>0</td>\n",
       "      <td>0</td>\n",
       "      <td>0</td>\n",
       "      <td>0</td>\n",
       "      <td>0</td>\n",
       "      <td>0</td>\n",
       "      <td>0</td>\n",
       "      <td>0</td>\n",
       "    </tr>\n",
       "    <tr>\n",
       "      <th>...</th>\n",
       "      <td>...</td>\n",
       "      <td>...</td>\n",
       "      <td>...</td>\n",
       "      <td>...</td>\n",
       "      <td>...</td>\n",
       "      <td>...</td>\n",
       "      <td>...</td>\n",
       "      <td>...</td>\n",
       "      <td>...</td>\n",
       "      <td>...</td>\n",
       "      <td>...</td>\n",
       "      <td>...</td>\n",
       "      <td>...</td>\n",
       "      <td>...</td>\n",
       "      <td>...</td>\n",
       "      <td>...</td>\n",
       "      <td>...</td>\n",
       "      <td>...</td>\n",
       "      <td>...</td>\n",
       "      <td>...</td>\n",
       "      <td>...</td>\n",
       "    </tr>\n",
       "    <tr>\n",
       "      <th>43497</th>\n",
       "      <td>2006</td>\n",
       "      <td>107000</td>\n",
       "      <td>Petrol</td>\n",
       "      <td>1800</td>\n",
       "      <td>Manual</td>\n",
       "      <td>Black</td>\n",
       "      <td>Local</td>\n",
       "      <td>Sedan</td>\n",
       "      <td>Honda</td>\n",
       "      <td>Civic</td>\n",
       "      <td>...</td>\n",
       "      <td>1</td>\n",
       "      <td>1</td>\n",
       "      <td>1</td>\n",
       "      <td>0</td>\n",
       "      <td>0</td>\n",
       "      <td>0</td>\n",
       "      <td>0</td>\n",
       "      <td>0</td>\n",
       "      <td>0</td>\n",
       "      <td>0</td>\n",
       "    </tr>\n",
       "    <tr>\n",
       "      <th>43498</th>\n",
       "      <td>2011</td>\n",
       "      <td>83000</td>\n",
       "      <td>Petrol</td>\n",
       "      <td>1500</td>\n",
       "      <td>Automatic</td>\n",
       "      <td>Grey</td>\n",
       "      <td>Imported</td>\n",
       "      <td>Suv</td>\n",
       "      <td>Nissan</td>\n",
       "      <td>Uncommon</td>\n",
       "      <td>...</td>\n",
       "      <td>1</td>\n",
       "      <td>1</td>\n",
       "      <td>1</td>\n",
       "      <td>0</td>\n",
       "      <td>0</td>\n",
       "      <td>0</td>\n",
       "      <td>0</td>\n",
       "      <td>0</td>\n",
       "      <td>0</td>\n",
       "      <td>0</td>\n",
       "    </tr>\n",
       "    <tr>\n",
       "      <th>43499</th>\n",
       "      <td>2014</td>\n",
       "      <td>22000</td>\n",
       "      <td>Hybrid</td>\n",
       "      <td>1500</td>\n",
       "      <td>Automatic</td>\n",
       "      <td>White</td>\n",
       "      <td>Imported</td>\n",
       "      <td>Crossover</td>\n",
       "      <td>Honda</td>\n",
       "      <td>Vezel</td>\n",
       "      <td>...</td>\n",
       "      <td>1</td>\n",
       "      <td>1</td>\n",
       "      <td>1</td>\n",
       "      <td>0</td>\n",
       "      <td>0</td>\n",
       "      <td>0</td>\n",
       "      <td>0</td>\n",
       "      <td>0</td>\n",
       "      <td>0</td>\n",
       "      <td>0</td>\n",
       "    </tr>\n",
       "    <tr>\n",
       "      <th>43500</th>\n",
       "      <td>2007</td>\n",
       "      <td>123455</td>\n",
       "      <td>Petrol</td>\n",
       "      <td>1500</td>\n",
       "      <td>Automatic</td>\n",
       "      <td>Silver</td>\n",
       "      <td>Imported</td>\n",
       "      <td>Sedan</td>\n",
       "      <td>Toyota</td>\n",
       "      <td>Corolla</td>\n",
       "      <td>...</td>\n",
       "      <td>1</td>\n",
       "      <td>1</td>\n",
       "      <td>1</td>\n",
       "      <td>0</td>\n",
       "      <td>0</td>\n",
       "      <td>0</td>\n",
       "      <td>0</td>\n",
       "      <td>0</td>\n",
       "      <td>0</td>\n",
       "      <td>0</td>\n",
       "    </tr>\n",
       "    <tr>\n",
       "      <th>43501</th>\n",
       "      <td>1996</td>\n",
       "      <td>130000</td>\n",
       "      <td>Petrol</td>\n",
       "      <td>1600</td>\n",
       "      <td>Manual</td>\n",
       "      <td>Silver</td>\n",
       "      <td>Local</td>\n",
       "      <td>Sedan</td>\n",
       "      <td>Toyota</td>\n",
       "      <td>Corolla</td>\n",
       "      <td>...</td>\n",
       "      <td>1</td>\n",
       "      <td>1</td>\n",
       "      <td>1</td>\n",
       "      <td>0</td>\n",
       "      <td>0</td>\n",
       "      <td>0</td>\n",
       "      <td>0</td>\n",
       "      <td>0</td>\n",
       "      <td>0</td>\n",
       "      <td>0</td>\n",
       "    </tr>\n",
       "  </tbody>\n",
       "</table>\n",
       "<p>43502 rows × 39 columns</p>\n",
       "</div>"
      ],
      "text/plain": [
       "       Model Year  Mileage Engine Type  Engine Capacity Transmission   Color  \\\n",
       "0            2017     9869      Petrol             1000    Automatic  Silver   \n",
       "1            2019    11111      Petrol             1300    Automatic   White   \n",
       "2            2019    17500      Petrol              660    Automatic   White   \n",
       "3            2019     9600      Petrol              660       Manual   White   \n",
       "4            2010   120000      Petrol             1300       Manual   Black   \n",
       "...           ...      ...         ...              ...          ...     ...   \n",
       "43497        2006   107000      Petrol             1800       Manual   Black   \n",
       "43498        2011    83000      Petrol             1500    Automatic    Grey   \n",
       "43499        2014    22000      Hybrid             1500    Automatic   White   \n",
       "43500        2007   123455      Petrol             1500    Automatic  Silver   \n",
       "43501        1996   130000      Petrol             1600       Manual  Silver   \n",
       "\n",
       "       Assembly  Body Type Manufacturer     Model  ... Power Mirrors  \\\n",
       "0      Imported  Hatchback       Toyota      Vitz  ...             1   \n",
       "1         Local      Sedan       Toyota   Corolla  ...             1   \n",
       "2         Local  Hatchback       Suzuki      Alto  ...             1   \n",
       "3         Local  Hatchback       Suzuki      Alto  ...             0   \n",
       "4         Local      Sedan       Toyota   Corolla  ...             0   \n",
       "...         ...        ...          ...       ...  ...           ...   \n",
       "43497     Local      Sedan        Honda     Civic  ...             1   \n",
       "43498  Imported        Suv       Nissan  Uncommon  ...             1   \n",
       "43499  Imported  Crossover        Honda     Vezel  ...             1   \n",
       "43500  Imported      Sedan       Toyota   Corolla  ...             1   \n",
       "43501     Local      Sedan       Toyota   Corolla  ...             1   \n",
       "\n",
       "       Power Steering  Power Windows  Rear AC Vents  Rear Camera  \\\n",
       "0                   1              1              0            0   \n",
       "1                   1              1              0            0   \n",
       "2                   1              1              0            0   \n",
       "3                   1              0              0            0   \n",
       "4                   1              0              0            0   \n",
       "...               ...            ...            ...          ...   \n",
       "43497               1              1              0            0   \n",
       "43498               1              1              0            0   \n",
       "43499               1              1              0            0   \n",
       "43500               1              1              0            0   \n",
       "43501               1              1              0            0   \n",
       "\n",
       "       Rear Seat Entertainment  Rear speakers  Steering Switches  Sun Roof  \\\n",
       "0                            0              0                  0         0   \n",
       "1                            0              0                  0         0   \n",
       "2                            0              0                  0         0   \n",
       "3                            0              0                  0         0   \n",
       "4                            0              0                  0         0   \n",
       "...                        ...            ...                ...       ...   \n",
       "43497                        0              0                  0         0   \n",
       "43498                        0              0                  0         0   \n",
       "43499                        0              0                  0         0   \n",
       "43500                        0              0                  0         0   \n",
       "43501                        0              0                  0         0   \n",
       "\n",
       "       USB and Auxillary Cable  \n",
       "0                            0  \n",
       "1                            0  \n",
       "2                            0  \n",
       "3                            0  \n",
       "4                            0  \n",
       "...                        ...  \n",
       "43497                        0  \n",
       "43498                        0  \n",
       "43499                        0  \n",
       "43500                        0  \n",
       "43501                        0  \n",
       "\n",
       "[43502 rows x 39 columns]"
      ]
     },
     "execution_count": 76,
     "metadata": {},
     "output_type": "execute_result"
    }
   ],
   "source": [
    "X"
   ]
  },
  {
   "cell_type": "code",
   "execution_count": 77,
   "metadata": {},
   "outputs": [],
   "source": [
    "transformer = ColumnTransformer(transformers=[\n",
    "    ('scaler1',QuantileTransformer(),['Mileage', 'Engine Capacity', 'Model Year']),\n",
    "    ('Ordinal1', OrdinalEncoder(categories=[['Hatchback','Sedan','Suv','Mini Van','Crossover','Van']]),['Body Type']),\n",
    "    ('Ordinal2', OrdinalEncoder(categories=[['Petrol','Diesel','Hybrid']]), ['Engine Type']),\n",
    "    ('Ordinal3', OrdinalEncoder(categories=[['Automatic', 'Manual']]), ['Transmission']),\n",
    "    ('ohe1', (OneHotEncoder(drop='first', sparse=False, handle_unknown='ignore')),['Model','variant','Color','Manufacturer', 'Assembly']),\n",
    "    ('ohe2', (OneHotEncoder(drop='first', sparse=False,handle_unknown='ignore')),['Color','Manufacturer', 'Assembly'])   \n",
    "], remainder='passthrough')"
   ]
  },
  {
   "cell_type": "code",
   "execution_count": 78,
   "metadata": {},
   "outputs": [],
   "source": [
    "new_df = transformer.fit_transform(df) # to see the transformation "
   ]
  },
  {
   "cell_type": "markdown",
   "metadata": {},
   "source": [
    "## let's play with Algorithms \n"
   ]
  },
  {
   "cell_type": "code",
   "execution_count": 79,
   "metadata": {},
   "outputs": [
    {
     "name": "stderr",
     "output_type": "stream",
     "text": [
      "c:\\Users\\Abu Ubaida\\anaconda3\\lib\\site-packages\\xgboost\\compat.py:36: FutureWarning: pandas.Int64Index is deprecated and will be removed from pandas in a future version. Use pandas.Index with the appropriate dtype instead.\n",
      "  from pandas import MultiIndex, Int64Index\n"
     ]
    }
   ],
   "source": [
    "from sklearn.linear_model import LinearRegression\n",
    "from sklearn.tree import DecisionTreeRegressor,ExtraTreeRegressor\n",
    "from sklearn.ensemble import AdaBoostRegressor, RandomForestRegressor, GradientBoostingRegressor\n",
    "from xgboost import XGBRegressor\n",
    "\n",
    "from sklearn.metrics import mean_squared_error, r2_score\n",
    "from sklearn.model_selection import cross_val_score, KFold, train_test_split\n",
    "\n",
    "from sklearn.pipeline import make_pipeline"
   ]
  },
  {
   "cell_type": "code",
   "execution_count": 80,
   "metadata": {},
   "outputs": [],
   "source": [
    "X_train,X_test, y_train, y_test = train_test_split(X,y,test_size=0.2,random_state=42)"
   ]
  },
  {
   "cell_type": "code",
   "execution_count": 81,
   "metadata": {},
   "outputs": [
    {
     "name": "stdout",
     "output_type": "stream",
     "text": [
      "(8701, 39)\n",
      "(34801, 39)\n",
      "(34801,)\n",
      "(8701,)\n"
     ]
    }
   ],
   "source": [
    "print(X_test.shape)\n",
    "print(X_train.shape)\n",
    "print(y_train.shape)\n",
    "print(y_test.shape)"
   ]
  },
  {
   "cell_type": "markdown",
   "metadata": {},
   "source": [
    "#### All Models "
   ]
  },
  {
   "cell_type": "code",
   "execution_count": 82,
   "metadata": {},
   "outputs": [
    {
     "data": {
      "text/plain": [
       "14113    12.506177\n",
       "7672     15.104743\n",
       "31415    13.190022\n",
       "22224    14.751604\n",
       "40617    15.547166\n",
       "           ...    \n",
       "43431    12.429216\n",
       "43188    14.397726\n",
       "34364    12.301383\n",
       "30547    14.126665\n",
       "40692    17.665658\n",
       "Name: Price, Length: 8701, dtype: float64"
      ]
     },
     "execution_count": 82,
     "metadata": {},
     "output_type": "execute_result"
    }
   ],
   "source": [
    "y_test"
   ]
  },
  {
   "cell_type": "code",
   "execution_count": 83,
   "metadata": {},
   "outputs": [
    {
     "name": "stdout",
     "output_type": "stream",
     "text": [
      "R2 score is =  0.9269157140784974\n",
      "RMSE is =  0.02099718723382508\n"
     ]
    }
   ],
   "source": [
    "pipe_e = make_pipeline(transformer,ExtraTreeRegressor())\n",
    "pipe_e.fit(X_train,y_train)\n",
    "y_pred_e = pipe_e.predict(X_test)\n",
    "print('R2 score is = ', r2_score(y_pred_e, y_test))\n",
    "print(\"RMSE is = \", mean_squared_error(y_pred_e, y_test)**1/2)"
   ]
  },
  {
   "cell_type": "code",
   "execution_count": 84,
   "metadata": {},
   "outputs": [
    {
     "name": "stdout",
     "output_type": "stream",
     "text": [
      "before scaling -0.2567721601890385\n",
      "R2 score is =  0.5572669719084182\n"
     ]
    },
    {
     "data": {
      "text/plain": [
       "0.08412907229429707"
      ]
     },
     "execution_count": 84,
     "metadata": {},
     "output_type": "execute_result"
    }
   ],
   "source": [
    "pipe_a = make_pipeline(transformer,AdaBoostRegressor())\n",
    "pipe_a.fit(X_train,y_train)\n",
    "y_pred_a = pipe_a.predict(X_test)\n",
    "print('before scaling -0.2567721601890385' )\n",
    "print('R2 score is = ',r2_score(y_pred_a, y_test))\n",
    "mean_squared_error(y_pred_a, y_test)**1/2\n",
    "\n"
   ]
  },
  {
   "cell_type": "code",
   "execution_count": 85,
   "metadata": {},
   "outputs": [
    {
     "name": "stdout",
     "output_type": "stream",
     "text": [
      "before scaling 0.8567721601890385\n",
      "R2 score is =  0.9374378988924282\n",
      "RMSE is =  0.016462866431479477\n"
     ]
    }
   ],
   "source": [
    "pipe_g = make_pipeline(transformer, GradientBoostingRegressor())\n",
    "pipe_g.fit(X_train,y_train)\n",
    "y_pred_g = pipe_g.predict(X_test)\n",
    "print('before scaling 0.8567721601890385' )\n",
    "print('R2 score is = ',r2_score(y_pred_g, y_test))\n",
    "print(\"RMSE is = \", mean_squared_error(y_pred_g, y_test)**1/2)\n"
   ]
  },
  {
   "cell_type": "code",
   "execution_count": 86,
   "metadata": {},
   "outputs": [
    {
     "name": "stdout",
     "output_type": "stream",
     "text": [
      "before scaling 0.9044303049801634\n",
      "R2 Score 0.9605371539329426\n",
      "RMSE is =  0.010840769715881073\n"
     ]
    }
   ],
   "source": [
    "pipe_xg = make_pipeline(transformer, XGBRegressor())\n",
    "pipe_xg.fit(X_train,y_train)\n",
    "y_pred_x = pipe_xg.predict(X_test)\n",
    "print('before scaling 0.9044303049801634' )\n",
    "\n",
    "print('R2 Score',r2_score(y_pred_x, y_test))\n",
    "print(\"RMSE is = \", mean_squared_error(y_pred_x, y_test)**1/2)\n"
   ]
  },
  {
   "cell_type": "code",
   "execution_count": 87,
   "metadata": {},
   "outputs": [
    {
     "name": "stdout",
     "output_type": "stream",
     "text": [
      "before scaling =0.2801043242310647\n",
      "R2 score is =  0.8697971123056437\n",
      "RMSE is =  0.032490288178620104\n"
     ]
    }
   ],
   "source": [
    "pipe_l = make_pipeline(transformer, LinearRegression())\n",
    "pipe_l.fit(X_train,y_train)\n",
    "y_pred_l = pipe_l.predict(X_test)\n",
    "print(\"before scaling =0.2801043242310647\")\n",
    "print('R2 score is = ',r2_score(y_pred_l, y_test))\n",
    "print(\"RMSE is = \", mean_squared_error(y_pred_l, y_test)**1/2)\n"
   ]
  },
  {
   "cell_type": "code",
   "execution_count": 88,
   "metadata": {},
   "outputs": [
    {
     "name": "stdout",
     "output_type": "stream",
     "text": [
      "R2 score is =  0.9308334952001449\n",
      "RMSE is =  0.019695118079011257\n"
     ]
    }
   ],
   "source": [
    "pipe_d = make_pipeline(transformer, DecisionTreeRegressor())\n",
    "pipe_d.fit(X_train,y_train)\n",
    "y_pred_d = pipe_d.predict(X_test)\n",
    "print('R2 score is = ',r2_score(y_pred_d, y_test))\n",
    "print(\"RMSE is = \", mean_squared_error(y_pred_d, y_test)**1/2)\n"
   ]
  },
  {
   "cell_type": "code",
   "execution_count": 89,
   "metadata": {},
   "outputs": [
    {
     "name": "stdout",
     "output_type": "stream",
     "text": [
      "Before Scaling = 0.8873177618173318 \n",
      "r2 score is =  0.9588925737444541\n",
      "RMSE is =  0.011333336002389931\n"
     ]
    }
   ],
   "source": [
    "pipe_r = make_pipeline(transformer, RandomForestRegressor())\n",
    "pipe_r.fit(X_train,y_train)\n",
    "y_pred_r = pipe_r.predict(X_test)\n",
    "print('Before Scaling = 0.8873177618173318 ')\n",
    "print(\"r2 score is = \", r2_score(y_pred_r, y_test))\n",
    "print(\"RMSE is = \", mean_squared_error(y_pred_r, y_test)**1/2)"
   ]
  },
  {
   "cell_type": "code",
   "execution_count": 90,
   "metadata": {},
   "outputs": [
    {
     "data": {
      "text/html": [
       "<div>\n",
       "<style scoped>\n",
       "    .dataframe tbody tr th:only-of-type {\n",
       "        vertical-align: middle;\n",
       "    }\n",
       "\n",
       "    .dataframe tbody tr th {\n",
       "        vertical-align: top;\n",
       "    }\n",
       "\n",
       "    .dataframe thead th {\n",
       "        text-align: right;\n",
       "    }\n",
       "</style>\n",
       "<table border=\"1\" class=\"dataframe\">\n",
       "  <thead>\n",
       "    <tr style=\"text-align: right;\">\n",
       "      <th></th>\n",
       "      <th>0</th>\n",
       "    </tr>\n",
       "  </thead>\n",
       "  <tbody>\n",
       "    <tr>\n",
       "      <th>Price</th>\n",
       "      <td>1.000000</td>\n",
       "    </tr>\n",
       "    <tr>\n",
       "      <th>Model Year</th>\n",
       "      <td>0.222043</td>\n",
       "    </tr>\n",
       "    <tr>\n",
       "      <th>Mileage</th>\n",
       "      <td>-0.189164</td>\n",
       "    </tr>\n",
       "    <tr>\n",
       "      <th>Engine Capacity</th>\n",
       "      <td>0.647041</td>\n",
       "    </tr>\n",
       "    <tr>\n",
       "      <th>ABS</th>\n",
       "      <td>0.007273</td>\n",
       "    </tr>\n",
       "    <tr>\n",
       "      <th>AM/FM Radio</th>\n",
       "      <td>-0.003893</td>\n",
       "    </tr>\n",
       "    <tr>\n",
       "      <th>Air Bags</th>\n",
       "      <td>0.015909</td>\n",
       "    </tr>\n",
       "    <tr>\n",
       "      <th>Air Conditioning</th>\n",
       "      <td>0.001619</td>\n",
       "    </tr>\n",
       "    <tr>\n",
       "      <th>Alloy Rims</th>\n",
       "      <td>0.001165</td>\n",
       "    </tr>\n",
       "    <tr>\n",
       "      <th>CD Player</th>\n",
       "      <td>0.005444</td>\n",
       "    </tr>\n",
       "    <tr>\n",
       "      <th>Cassette Player</th>\n",
       "      <td>-0.000688</td>\n",
       "    </tr>\n",
       "    <tr>\n",
       "      <th>Climate Control</th>\n",
       "      <td>0.002404</td>\n",
       "    </tr>\n",
       "    <tr>\n",
       "      <th>CoolBox</th>\n",
       "      <td>-0.000339</td>\n",
       "    </tr>\n",
       "    <tr>\n",
       "      <th>Cruise Control</th>\n",
       "      <td>0.007003</td>\n",
       "    </tr>\n",
       "    <tr>\n",
       "      <th>DVD Player</th>\n",
       "      <td>0.009170</td>\n",
       "    </tr>\n",
       "    <tr>\n",
       "      <th>Front Camera</th>\n",
       "      <td>0.001857</td>\n",
       "    </tr>\n",
       "    <tr>\n",
       "      <th>Front Speakers</th>\n",
       "      <td>0.003551</td>\n",
       "    </tr>\n",
       "    <tr>\n",
       "      <th>Heated Seats</th>\n",
       "      <td>-0.002484</td>\n",
       "    </tr>\n",
       "    <tr>\n",
       "      <th>Immobilizer Key</th>\n",
       "      <td>0.005510</td>\n",
       "    </tr>\n",
       "    <tr>\n",
       "      <th>Keyless Entry</th>\n",
       "      <td>0.004522</td>\n",
       "    </tr>\n",
       "    <tr>\n",
       "      <th>Navigation System</th>\n",
       "      <td>0.013353</td>\n",
       "    </tr>\n",
       "    <tr>\n",
       "      <th>Power Locks</th>\n",
       "      <td>0.004314</td>\n",
       "    </tr>\n",
       "    <tr>\n",
       "      <th>Power Mirrors</th>\n",
       "      <td>0.005194</td>\n",
       "    </tr>\n",
       "    <tr>\n",
       "      <th>Power Steering</th>\n",
       "      <td>0.005612</td>\n",
       "    </tr>\n",
       "    <tr>\n",
       "      <th>Power Windows</th>\n",
       "      <td>0.003178</td>\n",
       "    </tr>\n",
       "    <tr>\n",
       "      <th>Rear AC Vents</th>\n",
       "      <td>0.002788</td>\n",
       "    </tr>\n",
       "    <tr>\n",
       "      <th>Rear Camera</th>\n",
       "      <td>0.004117</td>\n",
       "    </tr>\n",
       "    <tr>\n",
       "      <th>Rear Seat Entertainment</th>\n",
       "      <td>0.004052</td>\n",
       "    </tr>\n",
       "    <tr>\n",
       "      <th>Rear speakers</th>\n",
       "      <td>0.003720</td>\n",
       "    </tr>\n",
       "    <tr>\n",
       "      <th>Steering Switches</th>\n",
       "      <td>0.004025</td>\n",
       "    </tr>\n",
       "    <tr>\n",
       "      <th>Sun Roof</th>\n",
       "      <td>-0.007831</td>\n",
       "    </tr>\n",
       "    <tr>\n",
       "      <th>USB and Auxillary Cable</th>\n",
       "      <td>0.000391</td>\n",
       "    </tr>\n",
       "  </tbody>\n",
       "</table>\n",
       "</div>"
      ],
      "text/plain": [
       "                                0\n",
       "Price                    1.000000\n",
       "Model Year               0.222043\n",
       "Mileage                 -0.189164\n",
       "Engine Capacity          0.647041\n",
       "ABS                      0.007273\n",
       "AM/FM Radio             -0.003893\n",
       "Air Bags                 0.015909\n",
       "Air Conditioning         0.001619\n",
       "Alloy Rims               0.001165\n",
       "CD Player                0.005444\n",
       "Cassette Player         -0.000688\n",
       "Climate Control          0.002404\n",
       "CoolBox                 -0.000339\n",
       "Cruise Control           0.007003\n",
       "DVD Player               0.009170\n",
       "Front Camera             0.001857\n",
       "Front Speakers           0.003551\n",
       "Heated Seats            -0.002484\n",
       "Immobilizer Key          0.005510\n",
       "Keyless Entry            0.004522\n",
       "Navigation System        0.013353\n",
       "Power Locks              0.004314\n",
       "Power Mirrors            0.005194\n",
       "Power Steering           0.005612\n",
       "Power Windows            0.003178\n",
       "Rear AC Vents            0.002788\n",
       "Rear Camera              0.004117\n",
       "Rear Seat Entertainment  0.004052\n",
       "Rear speakers            0.003720\n",
       "Steering Switches        0.004025\n",
       "Sun Roof                -0.007831\n",
       "USB and Auxillary Cable  0.000391"
      ]
     },
     "execution_count": 90,
     "metadata": {},
     "output_type": "execute_result"
    }
   ],
   "source": [
    "pd.DataFrame(df.corrwith(df.Price))"
   ]
  },
  {
   "cell_type": "code",
   "execution_count": 97,
   "metadata": {},
   "outputs": [
    {
     "data": {
      "text/plain": [
       "array([1577672.9,  708103.5, 8840997. ,  501221.1], dtype=float32)"
      ]
     },
     "execution_count": 97,
     "metadata": {},
     "output_type": "execute_result"
    }
   ],
   "source": [
    "test = X.sample(4)\n",
    "np.exp(pipe_xg.predict(test))"
   ]
  },
  {
   "cell_type": "markdown",
   "metadata": {},
   "source": [
    "- So, finally I chose XGRegressor as a model for my Project. It is giving sufficient Accuracy, so no need of Hyperparameter tuning. "
   ]
  }
 ],
 "metadata": {
  "kernelspec": {
   "display_name": "Python 3.9.12 ('base')",
   "language": "python",
   "name": "python3"
  },
  "language_info": {
   "codemirror_mode": {
    "name": "ipython",
    "version": 3
   },
   "file_extension": ".py",
   "mimetype": "text/x-python",
   "name": "python",
   "nbconvert_exporter": "python",
   "pygments_lexer": "ipython3",
   "version": "3.9.12"
  },
  "orig_nbformat": 4,
  "vscode": {
   "interpreter": {
    "hash": "67c93f2893e4f75a612fd1a15e3a8791b98cf984a7e07623699758511b15e5c8"
   }
  }
 },
 "nbformat": 4,
 "nbformat_minor": 2
}
