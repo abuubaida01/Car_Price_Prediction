{
 "cells": [
  {
   "cell_type": "code",
   "execution_count": 479,
   "metadata": {},
   "outputs": [],
   "source": [
    "import pandas as pd \n",
    "import numpy as np\n",
    "import matplotlib.pyplot as plt \n",
    "import seaborn as sns"
   ]
  },
  {
   "cell_type": "code",
   "execution_count": 480,
   "metadata": {},
   "outputs": [],
   "source": [
    "df = pd.read_csv(r\"A:\\Projects\\Data\\updated_pakwheels.csv\")"
   ]
  },
  {
   "cell_type": "code",
   "execution_count": 481,
   "metadata": {},
   "outputs": [
    {
     "data": {
      "text/html": [
       "<div>\n",
       "<style scoped>\n",
       "    .dataframe tbody tr th:only-of-type {\n",
       "        vertical-align: middle;\n",
       "    }\n",
       "\n",
       "    .dataframe tbody tr th {\n",
       "        vertical-align: top;\n",
       "    }\n",
       "\n",
       "    .dataframe thead th {\n",
       "        text-align: right;\n",
       "    }\n",
       "</style>\n",
       "<table border=\"1\" class=\"dataframe\">\n",
       "  <thead>\n",
       "    <tr style=\"text-align: right;\">\n",
       "      <th></th>\n",
       "      <th>Ad No</th>\n",
       "      <th>Name</th>\n",
       "      <th>Price</th>\n",
       "      <th>Model Year</th>\n",
       "      <th>Location</th>\n",
       "      <th>Mileage</th>\n",
       "      <th>Registered City</th>\n",
       "      <th>Engine Type</th>\n",
       "      <th>Engine Capacity</th>\n",
       "      <th>Transmission</th>\n",
       "      <th>Color</th>\n",
       "      <th>Assembly</th>\n",
       "      <th>Body Type</th>\n",
       "      <th>Features</th>\n",
       "      <th>Last Updated</th>\n",
       "      <th>URL</th>\n",
       "    </tr>\n",
       "  </thead>\n",
       "  <tbody>\n",
       "    <tr>\n",
       "      <th>0</th>\n",
       "      <td>4096758</td>\n",
       "      <td>Toyota Vitz F 1.0 2017</td>\n",
       "      <td>2385000</td>\n",
       "      <td>2017</td>\n",
       "      <td>G- 8, Islamabad Islamabad</td>\n",
       "      <td>9869</td>\n",
       "      <td>Un-Registered</td>\n",
       "      <td>1</td>\n",
       "      <td>1000</td>\n",
       "      <td>1</td>\n",
       "      <td>Silver</td>\n",
       "      <td>Imported</td>\n",
       "      <td>1</td>\n",
       "      <td>ABS, AM/FM Radio, Air Bags, Air Conditioning,...</td>\n",
       "      <td>11-Jul-20</td>\n",
       "      <td>https://www.pakwheels.com/used-cars/toyota-vit...</td>\n",
       "    </tr>\n",
       "    <tr>\n",
       "      <th>1</th>\n",
       "      <td>4168305</td>\n",
       "      <td>Toyota Corolla GLi Automatic 1.3 VVTi 2019</td>\n",
       "      <td>111000</td>\n",
       "      <td>2019</td>\n",
       "      <td>Peshawar KPK</td>\n",
       "      <td>11111</td>\n",
       "      <td>Islamabad</td>\n",
       "      <td>1</td>\n",
       "      <td>1300</td>\n",
       "      <td>1</td>\n",
       "      <td>White</td>\n",
       "      <td>Local</td>\n",
       "      <td>2</td>\n",
       "      <td>ABS, AM/FM Radio, Air Bags, Air Conditioning,...</td>\n",
       "      <td>12-Jul-20</td>\n",
       "      <td>https://www.pakwheels.com/used-cars/toyota-cor...</td>\n",
       "    </tr>\n",
       "    <tr>\n",
       "      <th>2</th>\n",
       "      <td>4168298</td>\n",
       "      <td>Suzuki Alto VXL 2019</td>\n",
       "      <td>1530000</td>\n",
       "      <td>2019</td>\n",
       "      <td>Akora Khattak, Nowshera KPK</td>\n",
       "      <td>17500</td>\n",
       "      <td>Un-Registered</td>\n",
       "      <td>1</td>\n",
       "      <td>660</td>\n",
       "      <td>1</td>\n",
       "      <td>White</td>\n",
       "      <td>Local</td>\n",
       "      <td>1</td>\n",
       "      <td>ABS, AM/FM Radio, Air Bags, Air Conditioning,...</td>\n",
       "      <td>12-Jul-20</td>\n",
       "      <td>https://www.pakwheels.com/used-cars/suzuki-alt...</td>\n",
       "    </tr>\n",
       "    <tr>\n",
       "      <th>3</th>\n",
       "      <td>4168307</td>\n",
       "      <td>Suzuki Alto VXR 2019</td>\n",
       "      <td>1650000</td>\n",
       "      <td>2019</td>\n",
       "      <td>Abdullahpur, Faisalabad Punjab</td>\n",
       "      <td>9600</td>\n",
       "      <td>Lahore</td>\n",
       "      <td>1</td>\n",
       "      <td>660</td>\n",
       "      <td>2</td>\n",
       "      <td>White</td>\n",
       "      <td>Local</td>\n",
       "      <td>1</td>\n",
       "      <td>AM/FM Radio, Air Bags, Air Conditioning, DVD ...</td>\n",
       "      <td>12-Jul-20</td>\n",
       "      <td>https://www.pakwheels.com/used-cars/suzuki-alt...</td>\n",
       "    </tr>\n",
       "    <tr>\n",
       "      <th>4</th>\n",
       "      <td>4168306</td>\n",
       "      <td>Toyota Corolla XLi VVTi 2010</td>\n",
       "      <td>1435000</td>\n",
       "      <td>2010</td>\n",
       "      <td>9th Avenue, Islamabad Islamabad</td>\n",
       "      <td>120000</td>\n",
       "      <td>Islamabad</td>\n",
       "      <td>1</td>\n",
       "      <td>1300</td>\n",
       "      <td>2</td>\n",
       "      <td>Black</td>\n",
       "      <td>Local</td>\n",
       "      <td>2</td>\n",
       "      <td>AM/FM Radio, Air Conditioning, CD Player, Key...</td>\n",
       "      <td>12-Jul-20</td>\n",
       "      <td>https://www.pakwheels.com/used-cars/toyota-cor...</td>\n",
       "    </tr>\n",
       "  </tbody>\n",
       "</table>\n",
       "</div>"
      ],
      "text/plain": [
       "     Ad No                                        Name    Price  Model Year  \\\n",
       "0  4096758                      Toyota Vitz F 1.0 2017  2385000        2017   \n",
       "1  4168305  Toyota Corolla GLi Automatic 1.3 VVTi 2019   111000        2019   \n",
       "2  4168298                        Suzuki Alto VXL 2019  1530000        2019   \n",
       "3  4168307                        Suzuki Alto VXR 2019  1650000        2019   \n",
       "4  4168306                Toyota Corolla XLi VVTi 2010  1435000        2010   \n",
       "\n",
       "                           Location  Mileage Registered City  Engine Type  \\\n",
       "0         G- 8, Islamabad Islamabad     9869   Un-Registered            1   \n",
       "1                      Peshawar KPK    11111       Islamabad            1   \n",
       "2       Akora Khattak, Nowshera KPK    17500   Un-Registered            1   \n",
       "3    Abdullahpur, Faisalabad Punjab     9600          Lahore            1   \n",
       "4   9th Avenue, Islamabad Islamabad   120000       Islamabad            1   \n",
       "\n",
       "   Engine Capacity  Transmission   Color  Assembly  Body Type  \\\n",
       "0             1000             1  Silver  Imported          1   \n",
       "1             1300             1   White     Local          2   \n",
       "2              660             1   White     Local          1   \n",
       "3              660             2   White     Local          1   \n",
       "4             1300             2   Black     Local          2   \n",
       "\n",
       "                                            Features Last Updated  \\\n",
       "0   ABS, AM/FM Radio, Air Bags, Air Conditioning,...    11-Jul-20   \n",
       "1   ABS, AM/FM Radio, Air Bags, Air Conditioning,...    12-Jul-20   \n",
       "2   ABS, AM/FM Radio, Air Bags, Air Conditioning,...    12-Jul-20   \n",
       "3   AM/FM Radio, Air Bags, Air Conditioning, DVD ...    12-Jul-20   \n",
       "4   AM/FM Radio, Air Conditioning, CD Player, Key...    12-Jul-20   \n",
       "\n",
       "                                                 URL  \n",
       "0  https://www.pakwheels.com/used-cars/toyota-vit...  \n",
       "1  https://www.pakwheels.com/used-cars/toyota-cor...  \n",
       "2  https://www.pakwheels.com/used-cars/suzuki-alt...  \n",
       "3  https://www.pakwheels.com/used-cars/suzuki-alt...  \n",
       "4  https://www.pakwheels.com/used-cars/toyota-cor...  "
      ]
     },
     "execution_count": 481,
     "metadata": {},
     "output_type": "execute_result"
    }
   ],
   "source": [
    "df.head()"
   ]
  },
  {
   "cell_type": "markdown",
   "metadata": {},
   "source": [
    "# **EDA**"
   ]
  },
  {
   "cell_type": "code",
   "execution_count": 482,
   "metadata": {},
   "outputs": [
    {
     "name": "stdout",
     "output_type": "stream",
     "text": [
      "<class 'pandas.core.frame.DataFrame'>\n",
      "RangeIndex: 46023 entries, 0 to 46022\n",
      "Data columns (total 16 columns):\n",
      " #   Column           Non-Null Count  Dtype \n",
      "---  ------           --------------  ----- \n",
      " 0   Ad No            46023 non-null  int64 \n",
      " 1   Name             46023 non-null  object\n",
      " 2   Price            46023 non-null  int64 \n",
      " 3   Model Year       46023 non-null  int64 \n",
      " 4   Location         46023 non-null  object\n",
      " 5   Mileage          46023 non-null  int64 \n",
      " 6   Registered City  46023 non-null  object\n",
      " 7   Engine Type      46023 non-null  int64 \n",
      " 8   Engine Capacity  46023 non-null  int64 \n",
      " 9   Transmission     46023 non-null  int64 \n",
      " 10  Color            46023 non-null  object\n",
      " 11  Assembly         46023 non-null  object\n",
      " 12  Body Type        46023 non-null  int64 \n",
      " 13  Features         43502 non-null  object\n",
      " 14  Last Updated     46023 non-null  object\n",
      " 15  URL              46023 non-null  object\n",
      "dtypes: int64(8), object(8)\n",
      "memory usage: 5.6+ MB\n"
     ]
    },
    {
     "data": {
      "text/plain": [
       "(46023, 16)"
      ]
     },
     "execution_count": 482,
     "metadata": {},
     "output_type": "execute_result"
    }
   ],
   "source": [
    "df.info()\n",
    "df.shape"
   ]
  },
  {
   "cell_type": "code",
   "execution_count": 483,
   "metadata": {},
   "outputs": [
    {
     "name": "stdout",
     "output_type": "stream",
     "text": [
      "<class 'pandas.core.series.Series'>\n",
      "RangeIndex: 46023 entries, 0 to 46022\n",
      "Series name: Ad No\n",
      "Non-Null Count  Dtype\n",
      "--------------  -----\n",
      "46023 non-null  int64\n",
      "dtypes: int64(1)\n",
      "memory usage: 359.7 KB\n"
     ]
    }
   ],
   "source": [
    "#let's start, column wise...\n",
    "df['Ad No'].info() #let's remove this, I don't need "
   ]
  },
  {
   "cell_type": "markdown",
   "metadata": {},
   "source": [
    "- let's explore Name column"
   ]
  },
  {
   "cell_type": "code",
   "execution_count": 484,
   "metadata": {},
   "outputs": [
    {
     "data": {
      "text/plain": [
       "Honda Civic Oriel 1.8 i-VTEC CVT 2017    381\n",
       "Suzuki Wagon R VXL 2018                  362\n",
       "Suzuki Mehran VXR Euro II 2018           355\n",
       "Honda Civic Oriel 1.8 i-VTEC CVT 2018    332\n",
       "Suzuki Wagon R VXL 2019                  300\n",
       "                                        ... \n",
       "Honda Freed G 2013                         1\n",
       "Mitsubishi Pajero Mini VR 2008             1\n",
       "Toyota Corolla Altis Manual 1.6 2015       1\n",
       "Toyota Vitz B S Edition 1.0 2010           1\n",
       "Toyota Prado TX Limited 3.4 2006           1\n",
       "Name: Name, Length: 4826, dtype: int64"
      ]
     },
     "execution_count": 484,
     "metadata": {},
     "output_type": "execute_result"
    }
   ],
   "source": [
    "df.Name.value_counts()"
   ]
  },
  {
   "cell_type": "code",
   "execution_count": 485,
   "metadata": {},
   "outputs": [
    {
     "data": {
      "text/plain": [
       "array(['Toyota Vitz F 1.0 2017',\n",
       "       'Toyota Corolla GLi Automatic 1.3 VVTi 2019',\n",
       "       'Suzuki Alto VXL 2019', ..., 'Range Rover Vogue 5.0 V8 2009',\n",
       "       'Honda Vamos Hobio G 2011', 'Toyota Prado TX Limited 3.4 2006'],\n",
       "      dtype=object)"
      ]
     },
     "execution_count": 485,
     "metadata": {},
     "output_type": "execute_result"
    }
   ],
   "source": [
    "df.Name.unique()"
   ]
  },
  {
   "cell_type": "markdown",
   "metadata": {},
   "source": [
    "- Model Year"
   ]
  },
  {
   "cell_type": "code",
   "execution_count": 486,
   "metadata": {},
   "outputs": [
    {
     "name": "stderr",
     "output_type": "stream",
     "text": [
      "c:\\Users\\Abu Ubaida\\anaconda3\\lib\\site-packages\\seaborn\\_decorators.py:36: FutureWarning: Pass the following variable as a keyword arg: x. From version 0.12, the only valid positional argument will be `data`, and passing other arguments without an explicit keyword will result in an error or misinterpretation.\n",
      "  warnings.warn(\n"
     ]
    },
    {
     "data": {
      "image/png": "[encoded data removed]",
      "text/plain": [
       "<Figure size 1080x576 with 1 Axes>"
      ]
     },
     "metadata": {
      "needs_background": "light"
     },
     "output_type": "display_data"
    }
   ],
   "source": [
    "plt.figure(figsize=(15,8))\n",
    "sns.countplot(df['Model Year'])\n",
    "plt.xticks(color='r', weight='bold')\n",
    "plt.show()\n",
    "# df['Model Year'].value_counts() #Same by this\n"
   ]
  },
  {
   "cell_type": "markdown",
   "metadata": {},
   "source": [
    "- Location "
   ]
  },
  {
   "cell_type": "code",
   "execution_count": 487,
   "metadata": {},
   "outputs": [
    {
     "data": {
      "text/plain": [
       " Lahore Punjab                        2101\n",
       " Islamabad Islamabad                  1753\n",
       " Karachi Sindh                        1534\n",
       " Rawalpindi Punjab                     995\n",
       " DHA Defence, Lahore Punjab            825\n",
       "                                      ... \n",
       " Chunian Main Road, Chunian Punjab       1\n",
       " Aziz Avenue , Lahore Punjab             1\n",
       " Saeedabad, Peshawar KPK                 1\n",
       " Janjua Town, Rawalpindi Punjab          1\n",
       " Shahpur Kanjra, Lahore Punjab           1\n",
       "Name: Location, Length: 2068, dtype: int64"
      ]
     },
     "execution_count": 487,
     "metadata": {},
     "output_type": "execute_result"
    }
   ],
   "source": [
    "# this is the location of car owner\n",
    "df.Location.value_counts()"
   ]
  },
  {
   "cell_type": "code",
   "execution_count": 488,
   "metadata": {},
   "outputs": [
    {
     "name": "stdout",
     "output_type": "stream",
     "text": [
      "[' G- 8, Islamabad Islamabad' ' Peshawar KPK'\n",
      " ' Akora Khattak, Nowshera KPK' ... ' Al Hamra Town, Lahore Punjab'\n",
      " ' PAF Housing Scheme, Karachi Sindh' ' Shahpur Kanjra, Lahore Punjab']\n"
     ]
    },
    {
     "data": {
      "text/plain": [
       "2068"
      ]
     },
     "execution_count": 488,
     "metadata": {},
     "output_type": "execute_result"
    }
   ],
   "source": [
    "print(df.Location.unique())\n",
    "df.Location.nunique()\n"
   ]
  },
  {
   "cell_type": "markdown",
   "metadata": {},
   "source": [
    "- Mileage"
   ]
  },
  {
   "cell_type": "code",
   "execution_count": 489,
   "metadata": {},
   "outputs": [
    {
     "name": "stdout",
     "output_type": "stream",
     "text": [
      "100000    2230\n",
      "150000    1266\n",
      "80000     1030\n",
      "120000     885\n",
      "200000     880\n",
      "          ... \n",
      "103287       1\n",
      "165223       1\n",
      "20750        1\n",
      "135820       1\n",
      "103269       1\n",
      "Name: Mileage, Length: 5573, dtype: int64\n",
      "5573\n"
     ]
    }
   ],
   "source": [
    "print(df.Mileage.value_counts())\n",
    "print(df.Mileage.nunique())"
   ]
  },
  {
   "cell_type": "markdown",
   "metadata": {},
   "source": [
    "- Registered City"
   ]
  },
  {
   "cell_type": "code",
   "execution_count": 490,
   "metadata": {},
   "outputs": [
    {
     "data": {
      "text/plain": [
       "Islamabad         10690\n",
       "Karachi           10113\n",
       "Un-Registered      3329\n",
       "Rawalpindi         1077\n",
       "Multan             1002\n",
       "Faisalabad          608\n",
       "Peshawar            501\n",
       "Sialkot             210\n",
       "Bahawalpur          178\n",
       "Gujranwala          150\n",
       "Hyderabad           102\n",
       "Rahim Yar Khan       95\n",
       "Sargodha             65\n",
       "Abottabad            63\n",
       "Name: Registered City, dtype: int64"
      ]
     },
     "execution_count": 490,
     "metadata": {},
     "output_type": "execute_result"
    }
   ],
   "source": [
    "df['Registered City'].value_counts()[1:15]\n"
   ]
  },
  {
   "cell_type": "markdown",
   "metadata": {},
   "source": [
    "- Engine Type"
   ]
  },
  {
   "cell_type": "code",
   "execution_count": 491,
   "metadata": {},
   "outputs": [],
   "source": [
    "df[\"Engine Type\"] = df['Engine Type'].replace({1:\"Petrol\", 2:'Diesel',3:\"Hybrid\"})"
   ]
  },
  {
   "cell_type": "code",
   "execution_count": 492,
   "metadata": {},
   "outputs": [
    {
     "name": "stderr",
     "output_type": "stream",
     "text": [
      "c:\\Users\\Abu Ubaida\\anaconda3\\lib\\site-packages\\seaborn\\_decorators.py:36: FutureWarning: Pass the following variable as a keyword arg: x. From version 0.12, the only valid positional argument will be `data`, and passing other arguments without an explicit keyword will result in an error or misinterpretation.\n",
      "  warnings.warn(\n"
     ]
    },
    {
     "data": {
      "image/png": "[encoded data removed]",
      "text/plain": [
       "<Figure size 1080x576 with 1 Axes>"
      ]
     },
     "metadata": {
      "needs_background": "light"
     },
     "output_type": "display_data"
    }
   ],
   "source": [
    "plt.figure(figsize=(15,8))\n",
    "sns.countplot(df['Engine Type'])\n",
    "plt.xticks(color='r', weight='bold')\n",
    "plt.show()"
   ]
  },
  {
   "cell_type": "markdown",
   "metadata": {},
   "source": [
    "- Color "
   ]
  },
  {
   "cell_type": "code",
   "execution_count": 493,
   "metadata": {},
   "outputs": [
    {
     "data": {
      "text/plain": [
       "White        17588\n",
       "Silver        8007\n",
       "Black         6026\n",
       "Grey          5038\n",
       "Blue          2127\n",
       "Assembly      1382\n",
       "Gold          1003\n",
       "Maroon         924\n",
       "Red            822\n",
       "Green          770\n",
       "Beige          580\n",
       "Burgundy       307\n",
       "Brown          269\n",
       "Turquoise      230\n",
       "Bronze         211\n",
       "Pink           194\n",
       "Navy           120\n",
       "Unlisted       109\n",
       "Yellow          98\n",
       "Purple          90\n",
       "Indigo          85\n",
       "Orange          40\n",
       "Magenta          2\n",
       "Wine             1\n",
       "Name: Color, dtype: int64"
      ]
     },
     "execution_count": 493,
     "metadata": {},
     "output_type": "execute_result"
    }
   ],
   "source": [
    "df.Color.value_counts()"
   ]
  },
  {
   "cell_type": "markdown",
   "metadata": {},
   "source": [
    "- Engine Capacity"
   ]
  },
  {
   "cell_type": "code",
   "execution_count": 494,
   "metadata": {},
   "outputs": [
    {
     "name": "stdout",
     "output_type": "stream",
     "text": [
      "1000    10033\n",
      "1300     9600\n",
      "800      6471\n",
      "1500     5001\n",
      "1800     4894\n",
      "        ...  \n",
      "3199        1\n",
      "6600        1\n",
      "4800        1\n",
      "16          1\n",
      "950         1\n",
      "Name: Engine Capacity, Length: 75, dtype: int64\n",
      "75 unique values\n"
     ]
    }
   ],
   "source": [
    "print(df['Engine Capacity'].value_counts())\n",
    "print((df['Engine Capacity'].nunique()), 'unique values')"
   ]
  },
  {
   "cell_type": "markdown",
   "metadata": {},
   "source": [
    "- Transmission"
   ]
  },
  {
   "cell_type": "code",
   "execution_count": 495,
   "metadata": {},
   "outputs": [
    {
     "data": {
      "text/plain": [
       "2    24612\n",
       "1    21411\n",
       "Name: Transmission, dtype: int64"
      ]
     },
     "execution_count": 495,
     "metadata": {},
     "output_type": "execute_result"
    }
   ],
   "source": [
    "df.Transmission.value_counts()"
   ]
  },
  {
   "cell_type": "code",
   "execution_count": 496,
   "metadata": {},
   "outputs": [
    {
     "data": {
      "text/plain": [
       "Manual       24612\n",
       "Automatic    21411\n",
       "Name: Transmission, dtype: int64"
      ]
     },
     "execution_count": 496,
     "metadata": {},
     "output_type": "execute_result"
    }
   ],
   "source": [
    "df.Transmission = df.Transmission.replace({1:'Automatic', 2:'Manual'})\n",
    "df.Transmission.value_counts()\n"
   ]
  },
  {
   "cell_type": "markdown",
   "metadata": {},
   "source": [
    "- Assembly"
   ]
  },
  {
   "cell_type": "code",
   "execution_count": 497,
   "metadata": {},
   "outputs": [
    {
     "name": "stderr",
     "output_type": "stream",
     "text": [
      "c:\\Users\\Abu Ubaida\\anaconda3\\lib\\site-packages\\seaborn\\_decorators.py:36: FutureWarning: Pass the following variable as a keyword arg: x. From version 0.12, the only valid positional argument will be `data`, and passing other arguments without an explicit keyword will result in an error or misinterpretation.\n",
      "  warnings.warn(\n"
     ]
    },
    {
     "data": {
      "image/png": "[encoded data removed]",
      "text/plain": [
       "<Figure size 1080x576 with 1 Axes>"
      ]
     },
     "metadata": {
      "needs_background": "light"
     },
     "output_type": "display_data"
    }
   ],
   "source": [
    "plt.figure(figsize=(15,8))\n",
    "sns.countplot(df.Assembly)\n",
    "plt.xticks(color='r', weight='bold')\n",
    "plt.show()"
   ]
  },
  {
   "cell_type": "markdown",
   "metadata": {},
   "source": [
    "- Body Type "
   ]
  },
  {
   "cell_type": "markdown",
   "metadata": {},
   "source": [
    "- Body type is broken down in 1 to 6 where: 1 for Hatchback 2 for Sedan 3 for Suv 4 for mini van 5 for Crossover 6 for Van\n",
    "\n"
   ]
  },
  {
   "cell_type": "code",
   "execution_count": 498,
   "metadata": {},
   "outputs": [
    {
     "data": {
      "text/plain": [
       "Hatchback    21576\n",
       "Sedan        18985\n",
       "Suv           2390\n",
       "Mini Van      1199\n",
       "Crossover     1182\n",
       "Van            691\n",
       "Name: Body Type, dtype: int64"
      ]
     },
     "execution_count": 498,
     "metadata": {},
     "output_type": "execute_result"
    }
   ],
   "source": [
    "# df['Body Type'].value_counts()\n",
    "df['Body Type'] = df['Body Type'].replace({1:'Hatchback', 2:\"Sedan\", 3:'Suv', 4:'Mini Van', 5:'Crossover', 6:'Van' })\n",
    "df['Body Type'].value_counts()"
   ]
  },
  {
   "cell_type": "code",
   "execution_count": 499,
   "metadata": {},
   "outputs": [
    {
     "name": "stderr",
     "output_type": "stream",
     "text": [
      "c:\\Users\\Abu Ubaida\\anaconda3\\lib\\site-packages\\seaborn\\_decorators.py:36: FutureWarning: Pass the following variable as a keyword arg: x. From version 0.12, the only valid positional argument will be `data`, and passing other arguments without an explicit keyword will result in an error or misinterpretation.\n",
      "  warnings.warn(\n"
     ]
    },
    {
     "data": {
      "image/png": "[encoded data removed]",
      "text/plain": [
       "<Figure size 1080x576 with 1 Axes>"
      ]
     },
     "metadata": {
      "needs_background": "light"
     },
     "output_type": "display_data"
    }
   ],
   "source": [
    "plt.figure(figsize=(15,8))\n",
    "sns.countplot(df['Body Type'])\n",
    "plt.xticks(color='r', weight='bold')\n",
    "plt.show()"
   ]
  },
  {
   "cell_type": "code",
   "execution_count": 500,
   "metadata": {},
   "outputs": [
    {
     "data": {
      "text/plain": [
       "34447     ABS, AM/FM Radio, Air Conditioning, Alloy Rim...\n",
       "22643     ABS, Air Bags, Air Conditioning, Alloy Rims, ...\n",
       "25073     ABS, AM/FM Radio, Air Bags, Air Conditioning,...\n",
       "22512     ABS, AM/FM Radio, Air Bags, Air Conditioning,...\n",
       "10068       AM/FM Radio, Air Conditioning, Cassette Player\n",
       "28763     ABS, AM/FM Radio, Air Conditioning, Alloy Rim...\n",
       "29059       AM/FM Radio, Air Conditioning, Cassette Player\n",
       "2239      ABS, AM/FM Radio, Air Bags, Air Conditioning,...\n",
       "23796     ABS, AM/FM Radio, Air Bags, Air Conditioning,...\n",
       "34572     ABS, AM/FM Radio, Air Bags, Air Conditioning,...\n",
       "Name: Features, dtype: object"
      ]
     },
     "execution_count": 500,
     "metadata": {},
     "output_type": "execute_result"
    }
   ],
   "source": [
    "df.Features.sample(10)"
   ]
  },
  {
   "cell_type": "code",
   "execution_count": 501,
   "metadata": {},
   "outputs": [
    {
     "name": "stdout",
     "output_type": "stream",
     "text": [
      "5.8 %\n"
     ]
    }
   ],
   "source": [
    "print(np.round(df.Features.isnull().sum()/df.Features.count()*100,2), \"%\")\n",
    "\n",
    "## will see it during feature Engineering."
   ]
  },
  {
   "cell_type": "markdown",
   "metadata": {},
   "source": [
    "##### After Skimming, I will remove some feature, as they are not suitable for my model"
   ]
  },
  {
   "cell_type": "markdown",
   "metadata": {},
   "source": [
    "- Let's make Correlation with respect to price"
   ]
  },
  {
   "cell_type": "code",
   "execution_count": 502,
   "metadata": {},
   "outputs": [
    {
     "data": {
      "text/html": [
       "<div>\n",
       "<style scoped>\n",
       "    .dataframe tbody tr th:only-of-type {\n",
       "        vertical-align: middle;\n",
       "    }\n",
       "\n",
       "    .dataframe tbody tr th {\n",
       "        vertical-align: top;\n",
       "    }\n",
       "\n",
       "    .dataframe thead th {\n",
       "        text-align: right;\n",
       "    }\n",
       "</style>\n",
       "<table border=\"1\" class=\"dataframe\">\n",
       "  <thead>\n",
       "    <tr style=\"text-align: right;\">\n",
       "      <th></th>\n",
       "      <th>Ad No</th>\n",
       "      <th>Price</th>\n",
       "      <th>Model Year</th>\n",
       "      <th>Mileage</th>\n",
       "      <th>Engine Capacity</th>\n",
       "    </tr>\n",
       "  </thead>\n",
       "  <tbody>\n",
       "    <tr>\n",
       "      <th>Ad No</th>\n",
       "      <td>1.000000</td>\n",
       "      <td>-0.078896</td>\n",
       "      <td>0.004357</td>\n",
       "      <td>0.030116</td>\n",
       "      <td>-0.069788</td>\n",
       "    </tr>\n",
       "    <tr>\n",
       "      <th>Price</th>\n",
       "      <td>-0.078896</td>\n",
       "      <td>1.000000</td>\n",
       "      <td>0.217495</td>\n",
       "      <td>-0.188655</td>\n",
       "      <td>0.645924</td>\n",
       "    </tr>\n",
       "    <tr>\n",
       "      <th>Model Year</th>\n",
       "      <td>0.004357</td>\n",
       "      <td>0.217495</td>\n",
       "      <td>1.000000</td>\n",
       "      <td>-0.604301</td>\n",
       "      <td>-0.151290</td>\n",
       "    </tr>\n",
       "    <tr>\n",
       "      <th>Mileage</th>\n",
       "      <td>0.030116</td>\n",
       "      <td>-0.188655</td>\n",
       "      <td>-0.604301</td>\n",
       "      <td>1.000000</td>\n",
       "      <td>0.098138</td>\n",
       "    </tr>\n",
       "    <tr>\n",
       "      <th>Engine Capacity</th>\n",
       "      <td>-0.069788</td>\n",
       "      <td>0.645924</td>\n",
       "      <td>-0.151290</td>\n",
       "      <td>0.098138</td>\n",
       "      <td>1.000000</td>\n",
       "    </tr>\n",
       "  </tbody>\n",
       "</table>\n",
       "</div>"
      ],
      "text/plain": [
       "                    Ad No     Price  Model Year   Mileage  Engine Capacity\n",
       "Ad No            1.000000 -0.078896    0.004357  0.030116        -0.069788\n",
       "Price           -0.078896  1.000000    0.217495 -0.188655         0.645924\n",
       "Model Year       0.004357  0.217495    1.000000 -0.604301        -0.151290\n",
       "Mileage          0.030116 -0.188655   -0.604301  1.000000         0.098138\n",
       "Engine Capacity -0.069788  0.645924   -0.151290  0.098138         1.000000"
      ]
     },
     "execution_count": 502,
     "metadata": {},
     "output_type": "execute_result"
    }
   ],
   "source": [
    "df.corr()"
   ]
  },
  {
   "cell_type": "code",
   "execution_count": 503,
   "metadata": {},
   "outputs": [
    {
     "name": "stdout",
     "output_type": "stream",
     "text": [
      "<class 'pandas.core.frame.DataFrame'>\n",
      "RangeIndex: 46023 entries, 0 to 46022\n",
      "Data columns (total 16 columns):\n",
      " #   Column           Non-Null Count  Dtype \n",
      "---  ------           --------------  ----- \n",
      " 0   Ad No            46023 non-null  int64 \n",
      " 1   Name             46023 non-null  object\n",
      " 2   Price            46023 non-null  int64 \n",
      " 3   Model Year       46023 non-null  int64 \n",
      " 4   Location         46023 non-null  object\n",
      " 5   Mileage          46023 non-null  int64 \n",
      " 6   Registered City  46023 non-null  object\n",
      " 7   Engine Type      46023 non-null  object\n",
      " 8   Engine Capacity  46023 non-null  int64 \n",
      " 9   Transmission     46023 non-null  object\n",
      " 10  Color            46023 non-null  object\n",
      " 11  Assembly         46023 non-null  object\n",
      " 12  Body Type        46023 non-null  object\n",
      " 13  Features         43502 non-null  object\n",
      " 14  Last Updated     46023 non-null  object\n",
      " 15  URL              46023 non-null  object\n",
      "dtypes: int64(5), object(11)\n",
      "memory usage: 5.6+ MB\n"
     ]
    }
   ],
   "source": [
    "df.info()"
   ]
  },
  {
   "cell_type": "markdown",
   "metadata": {},
   "source": [
    "- Location, I think this will no be useful for price prediction \n",
    "- I just need to predict the price of car, no need of URL\n",
    "- Registered City is again, useless feature for our model\n",
    "- No need of Ad-no "
   ]
  },
  {
   "cell_type": "code",
   "execution_count": 504,
   "metadata": {},
   "outputs": [],
   "source": [
    "## dropping some features \n",
    "df.drop(columns={'Location', \"Last Updated\", \"URL\", 'Registered City','Ad No'}, inplace=True)"
   ]
  },
  {
   "cell_type": "markdown",
   "metadata": {},
   "source": [
    "# **Feature Engineering**"
   ]
  },
  {
   "cell_type": "code",
   "execution_count": 505,
   "metadata": {},
   "outputs": [
    {
     "data": {
      "text/html": [
       "<div>\n",
       "<style scoped>\n",
       "    .dataframe tbody tr th:only-of-type {\n",
       "        vertical-align: middle;\n",
       "    }\n",
       "\n",
       "    .dataframe tbody tr th {\n",
       "        vertical-align: top;\n",
       "    }\n",
       "\n",
       "    .dataframe thead th {\n",
       "        text-align: right;\n",
       "    }\n",
       "</style>\n",
       "<table border=\"1\" class=\"dataframe\">\n",
       "  <thead>\n",
       "    <tr style=\"text-align: right;\">\n",
       "      <th></th>\n",
       "      <th>Name</th>\n",
       "      <th>Price</th>\n",
       "      <th>Model Year</th>\n",
       "      <th>Mileage</th>\n",
       "      <th>Engine Type</th>\n",
       "      <th>Engine Capacity</th>\n",
       "      <th>Transmission</th>\n",
       "      <th>Color</th>\n",
       "      <th>Assembly</th>\n",
       "      <th>Body Type</th>\n",
       "      <th>Features</th>\n",
       "    </tr>\n",
       "  </thead>\n",
       "  <tbody>\n",
       "    <tr>\n",
       "      <th>0</th>\n",
       "      <td>Toyota Vitz F 1.0 2017</td>\n",
       "      <td>2385000</td>\n",
       "      <td>2017</td>\n",
       "      <td>9869</td>\n",
       "      <td>Petrol</td>\n",
       "      <td>1000</td>\n",
       "      <td>Automatic</td>\n",
       "      <td>Silver</td>\n",
       "      <td>Imported</td>\n",
       "      <td>Hatchback</td>\n",
       "      <td>ABS, AM/FM Radio, Air Bags, Air Conditioning,...</td>\n",
       "    </tr>\n",
       "    <tr>\n",
       "      <th>1</th>\n",
       "      <td>Toyota Corolla GLi Automatic 1.3 VVTi 2019</td>\n",
       "      <td>111000</td>\n",
       "      <td>2019</td>\n",
       "      <td>11111</td>\n",
       "      <td>Petrol</td>\n",
       "      <td>1300</td>\n",
       "      <td>Automatic</td>\n",
       "      <td>White</td>\n",
       "      <td>Local</td>\n",
       "      <td>Sedan</td>\n",
       "      <td>ABS, AM/FM Radio, Air Bags, Air Conditioning,...</td>\n",
       "    </tr>\n",
       "    <tr>\n",
       "      <th>2</th>\n",
       "      <td>Suzuki Alto VXL 2019</td>\n",
       "      <td>1530000</td>\n",
       "      <td>2019</td>\n",
       "      <td>17500</td>\n",
       "      <td>Petrol</td>\n",
       "      <td>660</td>\n",
       "      <td>Automatic</td>\n",
       "      <td>White</td>\n",
       "      <td>Local</td>\n",
       "      <td>Hatchback</td>\n",
       "      <td>ABS, AM/FM Radio, Air Bags, Air Conditioning,...</td>\n",
       "    </tr>\n",
       "    <tr>\n",
       "      <th>3</th>\n",
       "      <td>Suzuki Alto VXR 2019</td>\n",
       "      <td>1650000</td>\n",
       "      <td>2019</td>\n",
       "      <td>9600</td>\n",
       "      <td>Petrol</td>\n",
       "      <td>660</td>\n",
       "      <td>Manual</td>\n",
       "      <td>White</td>\n",
       "      <td>Local</td>\n",
       "      <td>Hatchback</td>\n",
       "      <td>AM/FM Radio, Air Bags, Air Conditioning, DVD ...</td>\n",
       "    </tr>\n",
       "    <tr>\n",
       "      <th>4</th>\n",
       "      <td>Toyota Corolla XLi VVTi 2010</td>\n",
       "      <td>1435000</td>\n",
       "      <td>2010</td>\n",
       "      <td>120000</td>\n",
       "      <td>Petrol</td>\n",
       "      <td>1300</td>\n",
       "      <td>Manual</td>\n",
       "      <td>Black</td>\n",
       "      <td>Local</td>\n",
       "      <td>Sedan</td>\n",
       "      <td>AM/FM Radio, Air Conditioning, CD Player, Key...</td>\n",
       "    </tr>\n",
       "  </tbody>\n",
       "</table>\n",
       "</div>"
      ],
      "text/plain": [
       "                                         Name    Price  Model Year  Mileage  \\\n",
       "0                      Toyota Vitz F 1.0 2017  2385000        2017     9869   \n",
       "1  Toyota Corolla GLi Automatic 1.3 VVTi 2019   111000        2019    11111   \n",
       "2                        Suzuki Alto VXL 2019  1530000        2019    17500   \n",
       "3                        Suzuki Alto VXR 2019  1650000        2019     9600   \n",
       "4                Toyota Corolla XLi VVTi 2010  1435000        2010   120000   \n",
       "\n",
       "  Engine Type  Engine Capacity Transmission   Color  Assembly  Body Type  \\\n",
       "0      Petrol             1000    Automatic  Silver  Imported  Hatchback   \n",
       "1      Petrol             1300    Automatic   White     Local      Sedan   \n",
       "2      Petrol              660    Automatic   White     Local  Hatchback   \n",
       "3      Petrol              660       Manual   White     Local  Hatchback   \n",
       "4      Petrol             1300       Manual   Black     Local      Sedan   \n",
       "\n",
       "                                            Features  \n",
       "0   ABS, AM/FM Radio, Air Bags, Air Conditioning,...  \n",
       "1   ABS, AM/FM Radio, Air Bags, Air Conditioning,...  \n",
       "2   ABS, AM/FM Radio, Air Bags, Air Conditioning,...  \n",
       "3   AM/FM Radio, Air Bags, Air Conditioning, DVD ...  \n",
       "4   AM/FM Radio, Air Conditioning, CD Player, Key...  "
      ]
     },
     "execution_count": 505,
     "metadata": {},
     "output_type": "execute_result"
    }
   ],
   "source": [
    "df.head()"
   ]
  },
  {
   "cell_type": "markdown",
   "metadata": {},
   "source": [
    "- Name column"
   ]
  },
  {
   "cell_type": "code",
   "execution_count": 506,
   "metadata": {},
   "outputs": [
    {
     "data": {
      "text/plain": [
       "27158                      Toyota Corolla 2.0D Saloon 2005\n",
       "35034                                 Suzuki Alto VXL 2019\n",
       "25005    Toyota Prius G Touring Selection Leather Packa...\n",
       "44776                            Toyota Prado TZ 3.0D 1998\n",
       "3394                            Mitsubishi Ek Wagon G 2011\n",
       "21242             Honda Civic VTi Oriel Automatic 1.6 2001\n",
       "28329         Mitsubishi Pajero Exceed Automatic 2.8D 1993\n",
       "44570      Honda Civic VTi Oriel Prosmatec 1.8 i-VTEC 2007\n",
       "43111                         Suzuki Cultus VXR (CNG) 2007\n",
       "15677                              Toyota Mark X 250G 2005\n",
       "Name: Name, dtype: object"
      ]
     },
     "execution_count": 506,
     "metadata": {},
     "output_type": "execute_result"
    }
   ],
   "source": [
    "df.Name.sample(10)"
   ]
  },
  {
   "cell_type": "code",
   "execution_count": 507,
   "metadata": {},
   "outputs": [],
   "source": [
    "#let's extract some nef feature from Name column\n",
    "X = df.Name.str.split()"
   ]
  },
  {
   "cell_type": "code",
   "execution_count": 508,
   "metadata": {},
   "outputs": [
    {
     "data": {
      "text/plain": [
       "['Toyota', 'Corolla', 'GLi']"
      ]
     },
     "execution_count": 508,
     "metadata": {},
     "output_type": "execute_result"
    }
   ],
   "source": [
    "X[1][0:3]"
   ]
  },
  {
   "cell_type": "code",
   "execution_count": 509,
   "metadata": {},
   "outputs": [],
   "source": [
    "#making manufacturer feature\n",
    "df['Manufacturer'] = X.apply(lambda x: x[0])"
   ]
  },
  {
   "cell_type": "code",
   "execution_count": 510,
   "metadata": {},
   "outputs": [],
   "source": [
    "#making model feature\n",
    "df['Model'] =  X.apply(lambda x: x[1])"
   ]
  },
  {
   "cell_type": "code",
   "execution_count": 511,
   "metadata": {},
   "outputs": [],
   "source": [
    "#making variant feature\n",
    "df['variant'] =  X.apply(lambda x: x[2])\n"
   ]
  },
  {
   "cell_type": "code",
   "execution_count": 512,
   "metadata": {},
   "outputs": [
    {
     "data": {
      "text/html": [
       "<div>\n",
       "<style scoped>\n",
       "    .dataframe tbody tr th:only-of-type {\n",
       "        vertical-align: middle;\n",
       "    }\n",
       "\n",
       "    .dataframe tbody tr th {\n",
       "        vertical-align: top;\n",
       "    }\n",
       "\n",
       "    .dataframe thead th {\n",
       "        text-align: right;\n",
       "    }\n",
       "</style>\n",
       "<table border=\"1\" class=\"dataframe\">\n",
       "  <thead>\n",
       "    <tr style=\"text-align: right;\">\n",
       "      <th></th>\n",
       "      <th>Name</th>\n",
       "      <th>Price</th>\n",
       "      <th>Model Year</th>\n",
       "      <th>Mileage</th>\n",
       "      <th>Engine Type</th>\n",
       "      <th>Engine Capacity</th>\n",
       "      <th>Transmission</th>\n",
       "      <th>Color</th>\n",
       "      <th>Assembly</th>\n",
       "      <th>Body Type</th>\n",
       "      <th>Features</th>\n",
       "      <th>Manufacturer</th>\n",
       "      <th>Model</th>\n",
       "      <th>variant</th>\n",
       "    </tr>\n",
       "  </thead>\n",
       "  <tbody>\n",
       "    <tr>\n",
       "      <th>0</th>\n",
       "      <td>Toyota Vitz F 1.0 2017</td>\n",
       "      <td>2385000</td>\n",
       "      <td>2017</td>\n",
       "      <td>9869</td>\n",
       "      <td>Petrol</td>\n",
       "      <td>1000</td>\n",
       "      <td>Automatic</td>\n",
       "      <td>Silver</td>\n",
       "      <td>Imported</td>\n",
       "      <td>Hatchback</td>\n",
       "      <td>ABS, AM/FM Radio, Air Bags, Air Conditioning,...</td>\n",
       "      <td>Toyota</td>\n",
       "      <td>Vitz</td>\n",
       "      <td>F</td>\n",
       "    </tr>\n",
       "    <tr>\n",
       "      <th>1</th>\n",
       "      <td>Toyota Corolla GLi Automatic 1.3 VVTi 2019</td>\n",
       "      <td>111000</td>\n",
       "      <td>2019</td>\n",
       "      <td>11111</td>\n",
       "      <td>Petrol</td>\n",
       "      <td>1300</td>\n",
       "      <td>Automatic</td>\n",
       "      <td>White</td>\n",
       "      <td>Local</td>\n",
       "      <td>Sedan</td>\n",
       "      <td>ABS, AM/FM Radio, Air Bags, Air Conditioning,...</td>\n",
       "      <td>Toyota</td>\n",
       "      <td>Corolla</td>\n",
       "      <td>GLi</td>\n",
       "    </tr>\n",
       "    <tr>\n",
       "      <th>2</th>\n",
       "      <td>Suzuki Alto VXL 2019</td>\n",
       "      <td>1530000</td>\n",
       "      <td>2019</td>\n",
       "      <td>17500</td>\n",
       "      <td>Petrol</td>\n",
       "      <td>660</td>\n",
       "      <td>Automatic</td>\n",
       "      <td>White</td>\n",
       "      <td>Local</td>\n",
       "      <td>Hatchback</td>\n",
       "      <td>ABS, AM/FM Radio, Air Bags, Air Conditioning,...</td>\n",
       "      <td>Suzuki</td>\n",
       "      <td>Alto</td>\n",
       "      <td>VXL</td>\n",
       "    </tr>\n",
       "    <tr>\n",
       "      <th>3</th>\n",
       "      <td>Suzuki Alto VXR 2019</td>\n",
       "      <td>1650000</td>\n",
       "      <td>2019</td>\n",
       "      <td>9600</td>\n",
       "      <td>Petrol</td>\n",
       "      <td>660</td>\n",
       "      <td>Manual</td>\n",
       "      <td>White</td>\n",
       "      <td>Local</td>\n",
       "      <td>Hatchback</td>\n",
       "      <td>AM/FM Radio, Air Bags, Air Conditioning, DVD ...</td>\n",
       "      <td>Suzuki</td>\n",
       "      <td>Alto</td>\n",
       "      <td>VXR</td>\n",
       "    </tr>\n",
       "    <tr>\n",
       "      <th>4</th>\n",
       "      <td>Toyota Corolla XLi VVTi 2010</td>\n",
       "      <td>1435000</td>\n",
       "      <td>2010</td>\n",
       "      <td>120000</td>\n",
       "      <td>Petrol</td>\n",
       "      <td>1300</td>\n",
       "      <td>Manual</td>\n",
       "      <td>Black</td>\n",
       "      <td>Local</td>\n",
       "      <td>Sedan</td>\n",
       "      <td>AM/FM Radio, Air Conditioning, CD Player, Key...</td>\n",
       "      <td>Toyota</td>\n",
       "      <td>Corolla</td>\n",
       "      <td>XLi</td>\n",
       "    </tr>\n",
       "  </tbody>\n",
       "</table>\n",
       "</div>"
      ],
      "text/plain": [
       "                                         Name    Price  Model Year  Mileage  \\\n",
       "0                      Toyota Vitz F 1.0 2017  2385000        2017     9869   \n",
       "1  Toyota Corolla GLi Automatic 1.3 VVTi 2019   111000        2019    11111   \n",
       "2                        Suzuki Alto VXL 2019  1530000        2019    17500   \n",
       "3                        Suzuki Alto VXR 2019  1650000        2019     9600   \n",
       "4                Toyota Corolla XLi VVTi 2010  1435000        2010   120000   \n",
       "\n",
       "  Engine Type  Engine Capacity Transmission   Color  Assembly  Body Type  \\\n",
       "0      Petrol             1000    Automatic  Silver  Imported  Hatchback   \n",
       "1      Petrol             1300    Automatic   White     Local      Sedan   \n",
       "2      Petrol              660    Automatic   White     Local  Hatchback   \n",
       "3      Petrol              660       Manual   White     Local  Hatchback   \n",
       "4      Petrol             1300       Manual   Black     Local      Sedan   \n",
       "\n",
       "                                            Features Manufacturer    Model  \\\n",
       "0   ABS, AM/FM Radio, Air Bags, Air Conditioning,...       Toyota     Vitz   \n",
       "1   ABS, AM/FM Radio, Air Bags, Air Conditioning,...       Toyota  Corolla   \n",
       "2   ABS, AM/FM Radio, Air Bags, Air Conditioning,...       Suzuki     Alto   \n",
       "3   AM/FM Radio, Air Bags, Air Conditioning, DVD ...       Suzuki     Alto   \n",
       "4   AM/FM Radio, Air Conditioning, CD Player, Key...       Toyota  Corolla   \n",
       "\n",
       "  variant  \n",
       "0       F  \n",
       "1     GLi  \n",
       "2     VXL  \n",
       "3     VXR  \n",
       "4     XLi  "
      ]
     },
     "execution_count": 512,
     "metadata": {},
     "output_type": "execute_result"
    }
   ],
   "source": [
    "df.head()"
   ]
  },
  {
   "cell_type": "markdown",
   "metadata": {},
   "source": [
    "- Feature Column"
   ]
  },
  {
   "cell_type": "code",
   "execution_count": 513,
   "metadata": {},
   "outputs": [
    {
     "data": {
      "text/html": [
       "<div>\n",
       "<style scoped>\n",
       "    .dataframe tbody tr th:only-of-type {\n",
       "        vertical-align: middle;\n",
       "    }\n",
       "\n",
       "    .dataframe tbody tr th {\n",
       "        vertical-align: top;\n",
       "    }\n",
       "\n",
       "    .dataframe thead th {\n",
       "        text-align: right;\n",
       "    }\n",
       "</style>\n",
       "<table border=\"1\" class=\"dataframe\">\n",
       "  <thead>\n",
       "    <tr style=\"text-align: right;\">\n",
       "      <th></th>\n",
       "      <th>0</th>\n",
       "      <th>1</th>\n",
       "      <th>2</th>\n",
       "      <th>3</th>\n",
       "      <th>4</th>\n",
       "      <th>5</th>\n",
       "      <th>6</th>\n",
       "      <th>7</th>\n",
       "      <th>8</th>\n",
       "      <th>9</th>\n",
       "      <th>...</th>\n",
       "      <th>18</th>\n",
       "      <th>19</th>\n",
       "      <th>20</th>\n",
       "      <th>21</th>\n",
       "      <th>22</th>\n",
       "      <th>23</th>\n",
       "      <th>24</th>\n",
       "      <th>25</th>\n",
       "      <th>26</th>\n",
       "      <th>27</th>\n",
       "    </tr>\n",
       "  </thead>\n",
       "  <tbody>\n",
       "    <tr>\n",
       "      <th>23301</th>\n",
       "      <td>ABS</td>\n",
       "      <td>AM/FM Radio</td>\n",
       "      <td>Air Bags</td>\n",
       "      <td>Air Conditioning</td>\n",
       "      <td>Alloy Rims</td>\n",
       "      <td>CD Player</td>\n",
       "      <td>Cruise Control</td>\n",
       "      <td>DVD Player</td>\n",
       "      <td>Power Locks</td>\n",
       "      <td>Power Mirrors</td>\n",
       "      <td>...</td>\n",
       "      <td>None</td>\n",
       "      <td>None</td>\n",
       "      <td>None</td>\n",
       "      <td>None</td>\n",
       "      <td>None</td>\n",
       "      <td>None</td>\n",
       "      <td>None</td>\n",
       "      <td>None</td>\n",
       "      <td>None</td>\n",
       "      <td>None</td>\n",
       "    </tr>\n",
       "    <tr>\n",
       "      <th>45758</th>\n",
       "      <td>NaN</td>\n",
       "      <td>NaN</td>\n",
       "      <td>NaN</td>\n",
       "      <td>NaN</td>\n",
       "      <td>NaN</td>\n",
       "      <td>NaN</td>\n",
       "      <td>NaN</td>\n",
       "      <td>NaN</td>\n",
       "      <td>NaN</td>\n",
       "      <td>NaN</td>\n",
       "      <td>...</td>\n",
       "      <td>NaN</td>\n",
       "      <td>NaN</td>\n",
       "      <td>NaN</td>\n",
       "      <td>NaN</td>\n",
       "      <td>NaN</td>\n",
       "      <td>NaN</td>\n",
       "      <td>NaN</td>\n",
       "      <td>NaN</td>\n",
       "      <td>NaN</td>\n",
       "      <td>NaN</td>\n",
       "    </tr>\n",
       "    <tr>\n",
       "      <th>2027</th>\n",
       "      <td>ABS</td>\n",
       "      <td>AM/FM Radio</td>\n",
       "      <td>Air Conditioning</td>\n",
       "      <td>CD Player</td>\n",
       "      <td>Keyless Entry</td>\n",
       "      <td>Power Locks</td>\n",
       "      <td>Power Mirrors</td>\n",
       "      <td>Power Steering</td>\n",
       "      <td>Power Windows</td>\n",
       "      <td>None</td>\n",
       "      <td>...</td>\n",
       "      <td>None</td>\n",
       "      <td>None</td>\n",
       "      <td>None</td>\n",
       "      <td>None</td>\n",
       "      <td>None</td>\n",
       "      <td>None</td>\n",
       "      <td>None</td>\n",
       "      <td>None</td>\n",
       "      <td>None</td>\n",
       "      <td>None</td>\n",
       "    </tr>\n",
       "    <tr>\n",
       "      <th>8269</th>\n",
       "      <td>AM/FM Radio</td>\n",
       "      <td>Air Conditioning</td>\n",
       "      <td>Cassette Player</td>\n",
       "      <td>Power Locks</td>\n",
       "      <td>Power Mirrors</td>\n",
       "      <td>Power Steering</td>\n",
       "      <td>Power Windows</td>\n",
       "      <td>None</td>\n",
       "      <td>None</td>\n",
       "      <td>None</td>\n",
       "      <td>...</td>\n",
       "      <td>None</td>\n",
       "      <td>None</td>\n",
       "      <td>None</td>\n",
       "      <td>None</td>\n",
       "      <td>None</td>\n",
       "      <td>None</td>\n",
       "      <td>None</td>\n",
       "      <td>None</td>\n",
       "      <td>None</td>\n",
       "      <td>None</td>\n",
       "    </tr>\n",
       "  </tbody>\n",
       "</table>\n",
       "<p>4 rows × 28 columns</p>\n",
       "</div>"
      ],
      "text/plain": [
       "                 0                  1                  2                  3   \\\n",
       "23301           ABS        AM/FM Radio           Air Bags   Air Conditioning   \n",
       "45758           NaN                NaN                NaN                NaN   \n",
       "2027            ABS        AM/FM Radio   Air Conditioning          CD Player   \n",
       "8269    AM/FM Radio   Air Conditioning    Cassette Player        Power Locks   \n",
       "\n",
       "                   4                5                6                7   \\\n",
       "23301      Alloy Rims        CD Player   Cruise Control       DVD Player   \n",
       "45758             NaN              NaN              NaN              NaN   \n",
       "2027    Keyless Entry      Power Locks    Power Mirrors   Power Steering   \n",
       "8269    Power Mirrors   Power Steering    Power Windows             None   \n",
       "\n",
       "                   8               9   ...    18    19    20    21    22  \\\n",
       "23301     Power Locks   Power Mirrors  ...  None  None  None  None  None   \n",
       "45758             NaN             NaN  ...   NaN   NaN   NaN   NaN   NaN   \n",
       "2027    Power Windows            None  ...  None  None  None  None  None   \n",
       "8269             None            None  ...  None  None  None  None  None   \n",
       "\n",
       "         23    24    25    26    27  \n",
       "23301  None  None  None  None  None  \n",
       "45758   NaN   NaN   NaN   NaN   NaN  \n",
       "2027   None  None  None  None  None  \n",
       "8269   None  None  None  None  None  \n",
       "\n",
       "[4 rows x 28 columns]"
      ]
     },
     "execution_count": 513,
     "metadata": {},
     "output_type": "execute_result"
    }
   ],
   "source": [
    "## Let's focus on Features\n",
    "feat = df.Features.str.split(',',expand=True)  # saw in Data Viewer\n",
    "feat.sample(4)"
   ]
  },
  {
   "cell_type": "code",
   "execution_count": 514,
   "metadata": {},
   "outputs": [],
   "source": [
    "X = df.Features.str.split(',')"
   ]
  },
  {
   "cell_type": "markdown",
   "metadata": {},
   "source": [
    "- **let's remove null values form DataFrame df**"
   ]
  },
  {
   "cell_type": "code",
   "execution_count": 515,
   "metadata": {},
   "outputs": [
    {
     "data": {
      "text/plain": [
       "(46023, 14)"
      ]
     },
     "execution_count": 515,
     "metadata": {},
     "output_type": "execute_result"
    }
   ],
   "source": [
    "df.shape"
   ]
  },
  {
   "cell_type": "code",
   "execution_count": 516,
   "metadata": {},
   "outputs": [
    {
     "data": {
      "text/plain": [
       "(43502, 14)"
      ]
     },
     "execution_count": 516,
     "metadata": {},
     "output_type": "execute_result"
    }
   ],
   "source": [
    "df = df.dropna()\n",
    "df.shape"
   ]
  },
  {
   "cell_type": "code",
   "execution_count": 517,
   "metadata": {},
   "outputs": [
    {
     "data": {
      "text/plain": [
       "0     1             2          3                  4            5           6                 7                 8         9                10           11             12               13             14                15              16                  17            18              19               20              21              22            23                        24              25                  26         27                      \n",
       " ABS   AM/FM Radio   Air Bags   Air Conditioning   Alloy Rims   CD Player   Cassette Player   Climate Control   CoolBox   Cruise Control   DVD Player   Front Camera   Front Speakers   Heated Seats   Immobilizer Key   Keyless Entry   Navigation System   Power Locks   Power Mirrors   Power Steering   Power Windows   Rear AC Vents   Rear Camera   Rear Seat Entertainment   Rear speakers   Steering Switches   Sun Roof   USB and Auxillary Cable    7\n",
       "dtype: int64"
      ]
     },
     "execution_count": 517,
     "metadata": {},
     "output_type": "execute_result"
    }
   ],
   "source": [
    "feat.value_counts() # let's make and list of these variables"
   ]
  },
  {
   "cell_type": "code",
   "execution_count": 518,
   "metadata": {},
   "outputs": [
    {
     "data": {
      "text/plain": [
       "['ABS',\n",
       " ' AM/FM Radio',\n",
       " ' Air Bags',\n",
       " ' Air Conditioning',\n",
       " ' Alloy Rims',\n",
       " ' CD Player',\n",
       " ' Cassette Player',\n",
       " ' Climate Control',\n",
       " ' CoolBox',\n",
       " ' Cruise Control',\n",
       " ' DVD Player',\n",
       " ' Front Camera',\n",
       " ' Front Speakers',\n",
       " ' Heated Seats',\n",
       " ' Immobilizer Key',\n",
       " ' Keyless Entry',\n",
       " ' Navigation System',\n",
       " ' Power Locks',\n",
       " ' Power Mirrors',\n",
       " ' Power Steering',\n",
       " ' Power Windows',\n",
       " ' Rear AC Vents',\n",
       " ' Rear Camera',\n",
       " ' Rear Seat Entertainment',\n",
       " ' Rear speakers',\n",
       " ' Steering Switches',\n",
       " ' Sun Roof',\n",
       " ' USB and Auxillary Cable']"
      ]
     },
     "execution_count": 518,
     "metadata": {},
     "output_type": "execute_result"
    }
   ],
   "source": [
    "feat_var =\"ABS   AM/FM Radio   Air Bags   Air Conditioning   Alloy Rims   CD Player   Cassette Player   Climate Control   CoolBox   Cruise Control   DVD Player   Front Camera   Front Speakers   Heated Seats   Immobilizer Key   Keyless Entry   Navigation System   Power Locks   Power Mirrors   Power Steering   Power Windows   Rear AC Vents   Rear Camera   Rear Seat Entertainment   Rear speakers   Steering Switches   Sun Roof   USB and Auxillary Cable\"\n",
    "\n",
    "new_feat = list(feat_var.split('  '))\n",
    "new_feat"
   ]
  },
  {
   "cell_type": "markdown",
   "metadata": {},
   "source": [
    "- let's make these all as a new feature"
   ]
  },
  {
   "cell_type": "code",
   "execution_count": 519,
   "metadata": {},
   "outputs": [],
   "source": [
    "for i in new_feat:\n",
    "    def new_features(text):\n",
    "        if i in text:\n",
    "            return 'YES'\n",
    "        else:\n",
    "            return 'NO'\n",
    "\n",
    "\n",
    "    df[i] = df.Features.apply(new_features)\n",
    "    # .value_counts()"
   ]
  },
  {
   "cell_type": "code",
   "execution_count": 520,
   "metadata": {},
   "outputs": [
    {
     "data": {
      "text/html": [
       "<div>\n",
       "<style scoped>\n",
       "    .dataframe tbody tr th:only-of-type {\n",
       "        vertical-align: middle;\n",
       "    }\n",
       "\n",
       "    .dataframe tbody tr th {\n",
       "        vertical-align: top;\n",
       "    }\n",
       "\n",
       "    .dataframe thead th {\n",
       "        text-align: right;\n",
       "    }\n",
       "</style>\n",
       "<table border=\"1\" class=\"dataframe\">\n",
       "  <thead>\n",
       "    <tr style=\"text-align: right;\">\n",
       "      <th></th>\n",
       "      <th>Name</th>\n",
       "      <th>Price</th>\n",
       "      <th>Model Year</th>\n",
       "      <th>Mileage</th>\n",
       "      <th>Engine Type</th>\n",
       "      <th>Engine Capacity</th>\n",
       "      <th>Transmission</th>\n",
       "      <th>Color</th>\n",
       "      <th>Assembly</th>\n",
       "      <th>Body Type</th>\n",
       "      <th>...</th>\n",
       "      <th>Power Mirrors</th>\n",
       "      <th>Power Steering</th>\n",
       "      <th>Power Windows</th>\n",
       "      <th>Rear AC Vents</th>\n",
       "      <th>Rear Camera</th>\n",
       "      <th>Rear Seat Entertainment</th>\n",
       "      <th>Rear speakers</th>\n",
       "      <th>Steering Switches</th>\n",
       "      <th>Sun Roof</th>\n",
       "      <th>USB and Auxillary Cable</th>\n",
       "    </tr>\n",
       "  </thead>\n",
       "  <tbody>\n",
       "    <tr>\n",
       "      <th>10468</th>\n",
       "      <td>Honda Fit 1.3 Hybrid Base Grade 2012</td>\n",
       "      <td>1950000</td>\n",
       "      <td>2012</td>\n",
       "      <td>125000</td>\n",
       "      <td>Hybrid</td>\n",
       "      <td>1300</td>\n",
       "      <td>Automatic</td>\n",
       "      <td>Green</td>\n",
       "      <td>Imported</td>\n",
       "      <td>Hatchback</td>\n",
       "      <td>...</td>\n",
       "      <td>NO</td>\n",
       "      <td>NO</td>\n",
       "      <td>NO</td>\n",
       "      <td>NO</td>\n",
       "      <td>NO</td>\n",
       "      <td>NO</td>\n",
       "      <td>NO</td>\n",
       "      <td>NO</td>\n",
       "      <td>NO</td>\n",
       "      <td>NO</td>\n",
       "    </tr>\n",
       "    <tr>\n",
       "      <th>13571</th>\n",
       "      <td>Suzuki Mehran VX Euro II 2019</td>\n",
       "      <td>950000</td>\n",
       "      <td>2019</td>\n",
       "      <td>13300</td>\n",
       "      <td>Petrol</td>\n",
       "      <td>800</td>\n",
       "      <td>Manual</td>\n",
       "      <td>Silver</td>\n",
       "      <td>Local</td>\n",
       "      <td>Hatchback</td>\n",
       "      <td>...</td>\n",
       "      <td>NO</td>\n",
       "      <td>NO</td>\n",
       "      <td>NO</td>\n",
       "      <td>NO</td>\n",
       "      <td>NO</td>\n",
       "      <td>NO</td>\n",
       "      <td>NO</td>\n",
       "      <td>NO</td>\n",
       "      <td>NO</td>\n",
       "      <td>NO</td>\n",
       "    </tr>\n",
       "    <tr>\n",
       "      <th>34488</th>\n",
       "      <td>Daihatsu Cuore CX Eco 2002</td>\n",
       "      <td>515000</td>\n",
       "      <td>2002</td>\n",
       "      <td>90000</td>\n",
       "      <td>Petrol</td>\n",
       "      <td>800</td>\n",
       "      <td>Manual</td>\n",
       "      <td>White</td>\n",
       "      <td>Local</td>\n",
       "      <td>Hatchback</td>\n",
       "      <td>...</td>\n",
       "      <td>NO</td>\n",
       "      <td>YES</td>\n",
       "      <td>NO</td>\n",
       "      <td>NO</td>\n",
       "      <td>NO</td>\n",
       "      <td>NO</td>\n",
       "      <td>NO</td>\n",
       "      <td>NO</td>\n",
       "      <td>NO</td>\n",
       "      <td>NO</td>\n",
       "    </tr>\n",
       "    <tr>\n",
       "      <th>40152</th>\n",
       "      <td>Daihatsu Hijet Deluxe 2013</td>\n",
       "      <td>1130000</td>\n",
       "      <td>2013</td>\n",
       "      <td>122000</td>\n",
       "      <td>Petrol</td>\n",
       "      <td>660</td>\n",
       "      <td>Automatic</td>\n",
       "      <td>Silver</td>\n",
       "      <td>Imported</td>\n",
       "      <td>Mini Van</td>\n",
       "      <td>...</td>\n",
       "      <td>NO</td>\n",
       "      <td>NO</td>\n",
       "      <td>NO</td>\n",
       "      <td>NO</td>\n",
       "      <td>NO</td>\n",
       "      <td>NO</td>\n",
       "      <td>NO</td>\n",
       "      <td>NO</td>\n",
       "      <td>NO</td>\n",
       "      <td>NO</td>\n",
       "    </tr>\n",
       "    <tr>\n",
       "      <th>31466</th>\n",
       "      <td>Suzuki Mehran VX Euro II 2018</td>\n",
       "      <td>935000</td>\n",
       "      <td>2018</td>\n",
       "      <td>26000</td>\n",
       "      <td>Petrol</td>\n",
       "      <td>800</td>\n",
       "      <td>Manual</td>\n",
       "      <td>White</td>\n",
       "      <td>Local</td>\n",
       "      <td>Hatchback</td>\n",
       "      <td>...</td>\n",
       "      <td>NO</td>\n",
       "      <td>YES</td>\n",
       "      <td>NO</td>\n",
       "      <td>NO</td>\n",
       "      <td>NO</td>\n",
       "      <td>NO</td>\n",
       "      <td>NO</td>\n",
       "      <td>NO</td>\n",
       "      <td>NO</td>\n",
       "      <td>NO</td>\n",
       "    </tr>\n",
       "    <tr>\n",
       "      <th>17015</th>\n",
       "      <td>Toyota Corolla XLi VVTi Limited Edition 2012</td>\n",
       "      <td>1599000</td>\n",
       "      <td>2012</td>\n",
       "      <td>199000</td>\n",
       "      <td>Petrol</td>\n",
       "      <td>1300</td>\n",
       "      <td>Manual</td>\n",
       "      <td>Gold</td>\n",
       "      <td>Local</td>\n",
       "      <td>Sedan</td>\n",
       "      <td>...</td>\n",
       "      <td>NO</td>\n",
       "      <td>NO</td>\n",
       "      <td>NO</td>\n",
       "      <td>NO</td>\n",
       "      <td>NO</td>\n",
       "      <td>NO</td>\n",
       "      <td>NO</td>\n",
       "      <td>NO</td>\n",
       "      <td>NO</td>\n",
       "      <td>NO</td>\n",
       "    </tr>\n",
       "    <tr>\n",
       "      <th>32386</th>\n",
       "      <td>Toyota Corolla GLi 1.3 VVTi 2012</td>\n",
       "      <td>1750000</td>\n",
       "      <td>2012</td>\n",
       "      <td>94000</td>\n",
       "      <td>Petrol</td>\n",
       "      <td>1300</td>\n",
       "      <td>Manual</td>\n",
       "      <td>Assembly</td>\n",
       "      <td>Local</td>\n",
       "      <td>Sedan</td>\n",
       "      <td>...</td>\n",
       "      <td>YES</td>\n",
       "      <td>YES</td>\n",
       "      <td>YES</td>\n",
       "      <td>NO</td>\n",
       "      <td>NO</td>\n",
       "      <td>NO</td>\n",
       "      <td>NO</td>\n",
       "      <td>NO</td>\n",
       "      <td>NO</td>\n",
       "      <td>NO</td>\n",
       "    </tr>\n",
       "    <tr>\n",
       "      <th>38699</th>\n",
       "      <td>Honda Civic VTi Oriel Prosmatec 1.8 i-VTEC 2009</td>\n",
       "      <td>1700000</td>\n",
       "      <td>2009</td>\n",
       "      <td>97500</td>\n",
       "      <td>Petrol</td>\n",
       "      <td>1800</td>\n",
       "      <td>Automatic</td>\n",
       "      <td>Silver</td>\n",
       "      <td>Local</td>\n",
       "      <td>Sedan</td>\n",
       "      <td>...</td>\n",
       "      <td>YES</td>\n",
       "      <td>YES</td>\n",
       "      <td>YES</td>\n",
       "      <td>NO</td>\n",
       "      <td>NO</td>\n",
       "      <td>NO</td>\n",
       "      <td>NO</td>\n",
       "      <td>NO</td>\n",
       "      <td>NO</td>\n",
       "      <td>NO</td>\n",
       "    </tr>\n",
       "    <tr>\n",
       "      <th>21954</th>\n",
       "      <td>Honda Civic EXi Prosmatec 2003</td>\n",
       "      <td>900000</td>\n",
       "      <td>2003</td>\n",
       "      <td>200000</td>\n",
       "      <td>Petrol</td>\n",
       "      <td>1500</td>\n",
       "      <td>Automatic</td>\n",
       "      <td>Gold</td>\n",
       "      <td>Imported</td>\n",
       "      <td>Sedan</td>\n",
       "      <td>...</td>\n",
       "      <td>NO</td>\n",
       "      <td>NO</td>\n",
       "      <td>NO</td>\n",
       "      <td>NO</td>\n",
       "      <td>NO</td>\n",
       "      <td>NO</td>\n",
       "      <td>NO</td>\n",
       "      <td>NO</td>\n",
       "      <td>NO</td>\n",
       "      <td>NO</td>\n",
       "    </tr>\n",
       "    <tr>\n",
       "      <th>40121</th>\n",
       "      <td>Suzuki Cultus VXRi 2009</td>\n",
       "      <td>740000</td>\n",
       "      <td>2009</td>\n",
       "      <td>95000</td>\n",
       "      <td>Petrol</td>\n",
       "      <td>1000</td>\n",
       "      <td>Manual</td>\n",
       "      <td>Grey</td>\n",
       "      <td>Local</td>\n",
       "      <td>Hatchback</td>\n",
       "      <td>...</td>\n",
       "      <td>YES</td>\n",
       "      <td>YES</td>\n",
       "      <td>YES</td>\n",
       "      <td>NO</td>\n",
       "      <td>NO</td>\n",
       "      <td>NO</td>\n",
       "      <td>NO</td>\n",
       "      <td>NO</td>\n",
       "      <td>YES</td>\n",
       "      <td>NO</td>\n",
       "    </tr>\n",
       "    <tr>\n",
       "      <th>40271</th>\n",
       "      <td>Suzuki Alto VP 2016</td>\n",
       "      <td>1900000</td>\n",
       "      <td>2016</td>\n",
       "      <td>150000</td>\n",
       "      <td>Petrol</td>\n",
       "      <td>660</td>\n",
       "      <td>Automatic</td>\n",
       "      <td>White</td>\n",
       "      <td>Local</td>\n",
       "      <td>Hatchback</td>\n",
       "      <td>...</td>\n",
       "      <td>NO</td>\n",
       "      <td>NO</td>\n",
       "      <td>NO</td>\n",
       "      <td>NO</td>\n",
       "      <td>NO</td>\n",
       "      <td>NO</td>\n",
       "      <td>NO</td>\n",
       "      <td>NO</td>\n",
       "      <td>NO</td>\n",
       "      <td>NO</td>\n",
       "    </tr>\n",
       "    <tr>\n",
       "      <th>2833</th>\n",
       "      <td>Honda City i-DSI 2004</td>\n",
       "      <td>950000</td>\n",
       "      <td>2004</td>\n",
       "      <td>125000</td>\n",
       "      <td>Petrol</td>\n",
       "      <td>1300</td>\n",
       "      <td>Manual</td>\n",
       "      <td>White</td>\n",
       "      <td>Local</td>\n",
       "      <td>Sedan</td>\n",
       "      <td>...</td>\n",
       "      <td>YES</td>\n",
       "      <td>YES</td>\n",
       "      <td>YES</td>\n",
       "      <td>NO</td>\n",
       "      <td>NO</td>\n",
       "      <td>NO</td>\n",
       "      <td>NO</td>\n",
       "      <td>NO</td>\n",
       "      <td>NO</td>\n",
       "      <td>NO</td>\n",
       "    </tr>\n",
       "    <tr>\n",
       "      <th>7671</th>\n",
       "      <td>Honda Civic Oriel 1.8 i-VTEC CVT 2017</td>\n",
       "      <td>3500000</td>\n",
       "      <td>2017</td>\n",
       "      <td>15000</td>\n",
       "      <td>Petrol</td>\n",
       "      <td>1800</td>\n",
       "      <td>Automatic</td>\n",
       "      <td>Silver</td>\n",
       "      <td>Local</td>\n",
       "      <td>Sedan</td>\n",
       "      <td>...</td>\n",
       "      <td>YES</td>\n",
       "      <td>YES</td>\n",
       "      <td>YES</td>\n",
       "      <td>NO</td>\n",
       "      <td>NO</td>\n",
       "      <td>NO</td>\n",
       "      <td>NO</td>\n",
       "      <td>NO</td>\n",
       "      <td>NO</td>\n",
       "      <td>NO</td>\n",
       "    </tr>\n",
       "    <tr>\n",
       "      <th>28735</th>\n",
       "      <td>FAW V2 VCT-i 2018</td>\n",
       "      <td>1500000</td>\n",
       "      <td>2018</td>\n",
       "      <td>28000</td>\n",
       "      <td>Petrol</td>\n",
       "      <td>1300</td>\n",
       "      <td>Manual</td>\n",
       "      <td>White</td>\n",
       "      <td>Local</td>\n",
       "      <td>Hatchback</td>\n",
       "      <td>...</td>\n",
       "      <td>NO</td>\n",
       "      <td>NO</td>\n",
       "      <td>NO</td>\n",
       "      <td>NO</td>\n",
       "      <td>NO</td>\n",
       "      <td>NO</td>\n",
       "      <td>NO</td>\n",
       "      <td>NO</td>\n",
       "      <td>NO</td>\n",
       "      <td>NO</td>\n",
       "    </tr>\n",
       "    <tr>\n",
       "      <th>1274</th>\n",
       "      <td>Honda Vezel Hybrid X 2015</td>\n",
       "      <td>4000000</td>\n",
       "      <td>2015</td>\n",
       "      <td>76010</td>\n",
       "      <td>Hybrid</td>\n",
       "      <td>1500</td>\n",
       "      <td>Automatic</td>\n",
       "      <td>Grey</td>\n",
       "      <td>Imported</td>\n",
       "      <td>Crossover</td>\n",
       "      <td>...</td>\n",
       "      <td>YES</td>\n",
       "      <td>YES</td>\n",
       "      <td>YES</td>\n",
       "      <td>NO</td>\n",
       "      <td>NO</td>\n",
       "      <td>NO</td>\n",
       "      <td>NO</td>\n",
       "      <td>NO</td>\n",
       "      <td>NO</td>\n",
       "      <td>NO</td>\n",
       "    </tr>\n",
       "  </tbody>\n",
       "</table>\n",
       "<p>15 rows × 42 columns</p>\n",
       "</div>"
      ],
      "text/plain": [
       "                                                  Name    Price  Model Year  \\\n",
       "10468             Honda Fit 1.3 Hybrid Base Grade 2012  1950000        2012   \n",
       "13571                    Suzuki Mehran VX Euro II 2019   950000        2019   \n",
       "34488                       Daihatsu Cuore CX Eco 2002   515000        2002   \n",
       "40152                       Daihatsu Hijet Deluxe 2013  1130000        2013   \n",
       "31466                    Suzuki Mehran VX Euro II 2018   935000        2018   \n",
       "17015     Toyota Corolla XLi VVTi Limited Edition 2012  1599000        2012   \n",
       "32386                 Toyota Corolla GLi 1.3 VVTi 2012  1750000        2012   \n",
       "38699  Honda Civic VTi Oriel Prosmatec 1.8 i-VTEC 2009  1700000        2009   \n",
       "21954                   Honda Civic EXi Prosmatec 2003   900000        2003   \n",
       "40121                          Suzuki Cultus VXRi 2009   740000        2009   \n",
       "40271                              Suzuki Alto VP 2016  1900000        2016   \n",
       "2833                             Honda City i-DSI 2004   950000        2004   \n",
       "7671             Honda Civic Oriel 1.8 i-VTEC CVT 2017  3500000        2017   \n",
       "28735                                FAW V2 VCT-i 2018  1500000        2018   \n",
       "1274                         Honda Vezel Hybrid X 2015  4000000        2015   \n",
       "\n",
       "       Mileage Engine Type  Engine Capacity Transmission     Color  Assembly  \\\n",
       "10468   125000      Hybrid             1300    Automatic     Green  Imported   \n",
       "13571    13300      Petrol              800       Manual    Silver     Local   \n",
       "34488    90000      Petrol              800       Manual     White     Local   \n",
       "40152   122000      Petrol              660    Automatic    Silver  Imported   \n",
       "31466    26000      Petrol              800       Manual     White     Local   \n",
       "17015   199000      Petrol             1300       Manual      Gold     Local   \n",
       "32386    94000      Petrol             1300       Manual  Assembly     Local   \n",
       "38699    97500      Petrol             1800    Automatic    Silver     Local   \n",
       "21954   200000      Petrol             1500    Automatic      Gold  Imported   \n",
       "40121    95000      Petrol             1000       Manual      Grey     Local   \n",
       "40271   150000      Petrol              660    Automatic     White     Local   \n",
       "2833    125000      Petrol             1300       Manual     White     Local   \n",
       "7671     15000      Petrol             1800    Automatic    Silver     Local   \n",
       "28735    28000      Petrol             1300       Manual     White     Local   \n",
       "1274     76010      Hybrid             1500    Automatic      Grey  Imported   \n",
       "\n",
       "       Body Type  ...  Power Mirrors  Power Steering  Power Windows  \\\n",
       "10468  Hatchback  ...             NO              NO             NO   \n",
       "13571  Hatchback  ...             NO              NO             NO   \n",
       "34488  Hatchback  ...             NO             YES             NO   \n",
       "40152   Mini Van  ...             NO              NO             NO   \n",
       "31466  Hatchback  ...             NO             YES             NO   \n",
       "17015      Sedan  ...             NO              NO             NO   \n",
       "32386      Sedan  ...            YES             YES            YES   \n",
       "38699      Sedan  ...            YES             YES            YES   \n",
       "21954      Sedan  ...             NO              NO             NO   \n",
       "40121  Hatchback  ...            YES             YES            YES   \n",
       "40271  Hatchback  ...             NO              NO             NO   \n",
       "2833       Sedan  ...            YES             YES            YES   \n",
       "7671       Sedan  ...            YES             YES            YES   \n",
       "28735  Hatchback  ...             NO              NO             NO   \n",
       "1274   Crossover  ...            YES             YES            YES   \n",
       "\n",
       "       Rear AC Vents  Rear Camera  Rear Seat Entertainment  Rear speakers  \\\n",
       "10468             NO           NO                       NO             NO   \n",
       "13571             NO           NO                       NO             NO   \n",
       "34488             NO           NO                       NO             NO   \n",
       "40152             NO           NO                       NO             NO   \n",
       "31466             NO           NO                       NO             NO   \n",
       "17015             NO           NO                       NO             NO   \n",
       "32386             NO           NO                       NO             NO   \n",
       "38699             NO           NO                       NO             NO   \n",
       "21954             NO           NO                       NO             NO   \n",
       "40121             NO           NO                       NO             NO   \n",
       "40271             NO           NO                       NO             NO   \n",
       "2833              NO           NO                       NO             NO   \n",
       "7671              NO           NO                       NO             NO   \n",
       "28735             NO           NO                       NO             NO   \n",
       "1274              NO           NO                       NO             NO   \n",
       "\n",
       "       Steering Switches  Sun Roof  USB and Auxillary Cable  \n",
       "10468                 NO        NO                       NO  \n",
       "13571                 NO        NO                       NO  \n",
       "34488                 NO        NO                       NO  \n",
       "40152                 NO        NO                       NO  \n",
       "31466                 NO        NO                       NO  \n",
       "17015                 NO        NO                       NO  \n",
       "32386                 NO        NO                       NO  \n",
       "38699                 NO        NO                       NO  \n",
       "21954                 NO        NO                       NO  \n",
       "40121                 NO       YES                       NO  \n",
       "40271                 NO        NO                       NO  \n",
       "2833                  NO        NO                       NO  \n",
       "7671                  NO        NO                       NO  \n",
       "28735                 NO        NO                       NO  \n",
       "1274                  NO        NO                       NO  \n",
       "\n",
       "[15 rows x 42 columns]"
      ]
     },
     "execution_count": 520,
     "metadata": {},
     "output_type": "execute_result"
    }
   ],
   "source": [
    "df.sample(15)"
   ]
  },
  {
   "cell_type": "code",
   "execution_count": 521,
   "metadata": {},
   "outputs": [
    {
     "data": {
      "text/html": [
       "<div>\n",
       "<style scoped>\n",
       "    .dataframe tbody tr th:only-of-type {\n",
       "        vertical-align: middle;\n",
       "    }\n",
       "\n",
       "    .dataframe tbody tr th {\n",
       "        vertical-align: top;\n",
       "    }\n",
       "\n",
       "    .dataframe thead th {\n",
       "        text-align: right;\n",
       "    }\n",
       "</style>\n",
       "<table border=\"1\" class=\"dataframe\">\n",
       "  <thead>\n",
       "    <tr style=\"text-align: right;\">\n",
       "      <th></th>\n",
       "      <th>Price</th>\n",
       "      <th>Model Year</th>\n",
       "      <th>Mileage</th>\n",
       "      <th>Engine Type</th>\n",
       "      <th>Engine Capacity</th>\n",
       "      <th>Transmission</th>\n",
       "      <th>Color</th>\n",
       "      <th>Assembly</th>\n",
       "      <th>Body Type</th>\n",
       "      <th>Manufacturer</th>\n",
       "      <th>...</th>\n",
       "      <th>Power Mirrors</th>\n",
       "      <th>Power Steering</th>\n",
       "      <th>Power Windows</th>\n",
       "      <th>Rear AC Vents</th>\n",
       "      <th>Rear Camera</th>\n",
       "      <th>Rear Seat Entertainment</th>\n",
       "      <th>Rear speakers</th>\n",
       "      <th>Steering Switches</th>\n",
       "      <th>Sun Roof</th>\n",
       "      <th>USB and Auxillary Cable</th>\n",
       "    </tr>\n",
       "  </thead>\n",
       "  <tbody>\n",
       "    <tr>\n",
       "      <th>42570</th>\n",
       "      <td>2515000</td>\n",
       "      <td>2017</td>\n",
       "      <td>22500</td>\n",
       "      <td>Petrol</td>\n",
       "      <td>1500</td>\n",
       "      <td>Manual</td>\n",
       "      <td>Assembly</td>\n",
       "      <td>Local</td>\n",
       "      <td>Sedan</td>\n",
       "      <td>Honda</td>\n",
       "      <td>...</td>\n",
       "      <td>NO</td>\n",
       "      <td>NO</td>\n",
       "      <td>NO</td>\n",
       "      <td>NO</td>\n",
       "      <td>NO</td>\n",
       "      <td>NO</td>\n",
       "      <td>NO</td>\n",
       "      <td>NO</td>\n",
       "      <td>NO</td>\n",
       "      <td>NO</td>\n",
       "    </tr>\n",
       "    <tr>\n",
       "      <th>14571</th>\n",
       "      <td>3250000</td>\n",
       "      <td>2017</td>\n",
       "      <td>50000</td>\n",
       "      <td>Petrol</td>\n",
       "      <td>1800</td>\n",
       "      <td>Automatic</td>\n",
       "      <td>Bronze</td>\n",
       "      <td>Local</td>\n",
       "      <td>Sedan</td>\n",
       "      <td>Honda</td>\n",
       "      <td>...</td>\n",
       "      <td>YES</td>\n",
       "      <td>YES</td>\n",
       "      <td>YES</td>\n",
       "      <td>NO</td>\n",
       "      <td>YES</td>\n",
       "      <td>NO</td>\n",
       "      <td>YES</td>\n",
       "      <td>NO</td>\n",
       "      <td>NO</td>\n",
       "      <td>YES</td>\n",
       "    </tr>\n",
       "    <tr>\n",
       "      <th>36995</th>\n",
       "      <td>1100000</td>\n",
       "      <td>2018</td>\n",
       "      <td>51000</td>\n",
       "      <td>Petrol</td>\n",
       "      <td>800</td>\n",
       "      <td>Manual</td>\n",
       "      <td>White</td>\n",
       "      <td>Local</td>\n",
       "      <td>Hatchback</td>\n",
       "      <td>Suzuki</td>\n",
       "      <td>...</td>\n",
       "      <td>NO</td>\n",
       "      <td>NO</td>\n",
       "      <td>NO</td>\n",
       "      <td>NO</td>\n",
       "      <td>NO</td>\n",
       "      <td>NO</td>\n",
       "      <td>NO</td>\n",
       "      <td>NO</td>\n",
       "      <td>NO</td>\n",
       "      <td>NO</td>\n",
       "    </tr>\n",
       "    <tr>\n",
       "      <th>27331</th>\n",
       "      <td>485000</td>\n",
       "      <td>2004</td>\n",
       "      <td>300000</td>\n",
       "      <td>Petrol</td>\n",
       "      <td>800</td>\n",
       "      <td>Manual</td>\n",
       "      <td>Grey</td>\n",
       "      <td>Local</td>\n",
       "      <td>Hatchback</td>\n",
       "      <td>Daihatsu</td>\n",
       "      <td>...</td>\n",
       "      <td>YES</td>\n",
       "      <td>YES</td>\n",
       "      <td>YES</td>\n",
       "      <td>NO</td>\n",
       "      <td>NO</td>\n",
       "      <td>NO</td>\n",
       "      <td>NO</td>\n",
       "      <td>NO</td>\n",
       "      <td>NO</td>\n",
       "      <td>NO</td>\n",
       "    </tr>\n",
       "    <tr>\n",
       "      <th>39306</th>\n",
       "      <td>3290000</td>\n",
       "      <td>2015</td>\n",
       "      <td>53000</td>\n",
       "      <td>Hybrid</td>\n",
       "      <td>1500</td>\n",
       "      <td>Automatic</td>\n",
       "      <td>Grey</td>\n",
       "      <td>Imported</td>\n",
       "      <td>Crossover</td>\n",
       "      <td>Honda</td>\n",
       "      <td>...</td>\n",
       "      <td>YES</td>\n",
       "      <td>YES</td>\n",
       "      <td>YES</td>\n",
       "      <td>NO</td>\n",
       "      <td>NO</td>\n",
       "      <td>NO</td>\n",
       "      <td>NO</td>\n",
       "      <td>NO</td>\n",
       "      <td>YES</td>\n",
       "      <td>NO</td>\n",
       "    </tr>\n",
       "  </tbody>\n",
       "</table>\n",
       "<p>5 rows × 40 columns</p>\n",
       "</div>"
      ],
      "text/plain": [
       "         Price  Model Year  Mileage Engine Type  Engine Capacity Transmission  \\\n",
       "42570  2515000        2017    22500      Petrol             1500       Manual   \n",
       "14571  3250000        2017    50000      Petrol             1800    Automatic   \n",
       "36995  1100000        2018    51000      Petrol              800       Manual   \n",
       "27331   485000        2004   300000      Petrol              800       Manual   \n",
       "39306  3290000        2015    53000      Hybrid             1500    Automatic   \n",
       "\n",
       "          Color  Assembly  Body Type Manufacturer  ...  Power Mirrors  \\\n",
       "42570  Assembly     Local      Sedan        Honda  ...             NO   \n",
       "14571    Bronze     Local      Sedan        Honda  ...            YES   \n",
       "36995     White     Local  Hatchback       Suzuki  ...             NO   \n",
       "27331      Grey     Local  Hatchback     Daihatsu  ...            YES   \n",
       "39306      Grey  Imported  Crossover        Honda  ...            YES   \n",
       "\n",
       "       Power Steering  Power Windows  Rear AC Vents  Rear Camera  \\\n",
       "42570              NO             NO             NO           NO   \n",
       "14571             YES            YES             NO          YES   \n",
       "36995              NO             NO             NO           NO   \n",
       "27331             YES            YES             NO           NO   \n",
       "39306             YES            YES             NO           NO   \n",
       "\n",
       "       Rear Seat Entertainment  Rear speakers  Steering Switches  Sun Roof  \\\n",
       "42570                       NO             NO                 NO        NO   \n",
       "14571                       NO            YES                 NO        NO   \n",
       "36995                       NO             NO                 NO        NO   \n",
       "27331                       NO             NO                 NO        NO   \n",
       "39306                       NO             NO                 NO       YES   \n",
       "\n",
       "       USB and Auxillary Cable  \n",
       "42570                       NO  \n",
       "14571                      YES  \n",
       "36995                       NO  \n",
       "27331                       NO  \n",
       "39306                       NO  \n",
       "\n",
       "[5 rows x 40 columns]"
      ]
     },
     "execution_count": 521,
     "metadata": {},
     "output_type": "execute_result"
    }
   ],
   "source": [
    "## let's remove Name and Feature \n",
    "df.drop(columns={'Name', 'Features'}, inplace=True)\n",
    "df.sample(5)"
   ]
  },
  {
   "cell_type": "markdown",
   "metadata": {},
   "source": [
    "# **Modeling**"
   ]
  },
  {
   "cell_type": "code",
   "execution_count": 527,
   "metadata": {},
   "outputs": [
    {
     "data": {
      "text/plain": [
       "0        2385000\n",
       "1         111000\n",
       "2        1530000\n",
       "3        1650000\n",
       "4        1435000\n",
       "          ...   \n",
       "43497    1235000\n",
       "43498    2200000\n",
       "43499    3750000\n",
       "43500    2100000\n",
       "43501     660000\n",
       "Name: Price, Length: 43502, dtype: int64"
      ]
     },
     "execution_count": 527,
     "metadata": {},
     "output_type": "execute_result"
    }
   ],
   "source": [
    "X = df.drop(columns=['Price'])\n",
    "y = df.Price"
   ]
  },
  {
   "cell_type": "code",
   "execution_count": 530,
   "metadata": {},
   "outputs": [
    {
     "data": {
      "text/plain": [
       "count    4.350200e+04\n",
       "mean     1.990125e+06\n",
       "std      2.860048e+06\n",
       "min      1.110000e+05\n",
       "25%      8.350000e+05\n",
       "50%      1.450000e+06\n",
       "75%      2.285000e+06\n",
       "max      7.750000e+07\n",
       "Name: Price, dtype: float64"
      ]
     },
     "execution_count": 530,
     "metadata": {},
     "output_type": "execute_result"
    }
   ],
   "source": [
    "## let's dive into Price feature\n",
    "y.describe()"
   ]
  },
  {
   "cell_type": "code",
   "execution_count": 535,
   "metadata": {},
   "outputs": [
    {
     "data": {
      "text/plain": [
       "1450000    468\n",
       "1350000    457\n",
       "1650000    449\n",
       "1550000    427\n",
       "1050000    427\n",
       "950000     424\n",
       "1250000    424\n",
       "550000     411\n",
       "850000     409\n",
       "Name: Price, dtype: int64"
      ]
     },
     "execution_count": 535,
     "metadata": {},
     "output_type": "execute_result"
    }
   ],
   "source": [
    "y.value_counts()[1:10]"
   ]
  },
  {
   "cell_type": "code",
   "execution_count": 540,
   "metadata": {},
   "outputs": [
    {
     "name": "stdout",
     "output_type": "stream",
     "text": [
      "<class 'pandas.core.frame.DataFrame'>\n",
      "Int64Index: 43502 entries, 0 to 43501\n",
      "Data columns (total 39 columns):\n",
      " #   Column                    Non-Null Count  Dtype \n",
      "---  ------                    --------------  ----- \n",
      " 0   Model Year                43502 non-null  int64 \n",
      " 1   Mileage                   43502 non-null  int64 \n",
      " 2   Engine Type               43502 non-null  object\n",
      " 3   Engine Capacity           43502 non-null  int64 \n",
      " 4   Transmission              43502 non-null  object\n",
      " 5   Color                     43502 non-null  object\n",
      " 6   Assembly                  43502 non-null  object\n",
      " 7   Body Type                 43502 non-null  object\n",
      " 8   Manufacturer              43502 non-null  object\n",
      " 9   Model                     43502 non-null  object\n",
      " 10  variant                   43502 non-null  object\n",
      " 11  ABS                       43502 non-null  object\n",
      " 12   AM/FM Radio              43502 non-null  object\n",
      " 13   Air Bags                 43502 non-null  object\n",
      " 14   Air Conditioning         43502 non-null  object\n",
      " 15   Alloy Rims               43502 non-null  object\n",
      " 16   CD Player                43502 non-null  object\n",
      " 17   Cassette Player          43502 non-null  object\n",
      " 18   Climate Control          43502 non-null  object\n",
      " 19   CoolBox                  43502 non-null  object\n",
      " 20   Cruise Control           43502 non-null  object\n",
      " 21   DVD Player               43502 non-null  object\n",
      " 22   Front Camera             43502 non-null  object\n",
      " 23   Front Speakers           43502 non-null  object\n",
      " 24   Heated Seats             43502 non-null  object\n",
      " 25   Immobilizer Key          43502 non-null  object\n",
      " 26   Keyless Entry            43502 non-null  object\n",
      " 27   Navigation System        43502 non-null  object\n",
      " 28   Power Locks              43502 non-null  object\n",
      " 29   Power Mirrors            43502 non-null  object\n",
      " 30   Power Steering           43502 non-null  object\n",
      " 31   Power Windows            43502 non-null  object\n",
      " 32   Rear AC Vents            43502 non-null  object\n",
      " 33   Rear Camera              43502 non-null  object\n",
      " 34   Rear Seat Entertainment  43502 non-null  object\n",
      " 35   Rear speakers            43502 non-null  object\n",
      " 36   Steering Switches        43502 non-null  object\n",
      " 37   Sun Roof                 43502 non-null  object\n",
      " 38   USB and Auxillary Cable  43502 non-null  object\n",
      "dtypes: int64(3), object(36)\n",
      "memory usage: 14.3+ MB\n"
     ]
    }
   ],
   "source": [
    "## As we know our ML models don't accept categorical data, let's Transform our data\n",
    "X.info()\n",
    "# we have just 3 int feature, rest are objects"
   ]
  },
  {
   "cell_type": "code",
   "execution_count": 541,
   "metadata": {},
   "outputs": [
    {
     "data": {
      "text/html": [
       "<div>\n",
       "<style scoped>\n",
       "    .dataframe tbody tr th:only-of-type {\n",
       "        vertical-align: middle;\n",
       "    }\n",
       "\n",
       "    .dataframe tbody tr th {\n",
       "        vertical-align: top;\n",
       "    }\n",
       "\n",
       "    .dataframe thead th {\n",
       "        text-align: right;\n",
       "    }\n",
       "</style>\n",
       "<table border=\"1\" class=\"dataframe\">\n",
       "  <thead>\n",
       "    <tr style=\"text-align: right;\">\n",
       "      <th></th>\n",
       "      <th>Model Year</th>\n",
       "      <th>Mileage</th>\n",
       "      <th>Engine Type</th>\n",
       "      <th>Engine Capacity</th>\n",
       "      <th>Transmission</th>\n",
       "      <th>Color</th>\n",
       "      <th>Assembly</th>\n",
       "      <th>Body Type</th>\n",
       "      <th>Manufacturer</th>\n",
       "      <th>Model</th>\n",
       "      <th>...</th>\n",
       "      <th>Power Mirrors</th>\n",
       "      <th>Power Steering</th>\n",
       "      <th>Power Windows</th>\n",
       "      <th>Rear AC Vents</th>\n",
       "      <th>Rear Camera</th>\n",
       "      <th>Rear Seat Entertainment</th>\n",
       "      <th>Rear speakers</th>\n",
       "      <th>Steering Switches</th>\n",
       "      <th>Sun Roof</th>\n",
       "      <th>USB and Auxillary Cable</th>\n",
       "    </tr>\n",
       "  </thead>\n",
       "  <tbody>\n",
       "    <tr>\n",
       "      <th>20049</th>\n",
       "      <td>2008</td>\n",
       "      <td>50000</td>\n",
       "      <td>Petrol</td>\n",
       "      <td>1000</td>\n",
       "      <td>Manual</td>\n",
       "      <td>White</td>\n",
       "      <td>Local</td>\n",
       "      <td>Hatchback</td>\n",
       "      <td>Suzuki</td>\n",
       "      <td>Alto</td>\n",
       "      <td>...</td>\n",
       "      <td>YES</td>\n",
       "      <td>YES</td>\n",
       "      <td>YES</td>\n",
       "      <td>NO</td>\n",
       "      <td>NO</td>\n",
       "      <td>NO</td>\n",
       "      <td>NO</td>\n",
       "      <td>NO</td>\n",
       "      <td>YES</td>\n",
       "      <td>NO</td>\n",
       "    </tr>\n",
       "    <tr>\n",
       "      <th>38118</th>\n",
       "      <td>2011</td>\n",
       "      <td>80000</td>\n",
       "      <td>Petrol</td>\n",
       "      <td>800</td>\n",
       "      <td>Manual</td>\n",
       "      <td>Black</td>\n",
       "      <td>Local</td>\n",
       "      <td>Hatchback</td>\n",
       "      <td>Suzuki</td>\n",
       "      <td>Mehran</td>\n",
       "      <td>...</td>\n",
       "      <td>YES</td>\n",
       "      <td>YES</td>\n",
       "      <td>YES</td>\n",
       "      <td>NO</td>\n",
       "      <td>NO</td>\n",
       "      <td>NO</td>\n",
       "      <td>NO</td>\n",
       "      <td>NO</td>\n",
       "      <td>YES</td>\n",
       "      <td>NO</td>\n",
       "    </tr>\n",
       "    <tr>\n",
       "      <th>42224</th>\n",
       "      <td>2016</td>\n",
       "      <td>54000</td>\n",
       "      <td>Petrol</td>\n",
       "      <td>660</td>\n",
       "      <td>Automatic</td>\n",
       "      <td>White</td>\n",
       "      <td>Imported</td>\n",
       "      <td>Mini Van</td>\n",
       "      <td>Mazda</td>\n",
       "      <td>Flair</td>\n",
       "      <td>...</td>\n",
       "      <td>YES</td>\n",
       "      <td>YES</td>\n",
       "      <td>YES</td>\n",
       "      <td>NO</td>\n",
       "      <td>NO</td>\n",
       "      <td>NO</td>\n",
       "      <td>NO</td>\n",
       "      <td>NO</td>\n",
       "      <td>YES</td>\n",
       "      <td>NO</td>\n",
       "    </tr>\n",
       "    <tr>\n",
       "      <th>33748</th>\n",
       "      <td>2018</td>\n",
       "      <td>18000</td>\n",
       "      <td>Petrol</td>\n",
       "      <td>800</td>\n",
       "      <td>Manual</td>\n",
       "      <td>White</td>\n",
       "      <td>Local</td>\n",
       "      <td>Hatchback</td>\n",
       "      <td>Suzuki</td>\n",
       "      <td>Mehran</td>\n",
       "      <td>...</td>\n",
       "      <td>YES</td>\n",
       "      <td>YES</td>\n",
       "      <td>YES</td>\n",
       "      <td>NO</td>\n",
       "      <td>NO</td>\n",
       "      <td>NO</td>\n",
       "      <td>NO</td>\n",
       "      <td>NO</td>\n",
       "      <td>YES</td>\n",
       "      <td>NO</td>\n",
       "    </tr>\n",
       "  </tbody>\n",
       "</table>\n",
       "<p>4 rows × 39 columns</p>\n",
       "</div>"
      ],
      "text/plain": [
       "       Model Year  Mileage Engine Type  Engine Capacity Transmission  Color  \\\n",
       "20049        2008    50000      Petrol             1000       Manual  White   \n",
       "38118        2011    80000      Petrol              800       Manual  Black   \n",
       "42224        2016    54000      Petrol              660    Automatic  White   \n",
       "33748        2018    18000      Petrol              800       Manual  White   \n",
       "\n",
       "       Assembly  Body Type Manufacturer   Model  ...  Power Mirrors  \\\n",
       "20049     Local  Hatchback       Suzuki    Alto  ...            YES   \n",
       "38118     Local  Hatchback       Suzuki  Mehran  ...            YES   \n",
       "42224  Imported   Mini Van        Mazda   Flair  ...            YES   \n",
       "33748     Local  Hatchback       Suzuki  Mehran  ...            YES   \n",
       "\n",
       "       Power Steering  Power Windows  Rear AC Vents  Rear Camera  \\\n",
       "20049             YES            YES             NO           NO   \n",
       "38118             YES            YES             NO           NO   \n",
       "42224             YES            YES             NO           NO   \n",
       "33748             YES            YES             NO           NO   \n",
       "\n",
       "       Rear Seat Entertainment  Rear speakers  Steering Switches  Sun Roof  \\\n",
       "20049                       NO             NO                 NO       YES   \n",
       "38118                       NO             NO                 NO       YES   \n",
       "42224                       NO             NO                 NO       YES   \n",
       "33748                       NO             NO                 NO       YES   \n",
       "\n",
       "       USB and Auxillary Cable  \n",
       "20049                       NO  \n",
       "38118                       NO  \n",
       "42224                       NO  \n",
       "33748                       NO  \n",
       "\n",
       "[4 rows x 39 columns]"
      ]
     },
     "execution_count": 541,
     "metadata": {},
     "output_type": "execute_result"
    }
   ],
   "source": [
    "X.sample(4)"
   ]
  },
  {
   "cell_type": "code",
   "execution_count": null,
   "metadata": {},
   "outputs": [],
   "source": []
  },
  {
   "cell_type": "code",
   "execution_count": null,
   "metadata": {},
   "outputs": [],
   "source": []
  },
  {
   "cell_type": "code",
   "execution_count": null,
   "metadata": {},
   "outputs": [],
   "source": []
  },
  {
   "cell_type": "code",
   "execution_count": null,
   "metadata": {},
   "outputs": [],
   "source": [
    "\n"
   ]
  },
  {
   "cell_type": "code",
   "execution_count": null,
   "metadata": {},
   "outputs": [],
   "source": []
  }
 ],
 "metadata": {
  "kernelspec": {
   "display_name": "Python 3.9.12 ('base')",
   "language": "python",
   "name": "python3"
  },
  "language_info": {
   "codemirror_mode": {
    "name": "ipython",
    "version": 3
   },
   "file_extension": ".py",
   "mimetype": "text/x-python",
   "name": "python",
   "nbconvert_exporter": "python",
   "pygments_lexer": "ipython3",
   "version": "3.9.12"
  },
  "orig_nbformat": 4,
  "vscode": {
   "interpreter": {
    "hash": "67c93f2893e4f75a612fd1a15e3a8791b98cf984a7e07623699758511b15e5c8"
   }
  }
 },
 "nbformat": 4,
 "nbformat_minor": 2
}
